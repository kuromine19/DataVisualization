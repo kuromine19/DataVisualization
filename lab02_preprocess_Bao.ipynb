{
 "cells": [
  {
   "attachments": {},
   "cell_type": "markdown",
   "metadata": {},
   "source": [
    "# <font color=#0404B4>**LAB 02 - TRỰC QUAN HÓA DỮ LIỆU** </font>\n",
    "\n",
    "### <font color=#0404B4> Bảng thành viên nhóm </font>\n",
    "|<center><div style=\"width:150px\">MSSV</div><center>|<center><div style=\"width:290px\">Họ và tên</div><center>|\n",
    "|---------- |:-------------:|\n",
    "| <center>20120041<center>  | <center>Trần Kim Bảo<center> |\n",
    "| <center>20120053<center>  |   <center>Nguyễn Thành Đạt<center>   | \n",
    "| <center>20120071<center>  |<center>Nguyễn Thị Bích Hà<center> |\n",
    "| <center>20120084<center>  | <center>Nguyễn Văn Hiếu<center> |\n",
    "| <center>20120113<center>  | <center>Lê Nguyên Khang<center> |"
   ]
  },
  {
   "cell_type": "markdown",
   "metadata": {},
   "source": [
    "# <font color=#0404B4>Import thư viện</font>"
   ]
  },
  {
   "cell_type": "code",
   "execution_count": 1,
   "metadata": {},
   "outputs": [],
   "source": [
    "import pandas as pd\n",
    "import numpy as np\n",
    "import matplotlib.pyplot as plt\n",
    "import seaborn as sns\n",
    "sns.set_theme()"
   ]
  },
  {
   "attachments": {},
   "cell_type": "markdown",
   "metadata": {},
   "source": [
    "# <font color=#0404B4> A. Thu thập dữ liệu</font>\n",
    "\n",
    "### Tại sao lại chọn bộ dữ liệu này?\n",
    "\n",
    "### Nguồn gốc và giấy phép sử dụng của bộ dữ liệu?\n"
   ]
  },
  {
   "cell_type": "markdown",
   "metadata": {},
   "source": [
    "<a name=\"2\"></a>\n",
    "# <font color=#0404B4> B. Khám phá và tiền xử lý dữ liệu</font>\n"
   ]
  },
  {
   "attachments": {},
   "cell_type": "markdown",
   "metadata": {},
   "source": [
    "### 1. Đọc dữ liệu từ file và merge dữ liệu lại thành 1 dataframe\n"
   ]
  },
  {
   "cell_type": "code",
   "execution_count": 2,
   "metadata": {},
   "outputs": [],
   "source": [
    "df1=pd.read_csv(\"mortality_life_expectancy.csv\")"
   ]
  },
  {
   "cell_type": "code",
   "execution_count": 3,
   "metadata": {},
   "outputs": [
    {
     "data": {
      "text/plain": [
       "(15106, 15)"
      ]
     },
     "execution_count": 3,
     "metadata": {},
     "output_type": "execute_result"
    }
   ],
   "source": [
    "df1.shape"
   ]
  },
  {
   "cell_type": "code",
   "execution_count": 4,
   "metadata": {},
   "outputs": [],
   "source": [
    "df2=pd.read_csv(\"age_specific_fertility_rates.csv\")"
   ]
  },
  {
   "cell_type": "code",
   "execution_count": 5,
   "metadata": {},
   "outputs": [
    {
     "data": {
      "text/plain": [
       "(15106, 13)"
      ]
     },
     "execution_count": 5,
     "metadata": {},
     "output_type": "execute_result"
    }
   ],
   "source": [
    "df2.shape"
   ]
  },
  {
   "cell_type": "code",
   "execution_count": 6,
   "metadata": {},
   "outputs": [],
   "source": [
    "df3=pd.read_csv(\"birth_death_growth_rates.csv\")"
   ]
  },
  {
   "cell_type": "code",
   "execution_count": 7,
   "metadata": {},
   "outputs": [
    {
     "data": {
      "text/plain": [
       "(15109, 8)"
      ]
     },
     "execution_count": 7,
     "metadata": {},
     "output_type": "execute_result"
    }
   ],
   "source": [
    "df3.shape"
   ]
  },
  {
   "cell_type": "code",
   "execution_count": 8,
   "metadata": {},
   "outputs": [],
   "source": [
    "merge_df=pd.merge(df1,df3,on=['country_code', 'country_name', 'year'])"
   ]
  },
  {
   "cell_type": "code",
   "execution_count": 9,
   "metadata": {},
   "outputs": [],
   "source": [
    "df=pd.merge(merge_df,df2,on=['country_code', 'country_name', 'year'])"
   ]
  },
  {
   "cell_type": "code",
   "execution_count": 10,
   "metadata": {},
   "outputs": [
    {
     "data": {
      "text/html": [
       "<div>\n",
       "<style scoped>\n",
       "    .dataframe tbody tr th:only-of-type {\n",
       "        vertical-align: middle;\n",
       "    }\n",
       "\n",
       "    .dataframe tbody tr th {\n",
       "        vertical-align: top;\n",
       "    }\n",
       "\n",
       "    .dataframe thead th {\n",
       "        text-align: right;\n",
       "    }\n",
       "</style>\n",
       "<table border=\"1\" class=\"dataframe\">\n",
       "  <thead>\n",
       "    <tr style=\"text-align: right;\">\n",
       "      <th></th>\n",
       "      <th>country_code</th>\n",
       "      <th>country_name</th>\n",
       "      <th>year</th>\n",
       "      <th>infant_mortality</th>\n",
       "      <th>infant_mortality_male</th>\n",
       "      <th>infant_mortality_female</th>\n",
       "      <th>life_expectancy</th>\n",
       "      <th>life_expectancy_male</th>\n",
       "      <th>life_expectancy_female</th>\n",
       "      <th>mortality_rate_under5</th>\n",
       "      <th>...</th>\n",
       "      <th>fertility_rate_15_19</th>\n",
       "      <th>fertility_rate_20_24</th>\n",
       "      <th>fertility_rate_25_29</th>\n",
       "      <th>fertility_rate_30_34</th>\n",
       "      <th>fertility_rate_35_39</th>\n",
       "      <th>fertility_rate_40_44</th>\n",
       "      <th>fertility_rate_45_49</th>\n",
       "      <th>total_fertility_rate</th>\n",
       "      <th>gross_reproduction_rate</th>\n",
       "      <th>sex_ratio_at_birth</th>\n",
       "    </tr>\n",
       "  </thead>\n",
       "  <tbody>\n",
       "    <tr>\n",
       "      <th>0</th>\n",
       "      <td>SI</td>\n",
       "      <td>Slovenia</td>\n",
       "      <td>2036</td>\n",
       "      <td>3.39</td>\n",
       "      <td>3.76</td>\n",
       "      <td>3.00</td>\n",
       "      <td>80.90</td>\n",
       "      <td>77.51</td>\n",
       "      <td>84.52</td>\n",
       "      <td>3.93</td>\n",
       "      <td>...</td>\n",
       "      <td>8.5</td>\n",
       "      <td>60.2</td>\n",
       "      <td>112.0</td>\n",
       "      <td>86.3</td>\n",
       "      <td>32.0</td>\n",
       "      <td>8.8</td>\n",
       "      <td>3.7</td>\n",
       "      <td>1.5555</td>\n",
       "      <td>0.7529</td>\n",
       "      <td>1.0660</td>\n",
       "    </tr>\n",
       "    <tr>\n",
       "      <th>1</th>\n",
       "      <td>SI</td>\n",
       "      <td>Slovenia</td>\n",
       "      <td>2022</td>\n",
       "      <td>3.76</td>\n",
       "      <td>4.22</td>\n",
       "      <td>3.27</td>\n",
       "      <td>79.11</td>\n",
       "      <td>75.58</td>\n",
       "      <td>82.89</td>\n",
       "      <td>4.43</td>\n",
       "      <td>...</td>\n",
       "      <td>7.5</td>\n",
       "      <td>56.4</td>\n",
       "      <td>106.1</td>\n",
       "      <td>75.5</td>\n",
       "      <td>26.7</td>\n",
       "      <td>6.4</td>\n",
       "      <td>2.3</td>\n",
       "      <td>1.4110</td>\n",
       "      <td>0.6829</td>\n",
       "      <td>1.0661</td>\n",
       "    </tr>\n",
       "    <tr>\n",
       "      <th>2</th>\n",
       "      <td>SI</td>\n",
       "      <td>Slovenia</td>\n",
       "      <td>2023</td>\n",
       "      <td>3.73</td>\n",
       "      <td>4.18</td>\n",
       "      <td>3.25</td>\n",
       "      <td>79.26</td>\n",
       "      <td>75.73</td>\n",
       "      <td>83.02</td>\n",
       "      <td>4.39</td>\n",
       "      <td>...</td>\n",
       "      <td>7.6</td>\n",
       "      <td>56.5</td>\n",
       "      <td>106.6</td>\n",
       "      <td>76.2</td>\n",
       "      <td>27.2</td>\n",
       "      <td>6.6</td>\n",
       "      <td>2.4</td>\n",
       "      <td>1.4213</td>\n",
       "      <td>0.6879</td>\n",
       "      <td>1.0660</td>\n",
       "    </tr>\n",
       "    <tr>\n",
       "      <th>3</th>\n",
       "      <td>SI</td>\n",
       "      <td>Slovenia</td>\n",
       "      <td>2024</td>\n",
       "      <td>3.70</td>\n",
       "      <td>4.14</td>\n",
       "      <td>3.22</td>\n",
       "      <td>79.40</td>\n",
       "      <td>75.89</td>\n",
       "      <td>83.15</td>\n",
       "      <td>4.35</td>\n",
       "      <td>...</td>\n",
       "      <td>7.7</td>\n",
       "      <td>56.8</td>\n",
       "      <td>107.0</td>\n",
       "      <td>77.1</td>\n",
       "      <td>27.5</td>\n",
       "      <td>6.7</td>\n",
       "      <td>2.5</td>\n",
       "      <td>1.4316</td>\n",
       "      <td>0.6929</td>\n",
       "      <td>1.0660</td>\n",
       "    </tr>\n",
       "    <tr>\n",
       "      <th>4</th>\n",
       "      <td>SI</td>\n",
       "      <td>Slovenia</td>\n",
       "      <td>2025</td>\n",
       "      <td>3.67</td>\n",
       "      <td>4.10</td>\n",
       "      <td>3.20</td>\n",
       "      <td>79.55</td>\n",
       "      <td>76.04</td>\n",
       "      <td>83.29</td>\n",
       "      <td>4.31</td>\n",
       "      <td>...</td>\n",
       "      <td>7.7</td>\n",
       "      <td>56.9</td>\n",
       "      <td>107.4</td>\n",
       "      <td>78.0</td>\n",
       "      <td>27.7</td>\n",
       "      <td>6.9</td>\n",
       "      <td>2.6</td>\n",
       "      <td>1.4419</td>\n",
       "      <td>0.6979</td>\n",
       "      <td>1.0661</td>\n",
       "    </tr>\n",
       "  </tbody>\n",
       "</table>\n",
       "<p>5 rows × 30 columns</p>\n",
       "</div>"
      ],
      "text/plain": [
       "  country_code country_name  year  infant_mortality  infant_mortality_male  \\\n",
       "0           SI     Slovenia  2036              3.39                   3.76   \n",
       "1           SI     Slovenia  2022              3.76                   4.22   \n",
       "2           SI     Slovenia  2023              3.73                   4.18   \n",
       "3           SI     Slovenia  2024              3.70                   4.14   \n",
       "4           SI     Slovenia  2025              3.67                   4.10   \n",
       "\n",
       "   infant_mortality_female  life_expectancy  life_expectancy_male  \\\n",
       "0                     3.00            80.90                 77.51   \n",
       "1                     3.27            79.11                 75.58   \n",
       "2                     3.25            79.26                 75.73   \n",
       "3                     3.22            79.40                 75.89   \n",
       "4                     3.20            79.55                 76.04   \n",
       "\n",
       "   life_expectancy_female  mortality_rate_under5  ...  fertility_rate_15_19  \\\n",
       "0                   84.52                   3.93  ...                   8.5   \n",
       "1                   82.89                   4.43  ...                   7.5   \n",
       "2                   83.02                   4.39  ...                   7.6   \n",
       "3                   83.15                   4.35  ...                   7.7   \n",
       "4                   83.29                   4.31  ...                   7.7   \n",
       "\n",
       "   fertility_rate_20_24  fertility_rate_25_29  fertility_rate_30_34  \\\n",
       "0                  60.2                 112.0                  86.3   \n",
       "1                  56.4                 106.1                  75.5   \n",
       "2                  56.5                 106.6                  76.2   \n",
       "3                  56.8                 107.0                  77.1   \n",
       "4                  56.9                 107.4                  78.0   \n",
       "\n",
       "   fertility_rate_35_39  fertility_rate_40_44  fertility_rate_45_49  \\\n",
       "0                  32.0                   8.8                   3.7   \n",
       "1                  26.7                   6.4                   2.3   \n",
       "2                  27.2                   6.6                   2.4   \n",
       "3                  27.5                   6.7                   2.5   \n",
       "4                  27.7                   6.9                   2.6   \n",
       "\n",
       "   total_fertility_rate  gross_reproduction_rate  sex_ratio_at_birth  \n",
       "0                1.5555                   0.7529              1.0660  \n",
       "1                1.4110                   0.6829              1.0661  \n",
       "2                1.4213                   0.6879              1.0660  \n",
       "3                1.4316                   0.6929              1.0660  \n",
       "4                1.4419                   0.6979              1.0661  \n",
       "\n",
       "[5 rows x 30 columns]"
      ]
     },
     "execution_count": 10,
     "metadata": {},
     "output_type": "execute_result"
    }
   ],
   "source": [
    "df.head()"
   ]
  },
  {
   "cell_type": "code",
   "execution_count": 11,
   "metadata": {},
   "outputs": [
    {
     "data": {
      "text/plain": [
       "(15106, 30)"
      ]
     },
     "execution_count": 11,
     "metadata": {},
     "output_type": "execute_result"
    }
   ],
   "source": [
    "df.shape"
   ]
  },
  {
   "cell_type": "markdown",
   "metadata": {},
   "source": [
    "### 2. Mỗi dòng có ý nghĩa gì? Có vấn đề các dòng có ý nghĩa khác nhau không?"
   ]
  },
  {
   "attachments": {},
   "cell_type": "markdown",
   "metadata": {},
   "source": [
    "* Mỗi dòng thể hiện thông tin của 1 quốc gia hoặc vùng lãnh thổ trong 1 năm, ví dụ như: thông tin tử vong và tuổi thọ trung bình (chia thành 2 nhóm nam và nữ), tỉ lệ sinh - tử (chi tiết ra thành những khoảng độ tuổi), tỉ lệ tăng trưởng.\n",
    "* **Không** có dòng nào có ý nghĩa khác nhau."
   ]
  },
  {
   "cell_type": "markdown",
   "metadata": {},
   "source": [
    "### 3. Dữ liệu có các dòng bị lặp không?"
   ]
  },
  {
   "attachments": {},
   "cell_type": "markdown",
   "metadata": {},
   "source": [
    "Kiểm tra việc này và lưu kết quả vào biến `have_duplicated_rows`. Biến này sẽ có giá trị `True` nếu dữ liệu có các dòng bị lặp và có giá trị `False` nếu ngược lại. Các thuộc tính `country_code`, `country_name`, `year` được xem là những thuộc tính khóa chính, định danh cho từng mẫu của dataframe."
   ]
  },
  {
   "cell_type": "code",
   "execution_count": 20,
   "metadata": {},
   "outputs": [
    {
     "name": "stdout",
     "output_type": "stream",
     "text": [
      "Không có dòng dữ liệu nào bị lặp\n"
     ]
    }
   ],
   "source": [
    "check_duplicated = set(df.loc[:,['country_code', 'country_name', 'year']].duplicated())\n",
    "\n",
    "if True in check_duplicated:\n",
    "    have_duplicated_rows = True\n",
    "else:\n",
    "    have_duplicated_rows = False\n",
    "    \n",
    "if (have_duplicated_rows == True):\n",
    "    print('Có dòng dữ liệu bị lặp')\n",
    "else:\n",
    "    print('Không có dòng dữ liệu nào bị lặp')"
   ]
  },
  {
   "cell_type": "markdown",
   "metadata": {},
   "source": [
    "<h3> 4. Mỗi cột có ý nghĩa gì?</h3>"
   ]
  },
  {
   "cell_type": "code",
   "execution_count": 27,
   "metadata": {},
   "outputs": [
    {
     "data": {
      "text/html": [
       "<div>\n",
       "<style scoped>\n",
       "    .dataframe tbody tr th:only-of-type {\n",
       "        vertical-align: middle;\n",
       "    }\n",
       "\n",
       "    .dataframe tbody tr th {\n",
       "        vertical-align: top;\n",
       "    }\n",
       "\n",
       "    .dataframe thead th {\n",
       "        text-align: right;\n",
       "    }\n",
       "</style>\n",
       "<table border=\"1\" class=\"dataframe\">\n",
       "  <thead>\n",
       "    <tr style=\"text-align: right;\">\n",
       "      <th></th>\n",
       "      <th>country_code</th>\n",
       "      <th>country_name</th>\n",
       "      <th>year</th>\n",
       "      <th>infant_mortality</th>\n",
       "      <th>infant_mortality_male</th>\n",
       "      <th>infant_mortality_female</th>\n",
       "      <th>life_expectancy</th>\n",
       "      <th>life_expectancy_male</th>\n",
       "      <th>life_expectancy_female</th>\n",
       "      <th>mortality_rate_under5</th>\n",
       "      <th>...</th>\n",
       "      <th>fertility_rate_15_19</th>\n",
       "      <th>fertility_rate_20_24</th>\n",
       "      <th>fertility_rate_25_29</th>\n",
       "      <th>fertility_rate_30_34</th>\n",
       "      <th>fertility_rate_35_39</th>\n",
       "      <th>fertility_rate_40_44</th>\n",
       "      <th>fertility_rate_45_49</th>\n",
       "      <th>total_fertility_rate</th>\n",
       "      <th>gross_reproduction_rate</th>\n",
       "      <th>sex_ratio_at_birth</th>\n",
       "    </tr>\n",
       "  </thead>\n",
       "  <tbody>\n",
       "    <tr>\n",
       "      <th>0</th>\n",
       "      <td>SI</td>\n",
       "      <td>Slovenia</td>\n",
       "      <td>2036</td>\n",
       "      <td>3.39</td>\n",
       "      <td>3.76</td>\n",
       "      <td>3.00</td>\n",
       "      <td>80.90</td>\n",
       "      <td>77.51</td>\n",
       "      <td>84.52</td>\n",
       "      <td>3.93</td>\n",
       "      <td>...</td>\n",
       "      <td>8.5</td>\n",
       "      <td>60.2</td>\n",
       "      <td>112.0</td>\n",
       "      <td>86.3</td>\n",
       "      <td>32.0</td>\n",
       "      <td>8.8</td>\n",
       "      <td>3.7</td>\n",
       "      <td>1.5555</td>\n",
       "      <td>0.7529</td>\n",
       "      <td>1.0660</td>\n",
       "    </tr>\n",
       "    <tr>\n",
       "      <th>1</th>\n",
       "      <td>SI</td>\n",
       "      <td>Slovenia</td>\n",
       "      <td>2022</td>\n",
       "      <td>3.76</td>\n",
       "      <td>4.22</td>\n",
       "      <td>3.27</td>\n",
       "      <td>79.11</td>\n",
       "      <td>75.58</td>\n",
       "      <td>82.89</td>\n",
       "      <td>4.43</td>\n",
       "      <td>...</td>\n",
       "      <td>7.5</td>\n",
       "      <td>56.4</td>\n",
       "      <td>106.1</td>\n",
       "      <td>75.5</td>\n",
       "      <td>26.7</td>\n",
       "      <td>6.4</td>\n",
       "      <td>2.3</td>\n",
       "      <td>1.4110</td>\n",
       "      <td>0.6829</td>\n",
       "      <td>1.0661</td>\n",
       "    </tr>\n",
       "    <tr>\n",
       "      <th>2</th>\n",
       "      <td>SI</td>\n",
       "      <td>Slovenia</td>\n",
       "      <td>2023</td>\n",
       "      <td>3.73</td>\n",
       "      <td>4.18</td>\n",
       "      <td>3.25</td>\n",
       "      <td>79.26</td>\n",
       "      <td>75.73</td>\n",
       "      <td>83.02</td>\n",
       "      <td>4.39</td>\n",
       "      <td>...</td>\n",
       "      <td>7.6</td>\n",
       "      <td>56.5</td>\n",
       "      <td>106.6</td>\n",
       "      <td>76.2</td>\n",
       "      <td>27.2</td>\n",
       "      <td>6.6</td>\n",
       "      <td>2.4</td>\n",
       "      <td>1.4213</td>\n",
       "      <td>0.6879</td>\n",
       "      <td>1.0660</td>\n",
       "    </tr>\n",
       "    <tr>\n",
       "      <th>3</th>\n",
       "      <td>SI</td>\n",
       "      <td>Slovenia</td>\n",
       "      <td>2024</td>\n",
       "      <td>3.70</td>\n",
       "      <td>4.14</td>\n",
       "      <td>3.22</td>\n",
       "      <td>79.40</td>\n",
       "      <td>75.89</td>\n",
       "      <td>83.15</td>\n",
       "      <td>4.35</td>\n",
       "      <td>...</td>\n",
       "      <td>7.7</td>\n",
       "      <td>56.8</td>\n",
       "      <td>107.0</td>\n",
       "      <td>77.1</td>\n",
       "      <td>27.5</td>\n",
       "      <td>6.7</td>\n",
       "      <td>2.5</td>\n",
       "      <td>1.4316</td>\n",
       "      <td>0.6929</td>\n",
       "      <td>1.0660</td>\n",
       "    </tr>\n",
       "    <tr>\n",
       "      <th>4</th>\n",
       "      <td>SI</td>\n",
       "      <td>Slovenia</td>\n",
       "      <td>2025</td>\n",
       "      <td>3.67</td>\n",
       "      <td>4.10</td>\n",
       "      <td>3.20</td>\n",
       "      <td>79.55</td>\n",
       "      <td>76.04</td>\n",
       "      <td>83.29</td>\n",
       "      <td>4.31</td>\n",
       "      <td>...</td>\n",
       "      <td>7.7</td>\n",
       "      <td>56.9</td>\n",
       "      <td>107.4</td>\n",
       "      <td>78.0</td>\n",
       "      <td>27.7</td>\n",
       "      <td>6.9</td>\n",
       "      <td>2.6</td>\n",
       "      <td>1.4419</td>\n",
       "      <td>0.6979</td>\n",
       "      <td>1.0661</td>\n",
       "    </tr>\n",
       "  </tbody>\n",
       "</table>\n",
       "<p>5 rows × 30 columns</p>\n",
       "</div>"
      ],
      "text/plain": [
       "  country_code country_name  year  infant_mortality  infant_mortality_male  \\\n",
       "0           SI     Slovenia  2036              3.39                   3.76   \n",
       "1           SI     Slovenia  2022              3.76                   4.22   \n",
       "2           SI     Slovenia  2023              3.73                   4.18   \n",
       "3           SI     Slovenia  2024              3.70                   4.14   \n",
       "4           SI     Slovenia  2025              3.67                   4.10   \n",
       "\n",
       "   infant_mortality_female  life_expectancy  life_expectancy_male  \\\n",
       "0                     3.00            80.90                 77.51   \n",
       "1                     3.27            79.11                 75.58   \n",
       "2                     3.25            79.26                 75.73   \n",
       "3                     3.22            79.40                 75.89   \n",
       "4                     3.20            79.55                 76.04   \n",
       "\n",
       "   life_expectancy_female  mortality_rate_under5  ...  fertility_rate_15_19  \\\n",
       "0                   84.52                   3.93  ...                   8.5   \n",
       "1                   82.89                   4.43  ...                   7.5   \n",
       "2                   83.02                   4.39  ...                   7.6   \n",
       "3                   83.15                   4.35  ...                   7.7   \n",
       "4                   83.29                   4.31  ...                   7.7   \n",
       "\n",
       "   fertility_rate_20_24  fertility_rate_25_29  fertility_rate_30_34  \\\n",
       "0                  60.2                 112.0                  86.3   \n",
       "1                  56.4                 106.1                  75.5   \n",
       "2                  56.5                 106.6                  76.2   \n",
       "3                  56.8                 107.0                  77.1   \n",
       "4                  56.9                 107.4                  78.0   \n",
       "\n",
       "   fertility_rate_35_39  fertility_rate_40_44  fertility_rate_45_49  \\\n",
       "0                  32.0                   8.8                   3.7   \n",
       "1                  26.7                   6.4                   2.3   \n",
       "2                  27.2                   6.6                   2.4   \n",
       "3                  27.5                   6.7                   2.5   \n",
       "4                  27.7                   6.9                   2.6   \n",
       "\n",
       "   total_fertility_rate  gross_reproduction_rate  sex_ratio_at_birth  \n",
       "0                1.5555                   0.7529              1.0660  \n",
       "1                1.4110                   0.6829              1.0661  \n",
       "2                1.4213                   0.6879              1.0660  \n",
       "3                1.4316                   0.6929              1.0660  \n",
       "4                1.4419                   0.6979              1.0661  \n",
       "\n",
       "[5 rows x 30 columns]"
      ]
     },
     "execution_count": 27,
     "metadata": {},
     "output_type": "execute_result"
    }
   ],
   "source": [
    "df.head()"
   ]
  },
  {
   "attachments": {},
   "cell_type": "markdown",
   "metadata": {},
   "source": [
    "|STT|Tên cột dữ liệu | <center>Mô tả<center> |<center> Đơn vị <center>|\n",
    "|--|:------:| ---| --- |\n",
    "|1|country_code|<center>Mã quốc gia/ mã vùng lãnh thổ<center>|\n",
    "|2|country_name| <center>Tên quốc gia/ vùng lãnh thổ<center>|\n",
    "|3|year|<center>Năm thu thập<center>| <center>Năm<center>\n",
    "|4|infant_mortality| <center> Tỷ lệ tử vong sơ sinh<center>| <center>Số trẻ em chết sơ sinh/1.000 dân số<center>|\n",
    "|5|infant_mortality_male|<center>Tỷ lệ tử vong sơ sinh ở nam<center>|  <center>Số trẻ em chết sơ sinh/1.000 dân số<center>| \n",
    "|6|infant_mortality_female|<center>Tỷ lệ tử vong sơ sinh ở nữ<center>| <center>Số trẻ em chết sơ sinh/1.000 dân số<center>|\n",
    "|7|life_expectancy|<center>Tuổi thọ trung bình<center>| <center>Năm<center>|\n",
    "|8|life_expectancy_male|<center>Tuổi thọ trung bình ở nam<center>| <center>Năm<center>|\n",
    "|9|life_expectancy_female|<center>Tuổi thọ trung bình ở nữ<center>| <center>Năm<center>|\n",
    "|10|mortality_rate_under5|<center>Tỷ lệ tử vong `dưới 5` tuổi<center>| |\n",
    "|11|mortality_rate_under5_male|<center>Tỷ lệ tử vong `dưới 5` tuổi ở nam<center>| |\n",
    "|12|mortality_rate_under5_female|<center>Tỷ lệ tử vong `dưới 5` tuổi ở nữ<center>| |\n",
    "|13|mortality_rate_1to4|<center>Tỷ lệ tử vong `1-4` tuổi<center>| |\n",
    "|14|mortality_rate_1to4_male|<center>Tỷ lệ tử vong `1-4` tuổi ở nam<center>|  |\n",
    "|15|mortality_rate_1to4_female|<center>Tỷ lệ tử vong `1-4`tuổi ở nữ<center>|  |\n",
    "|16|crude_birth_rate|<center>Tỷ lệ sinh thô<center>|<center>Sinh sản/1.000 dân số<center>|\n",
    "|17|crude_death_rate|<center>Tỷ lệ tử vong thô<center>|<center>Số người chết/1.000 dân số<center>|\n",
    "|18|net_migration|<center>Tỷ lệ di cư<center>|<center>Số người di dân/1.000 dân số<center>|\n",
    "|19|rate_natural_increase|<center>ỷ lệ tăng tự nhiên<center>|<center>%<center>|\n",
    "|20|growth_rate|<center>Tỷ lệ tăng trưởng<center>|<center>%<center>|\n",
    "|21|fertility_rate_15_19|<center>Tỷ lệ sinh sản cụ thể theo độ tuổi `15-19`<center>|<center>Số trẻ sinh/1.000 dân số<center>|\n",
    "|22|fertility_rate_20_24|<center>Tỷ lệ sinh sản cụ thể theo độ tuổi `20-24`<center>|<center>Số trẻ sinh/1.000 dân số<center>|\n",
    "|23|fertility_rate_25_29|<center>Tỷ lệ sinh sản cụ thể theo độ tuổi `25-29`<center>|<center>Số trẻ sinh/1.000 dân số<center>|\n",
    "|24|fertility_rate_30_34|<center>Tỷ lệ sinh sản cụ thể theo độ tuổi `30-34`<center>|<center>Số trẻ sinh/1.000 dân số<center>|\n",
    "|25|fertility_rate_35_39|<center>Tỷ lệ sinh sản cụ thể theo độ tuổi `35-39`<center>|<center>Số trẻ sinh/1.000 dân số<center>|\n",
    "|26|fertility_rate_40_44|<center>Tỷ lệ sinh sản cụ thể theo độ tuổi `40-44`<center>|<center>Số trẻ sinh/1.000 dân số<center>|\n",
    "|27|fertility_rate_45_49|<center>Tỷ lệ sinh sản cụ thể theo độ tuổi `45-49`<center>|<center>Số trẻ sinh/1.000 dân số<center>|\n",
    "|28|total_fertility_rate|<center>Tỷ lệ sinh sản tổng thể <center>|<center>con/phụ nữ<center>|\n",
    "|29|gross_reproduction_rate|<center>Tỷ lệ sinh con gái<center>|<center>con/phụ nữ<center>|\n",
    "|30|sex_ratio_at_birth|<center>Tỷ lệ giới tính khi sinh<center>|<center>Số trẻ sinh nam chia sô trẻ sinh nữ<center>|\n",
    "\n",
    "\n",
    "\n",
    "* **Thời gian cập nhật dữ liệu:** năm 2017"
   ]
  },
  {
   "cell_type": "markdown",
   "metadata": {},
   "source": []
  }
 ],
 "metadata": {
  "kernelspec": {
   "display_name": "Python 3",
   "language": "python",
   "name": "python3"
  },
  "language_info": {
   "codemirror_mode": {
    "name": "ipython",
    "version": 3
   },
   "file_extension": ".py",
   "mimetype": "text/x-python",
   "name": "python",
   "nbconvert_exporter": "python",
   "pygments_lexer": "ipython3",
   "version": "3.8.8"
  },
  "orig_nbformat": 4
 },
 "nbformat": 4,
 "nbformat_minor": 2
}
