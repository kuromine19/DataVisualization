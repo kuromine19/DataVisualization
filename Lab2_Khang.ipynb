{
 "cells": [
  {
   "cell_type": "markdown",
   "metadata": {},
   "source": [
    "# <font color=#0404B4>**LAB 01 - TRỰC QUAN HÓA DỮ LIỆU** </font>\n",
    "\n",
    "### <font color=#0404B4> Bảng thành viên nhóm </font>\n",
    "|<center><div style=\"width:150px\">MSSV</div><center>|<center><div style=\"width:290px\">Họ và tên</div><center>|\n",
    "|---------- |:-------------:|\n",
    "| <center>20120041<center>  | <center>Trần Kim Bảo<center> |\n",
    "| <center>20120053<center>  |   <center>Nguyễn Thành Đạt<center>   | \n",
    "| <center>20120071<center>  |<center>Nguyễn Thị Bích Hà<center> |\n",
    "| <center>20120084<center>  | <center>Nguyễn Văn Hiếu<center> |\n",
    "| <center>20120113<center>  | <center>Lê Nguyên Khang<center> |"
   ]
  },
  {
   "cell_type": "markdown",
   "metadata": {},
   "source": [
    "# <font color=#0404B4>Import thư viện</font>"
   ]
  },
  {
   "cell_type": "code",
   "execution_count": 1,
   "metadata": {},
   "outputs": [],
   "source": [
    "import pandas as pd\n",
    "import numpy as np\n",
    "import matplotlib.pyplot as plt\n",
    "import seaborn as sns\n",
    "sns.set_theme()"
   ]
  },
  {
   "attachments": {},
   "cell_type": "markdown",
   "metadata": {},
   "source": [
    "# <font color=#0404B4> A. Thu thập dữ liệu</font>\n",
    "\n",
    "### Tại sao lại chọn bộ dữ liệu này?\n",
    "\n",
    "### Nguồn gốc và giấy phép sử dụng của bộ dữ liệu?\n"
   ]
  },
  {
   "cell_type": "markdown",
   "metadata": {},
   "source": [
    "<a name=\"2\"></a>\n",
    "# <font color=#0404B4> B. Khám phá và tiền xử lý dữ liệu</font>\n"
   ]
  },
  {
   "attachments": {},
   "cell_type": "markdown",
   "metadata": {},
   "source": [
    "### 1. Đọc dữ liệu từ file và merge dữ liệu lại thành 1 dataframe\n"
   ]
  },
  {
   "cell_type": "code",
   "execution_count": 3,
   "metadata": {},
   "outputs": [],
   "source": [
    "df1=pd.read_csv(\"mortality_life_expectancy.csv\")"
   ]
  },
  {
   "cell_type": "code",
   "execution_count": 4,
   "metadata": {},
   "outputs": [
    {
     "data": {
      "text/plain": [
       "(15106, 15)"
      ]
     },
     "execution_count": 4,
     "metadata": {},
     "output_type": "execute_result"
    }
   ],
   "source": [
    "df1.shape"
   ]
  },
  {
   "cell_type": "code",
   "execution_count": 5,
   "metadata": {},
   "outputs": [],
   "source": [
    "df2=pd.read_csv(\"age_specific_fertility_rates.csv\")"
   ]
  },
  {
   "cell_type": "code",
   "execution_count": 6,
   "metadata": {},
   "outputs": [
    {
     "data": {
      "text/plain": [
       "(15106, 13)"
      ]
     },
     "execution_count": 6,
     "metadata": {},
     "output_type": "execute_result"
    }
   ],
   "source": [
    "df2.shape"
   ]
  },
  {
   "cell_type": "code",
   "execution_count": 7,
   "metadata": {},
   "outputs": [],
   "source": [
    "df3=pd.read_csv(\"birth_death_growth_rates.csv\")"
   ]
  },
  {
   "cell_type": "code",
   "execution_count": 8,
   "metadata": {},
   "outputs": [
    {
     "data": {
      "text/plain": [
       "(15109, 8)"
      ]
     },
     "execution_count": 8,
     "metadata": {},
     "output_type": "execute_result"
    }
   ],
   "source": [
    "df3.shape"
   ]
  },
  {
   "cell_type": "code",
   "execution_count": 9,
   "metadata": {},
   "outputs": [],
   "source": [
    "merge_df=pd.merge(df1,df3,on=['country_code', 'country_name', 'year'])"
   ]
  },
  {
   "cell_type": "code",
   "execution_count": 10,
   "metadata": {},
   "outputs": [
    {
     "data": {
      "text/plain": [
       "(15106, 20)"
      ]
     },
     "execution_count": 10,
     "metadata": {},
     "output_type": "execute_result"
    }
   ],
   "source": [
    "merge_df.shape"
   ]
  },
  {
   "cell_type": "code",
   "execution_count": 11,
   "metadata": {},
   "outputs": [],
   "source": [
    "df=pd.merge(merge_df,df2,on=['country_code', 'country_name', 'year'])"
   ]
  },
  {
   "cell_type": "code",
   "execution_count": 25,
   "metadata": {},
   "outputs": [
    {
     "data": {
      "text/plain": [
       "(15106, 30)"
      ]
     },
     "execution_count": 25,
     "metadata": {},
     "output_type": "execute_result"
    }
   ],
   "source": [
    "df.shape"
   ]
  },
  {
   "cell_type": "code",
   "execution_count": 12,
   "metadata": {},
   "outputs": [
    {
     "data": {
      "text/html": [
       "<div>\n",
       "<style scoped>\n",
       "    .dataframe tbody tr th:only-of-type {\n",
       "        vertical-align: middle;\n",
       "    }\n",
       "\n",
       "    .dataframe tbody tr th {\n",
       "        vertical-align: top;\n",
       "    }\n",
       "\n",
       "    .dataframe thead th {\n",
       "        text-align: right;\n",
       "    }\n",
       "</style>\n",
       "<table border=\"1\" class=\"dataframe\">\n",
       "  <thead>\n",
       "    <tr style=\"text-align: right;\">\n",
       "      <th></th>\n",
       "      <th>country_code</th>\n",
       "      <th>country_name</th>\n",
       "      <th>year</th>\n",
       "      <th>infant_mortality</th>\n",
       "      <th>infant_mortality_male</th>\n",
       "      <th>infant_mortality_female</th>\n",
       "      <th>life_expectancy</th>\n",
       "      <th>life_expectancy_male</th>\n",
       "      <th>life_expectancy_female</th>\n",
       "      <th>mortality_rate_under5</th>\n",
       "      <th>...</th>\n",
       "      <th>fertility_rate_15_19</th>\n",
       "      <th>fertility_rate_20_24</th>\n",
       "      <th>fertility_rate_25_29</th>\n",
       "      <th>fertility_rate_30_34</th>\n",
       "      <th>fertility_rate_35_39</th>\n",
       "      <th>fertility_rate_40_44</th>\n",
       "      <th>fertility_rate_45_49</th>\n",
       "      <th>total_fertility_rate</th>\n",
       "      <th>gross_reproduction_rate</th>\n",
       "      <th>sex_ratio_at_birth</th>\n",
       "    </tr>\n",
       "  </thead>\n",
       "  <tbody>\n",
       "    <tr>\n",
       "      <th>0</th>\n",
       "      <td>SI</td>\n",
       "      <td>Slovenia</td>\n",
       "      <td>2036</td>\n",
       "      <td>3.39</td>\n",
       "      <td>3.76</td>\n",
       "      <td>3.00</td>\n",
       "      <td>80.90</td>\n",
       "      <td>77.51</td>\n",
       "      <td>84.52</td>\n",
       "      <td>3.93</td>\n",
       "      <td>...</td>\n",
       "      <td>8.5</td>\n",
       "      <td>60.2</td>\n",
       "      <td>112.0</td>\n",
       "      <td>86.3</td>\n",
       "      <td>32.0</td>\n",
       "      <td>8.8</td>\n",
       "      <td>3.7</td>\n",
       "      <td>1.5555</td>\n",
       "      <td>0.7529</td>\n",
       "      <td>1.0660</td>\n",
       "    </tr>\n",
       "    <tr>\n",
       "      <th>1</th>\n",
       "      <td>SI</td>\n",
       "      <td>Slovenia</td>\n",
       "      <td>2022</td>\n",
       "      <td>3.76</td>\n",
       "      <td>4.22</td>\n",
       "      <td>3.27</td>\n",
       "      <td>79.11</td>\n",
       "      <td>75.58</td>\n",
       "      <td>82.89</td>\n",
       "      <td>4.43</td>\n",
       "      <td>...</td>\n",
       "      <td>7.5</td>\n",
       "      <td>56.4</td>\n",
       "      <td>106.1</td>\n",
       "      <td>75.5</td>\n",
       "      <td>26.7</td>\n",
       "      <td>6.4</td>\n",
       "      <td>2.3</td>\n",
       "      <td>1.4110</td>\n",
       "      <td>0.6829</td>\n",
       "      <td>1.0661</td>\n",
       "    </tr>\n",
       "    <tr>\n",
       "      <th>2</th>\n",
       "      <td>SI</td>\n",
       "      <td>Slovenia</td>\n",
       "      <td>2023</td>\n",
       "      <td>3.73</td>\n",
       "      <td>4.18</td>\n",
       "      <td>3.25</td>\n",
       "      <td>79.26</td>\n",
       "      <td>75.73</td>\n",
       "      <td>83.02</td>\n",
       "      <td>4.39</td>\n",
       "      <td>...</td>\n",
       "      <td>7.6</td>\n",
       "      <td>56.5</td>\n",
       "      <td>106.6</td>\n",
       "      <td>76.2</td>\n",
       "      <td>27.2</td>\n",
       "      <td>6.6</td>\n",
       "      <td>2.4</td>\n",
       "      <td>1.4213</td>\n",
       "      <td>0.6879</td>\n",
       "      <td>1.0660</td>\n",
       "    </tr>\n",
       "    <tr>\n",
       "      <th>3</th>\n",
       "      <td>SI</td>\n",
       "      <td>Slovenia</td>\n",
       "      <td>2024</td>\n",
       "      <td>3.70</td>\n",
       "      <td>4.14</td>\n",
       "      <td>3.22</td>\n",
       "      <td>79.40</td>\n",
       "      <td>75.89</td>\n",
       "      <td>83.15</td>\n",
       "      <td>4.35</td>\n",
       "      <td>...</td>\n",
       "      <td>7.7</td>\n",
       "      <td>56.8</td>\n",
       "      <td>107.0</td>\n",
       "      <td>77.1</td>\n",
       "      <td>27.5</td>\n",
       "      <td>6.7</td>\n",
       "      <td>2.5</td>\n",
       "      <td>1.4316</td>\n",
       "      <td>0.6929</td>\n",
       "      <td>1.0660</td>\n",
       "    </tr>\n",
       "    <tr>\n",
       "      <th>4</th>\n",
       "      <td>SI</td>\n",
       "      <td>Slovenia</td>\n",
       "      <td>2025</td>\n",
       "      <td>3.67</td>\n",
       "      <td>4.10</td>\n",
       "      <td>3.20</td>\n",
       "      <td>79.55</td>\n",
       "      <td>76.04</td>\n",
       "      <td>83.29</td>\n",
       "      <td>4.31</td>\n",
       "      <td>...</td>\n",
       "      <td>7.7</td>\n",
       "      <td>56.9</td>\n",
       "      <td>107.4</td>\n",
       "      <td>78.0</td>\n",
       "      <td>27.7</td>\n",
       "      <td>6.9</td>\n",
       "      <td>2.6</td>\n",
       "      <td>1.4419</td>\n",
       "      <td>0.6979</td>\n",
       "      <td>1.0661</td>\n",
       "    </tr>\n",
       "  </tbody>\n",
       "</table>\n",
       "<p>5 rows × 30 columns</p>\n",
       "</div>"
      ],
      "text/plain": [
       "  country_code country_name  year  infant_mortality  infant_mortality_male  \\\n",
       "0           SI     Slovenia  2036              3.39                   3.76   \n",
       "1           SI     Slovenia  2022              3.76                   4.22   \n",
       "2           SI     Slovenia  2023              3.73                   4.18   \n",
       "3           SI     Slovenia  2024              3.70                   4.14   \n",
       "4           SI     Slovenia  2025              3.67                   4.10   \n",
       "\n",
       "   infant_mortality_female  life_expectancy  life_expectancy_male  \\\n",
       "0                     3.00            80.90                 77.51   \n",
       "1                     3.27            79.11                 75.58   \n",
       "2                     3.25            79.26                 75.73   \n",
       "3                     3.22            79.40                 75.89   \n",
       "4                     3.20            79.55                 76.04   \n",
       "\n",
       "   life_expectancy_female  mortality_rate_under5  ...  fertility_rate_15_19  \\\n",
       "0                   84.52                   3.93  ...                   8.5   \n",
       "1                   82.89                   4.43  ...                   7.5   \n",
       "2                   83.02                   4.39  ...                   7.6   \n",
       "3                   83.15                   4.35  ...                   7.7   \n",
       "4                   83.29                   4.31  ...                   7.7   \n",
       "\n",
       "   fertility_rate_20_24  fertility_rate_25_29  fertility_rate_30_34  \\\n",
       "0                  60.2                 112.0                  86.3   \n",
       "1                  56.4                 106.1                  75.5   \n",
       "2                  56.5                 106.6                  76.2   \n",
       "3                  56.8                 107.0                  77.1   \n",
       "4                  56.9                 107.4                  78.0   \n",
       "\n",
       "   fertility_rate_35_39  fertility_rate_40_44  fertility_rate_45_49  \\\n",
       "0                  32.0                   8.8                   3.7   \n",
       "1                  26.7                   6.4                   2.3   \n",
       "2                  27.2                   6.6                   2.4   \n",
       "3                  27.5                   6.7                   2.5   \n",
       "4                  27.7                   6.9                   2.6   \n",
       "\n",
       "   total_fertility_rate  gross_reproduction_rate  sex_ratio_at_birth  \n",
       "0                1.5555                   0.7529              1.0660  \n",
       "1                1.4110                   0.6829              1.0661  \n",
       "2                1.4213                   0.6879              1.0660  \n",
       "3                1.4316                   0.6929              1.0660  \n",
       "4                1.4419                   0.6979              1.0661  \n",
       "\n",
       "[5 rows x 30 columns]"
      ]
     },
     "execution_count": 12,
     "metadata": {},
     "output_type": "execute_result"
    }
   ],
   "source": [
    "df.head()"
   ]
  },
  {
   "attachments": {},
   "cell_type": "markdown",
   "metadata": {},
   "source": [
    "# Khang"
   ]
  },
  {
   "cell_type": "code",
   "execution_count": 23,
   "metadata": {},
   "outputs": [
    {
     "name": "stdout",
     "output_type": "stream",
     "text": [
      "<class 'pandas.core.frame.DataFrame'>\n",
      "Int64Index: 15106 entries, 0 to 15105\n",
      "Data columns (total 30 columns):\n",
      " #   Column                        Non-Null Count  Dtype  \n",
      "---  ------                        --------------  -----  \n",
      " 0   country_code                  15106 non-null  object \n",
      " 1   country_name                  15106 non-null  object \n",
      " 2   year                          15106 non-null  int64  \n",
      " 3   infant_mortality              15106 non-null  float64\n",
      " 4   infant_mortality_male         15106 non-null  float64\n",
      " 5   infant_mortality_female       15106 non-null  float64\n",
      " 6   life_expectancy               15106 non-null  float64\n",
      " 7   life_expectancy_male          15106 non-null  float64\n",
      " 8   life_expectancy_female        15106 non-null  float64\n",
      " 9   mortality_rate_under5         15106 non-null  float64\n",
      " 10  mortality_rate_under5_male    15106 non-null  float64\n",
      " 11  mortality_rate_under5_female  15106 non-null  float64\n",
      " 12  mortality_rate_1to4           15106 non-null  float64\n",
      " 13  mortality_rate_1to4_male      15106 non-null  float64\n",
      " 14  mortality_rate_1to4_female    15106 non-null  float64\n",
      " 15  crude_birth_rate              15106 non-null  float64\n",
      " 16  crude_death_rate              15106 non-null  float64\n",
      " 17  net_migration                 15106 non-null  float64\n",
      " 18  rate_natural_increase         15106 non-null  float64\n",
      " 19  growth_rate                   15106 non-null  float64\n",
      " 20  fertility_rate_15_19          15106 non-null  float64\n",
      " 21  fertility_rate_20_24          15106 non-null  float64\n",
      " 22  fertility_rate_25_29          15106 non-null  float64\n",
      " 23  fertility_rate_30_34          15106 non-null  float64\n",
      " 24  fertility_rate_35_39          15106 non-null  float64\n",
      " 25  fertility_rate_40_44          15106 non-null  float64\n",
      " 26  fertility_rate_45_49          15106 non-null  float64\n",
      " 27  total_fertility_rate          15106 non-null  float64\n",
      " 28  gross_reproduction_rate       15106 non-null  float64\n",
      " 29  sex_ratio_at_birth            15106 non-null  float64\n",
      "dtypes: float64(27), int64(1), object(2)\n",
      "memory usage: 3.6+ MB\n"
     ]
    }
   ],
   "source": [
    "df.info()"
   ]
  },
  {
   "cell_type": "code",
   "execution_count": 70,
   "metadata": {},
   "outputs": [
    {
     "data": {
      "text/plain": [
       "country_code                    False\n",
       "country_name                    False\n",
       "year                            False\n",
       "infant_mortality                False\n",
       "infant_mortality_male           False\n",
       "infant_mortality_female         False\n",
       "life_expectancy                 False\n",
       "life_expectancy_male            False\n",
       "life_expectancy_female          False\n",
       "mortality_rate_under5           False\n",
       "mortality_rate_under5_male      False\n",
       "mortality_rate_under5_female    False\n",
       "mortality_rate_1to4             False\n",
       "mortality_rate_1to4_male        False\n",
       "mortality_rate_1to4_female      False\n",
       "crude_birth_rate                False\n",
       "crude_death_rate                False\n",
       "net_migration                   False\n",
       "rate_natural_increase           False\n",
       "growth_rate                     False\n",
       "fertility_rate_15_19            False\n",
       "fertility_rate_20_24            False\n",
       "fertility_rate_25_29            False\n",
       "fertility_rate_30_34            False\n",
       "fertility_rate_35_39            False\n",
       "fertility_rate_40_44            False\n",
       "fertility_rate_45_49            False\n",
       "total_fertility_rate            False\n",
       "gross_reproduction_rate         False\n",
       "sex_ratio_at_birth              False\n",
       "dtype: bool"
      ]
     },
     "execution_count": 70,
     "metadata": {},
     "output_type": "execute_result"
    }
   ],
   "source": [
    "df.isnull().any()"
   ]
  },
  {
   "attachments": {},
   "cell_type": "markdown",
   "metadata": {},
   "source": [
    "- Dữ liệu đầy đủ không thiếu và đúng kiểu dữ liệu. Nhóm không xử lý dữ liệu."
   ]
  },
  {
   "cell_type": "code",
   "execution_count": null,
   "metadata": {},
   "outputs": [],
   "source": []
  },
  {
   "attachments": {},
   "cell_type": "markdown",
   "metadata": {},
   "source": [
    "### Mối tương quan đa giữa các cột trong \"birth_death_growth_rates\""
   ]
  },
  {
   "cell_type": "code",
   "execution_count": null,
   "metadata": {},
   "outputs": [],
   "source": []
  }
 ],
 "metadata": {
  "kernelspec": {
   "display_name": "Python 3",
   "language": "python",
   "name": "python3"
  },
  "language_info": {
   "codemirror_mode": {
    "name": "ipython",
    "version": 3
   },
   "file_extension": ".py",
   "mimetype": "text/x-python",
   "name": "python",
   "nbconvert_exporter": "python",
   "pygments_lexer": "ipython3",
   "version": "3.10.7"
  },
  "orig_nbformat": 4
 },
 "nbformat": 4,
 "nbformat_minor": 2
}
