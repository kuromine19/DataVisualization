{
 "cells": [
  {
   "cell_type": "markdown",
   "metadata": {},
   "source": [
    "# <font color=#0404B4>**LAB 02 - TRỰC QUAN HÓA DỮ LIỆU** </font>\n",
    "\n",
    "### <font color=#0404B4> Bảng thành viên nhóm </font>\n",
    "|<center><div style=\"width:150px\">MSSV</div><center>|<center><div style=\"width:290px\">Họ và tên</div><center>|\n",
    "|---------- |:-------------:|\n",
    "| <center>20120041<center>  | <center>Trần Kim Bảo<center> |\n",
    "| <center>20120053<center>  |   <center>Nguyễn Thành Đạt<center>   | \n",
    "| <center>20120071<center>  |<center>Nguyễn Thị Bích Hà<center> |\n",
    "| <center>20120084<center>  | <center>Nguyễn Văn Hiếu<center> |\n",
    "| <center>20120113<center>  | <center>Lê Nguyên Khang<center> |"
   ]
  },
  {
   "cell_type": "markdown",
   "metadata": {},
   "source": [
    "# <font color=#0404B4>Import thư viện</font>"
   ]
  },
  {
   "cell_type": "code",
   "execution_count": 1,
   "metadata": {},
   "outputs": [],
   "source": [
    "import pandas as pd\n",
    "import numpy as np\n",
    "import matplotlib.pyplot as plt\n",
    "import seaborn as sns\n",
    "sns.set_theme()\n",
    "import country_converter as coco\n",
    "import json\n",
    "from unidecode import unidecode\n",
    "import plotly.express as px\n",
    "import plotly.io as pio\n",
    "import plotly.graph_objs as go\n",
    "import geopandas as gpd\n",
    "from ipywidgets import interact\n",
    "import re\n",
    "from statsmodels.tsa.arima.model import ARIMA\n",
    "from sklearn.metrics import mean_squared_error\n",
    "import warnings\n",
    "warnings.simplefilter('ignore')\n"
   ]
  },
  {
   "cell_type": "markdown",
   "metadata": {},
   "source": [
    "# <font color=#0404B4> A. Thu thập dữ liệu</font>\n",
    "\n",
    "### Tại sao lại chọn bộ dữ liệu này?\n",
    "Nhóm muốn tìm hiểu tuổi thọ trung bình của các nước trên thế giới, cụ thể hơn là về tỉ lệ sinh, tỉ lệ tử và những ảnh hưởng cụ thể tác động lên các yếu tố đã được đề cập. Những quốc gia có tuổi thọ trung bình ở những mức độ cụ thể sẽ thể hiện điều gì qua các yếu tố liên quan khác, liệu có sự liên quan nào giữa tuổi thọ trung bình và mức sống hoặc điều kiện phát triển của một quốc gia hay không. Nhóm có rất nhiều câu hỏi muốn khám phá từ chủ đề tuổi tác trung bình của một quốc gia nên đã quyết định chọn bộ dữ liệu này.\n",
    "\n",
    "Nhóm đã chọn bộ dữ liệu cung cấp thông tin về tuổi thọ trung bình và các yếu tố liên quan của các quốc gia trên thế giới, và bộ dữ liệu này được nhóm lấy từ [Kaggle](https://www.kaggle.com/datasets/census/international-data?select=midyear_population_5yr_age_sex.csv&fbclid=IwAR1iVkXkPgwGhwS5BuKX7oZnUKSWuAlsCq2odeJZ2rCXMAE_xN_BjgJEpMk).\n",
    "\n",
    "\n",
    "\n",
    "### Nguồn gốc và giấy phép sử dụng của bộ dữ liệu?\n",
    "Bộ dữ liệu này được tạo bởi [Cục điều tra dân số Hoa Kỳ](http://www.census.gov/), cung cấp các ước tính về dân số các quốc gia kể từ năm 1950 và dự đoán đến năm 2050. Cụ thể, bộ dữ liệu bao gồm các số liệu dân số giữa năm được chia nhỏ theo độ tuổi và phân bổ giới tính khi sinh. Ngoài ra, chúng cung cấp dữ liệu chuỗi thời gian cho các thuộc tính bao gồm tỷ lệ sinh, tỷ lệ sinh, tỷ lệ tử vong và tỷ lệ di cư.\n",
    "\n",
    "Bộ dữ liệu được cho phép sử dụng với mục đích phân tích \n",
    "\n",
    "   **Lưu ý:** Các quốc gia và khu vực được Bộ Ngoại giao Hoa Kỳ công nhận phải có dân số ít nhất là 5.000 người. Và bộ dữ liệu này được đăng tải vào năm 2017, tức là các dữ liệu được cung cấp từ năm 2018 trở đi được xem là dữ liệu dự đoán.\n",
    "\n"
   ]
  },
  {
   "cell_type": "markdown",
   "metadata": {},
   "source": [
    "<a name=\"2\"></a>\n",
    "# <font color=#0404B4> B. Khám phá và tiền xử lý dữ liệu</font>\n"
   ]
  },
  {
   "cell_type": "markdown",
   "metadata": {},
   "source": [
    "### 1. Đọc dữ liệu từ file và merge dữ liệu lại thành 1 dataframe\n",
    "\n",
    "Do bộ dữ liệu có nhiều file csv riêng lẻ nên nhóm thực hiện merge các file cần phân tích lại và lưu vào một DataFrame `df`."
   ]
  },
  {
   "cell_type": "markdown",
   "metadata": {},
   "source": [
    "- `df1` chứa tập dữ liệu nằm trong file `mortality_life_expectancy.csv`, file này chứa các thông tin liên quan đến tuổi thọ trung bình của các quốc gia."
   ]
  },
  {
   "cell_type": "code",
   "execution_count": 2,
   "metadata": {},
   "outputs": [],
   "source": [
    "df1 = pd.read_csv(\"mortality_life_expectancy.csv\")"
   ]
  },
  {
   "cell_type": "code",
   "execution_count": 3,
   "metadata": {},
   "outputs": [
    {
     "data": {
      "text/plain": [
       "(15106, 15)"
      ]
     },
     "execution_count": 3,
     "metadata": {},
     "output_type": "execute_result"
    }
   ],
   "source": [
    "df1.shape"
   ]
  },
  {
   "cell_type": "markdown",
   "metadata": {},
   "source": [
    "- `df2` chứa tập dữ liệu nằm trong file `age_specific_fertility_rates.csv`, file này chứa các thông tin liên quan đến tỷ suất sinh đặc trưng theo từng độ tuổi."
   ]
  },
  {
   "cell_type": "code",
   "execution_count": 4,
   "metadata": {},
   "outputs": [],
   "source": [
    "df2 = pd.read_csv(\"age_specific_fertility_rates.csv\")"
   ]
  },
  {
   "cell_type": "code",
   "execution_count": 5,
   "metadata": {},
   "outputs": [
    {
     "data": {
      "text/plain": [
       "(15106, 13)"
      ]
     },
     "execution_count": 5,
     "metadata": {},
     "output_type": "execute_result"
    }
   ],
   "source": [
    "df2.shape"
   ]
  },
  {
   "cell_type": "markdown",
   "metadata": {},
   "source": [
    "- `df3` chứa tập dữ liệu nằm trong file `birth_death_growth_rates.csv`, file này chứa các thông tin liên quan đến tỷ lệ sinh - tử và một số vấn đề liên quan của các quốc gia."
   ]
  },
  {
   "cell_type": "code",
   "execution_count": 6,
   "metadata": {},
   "outputs": [],
   "source": [
    "df3 = pd.read_csv(\"birth_death_growth_rates.csv\")"
   ]
  },
  {
   "cell_type": "code",
   "execution_count": 7,
   "metadata": {},
   "outputs": [
    {
     "data": {
      "text/plain": [
       "(15109, 8)"
      ]
     },
     "execution_count": 7,
     "metadata": {},
     "output_type": "execute_result"
    }
   ],
   "source": [
    "df3.shape"
   ]
  },
  {
   "cell_type": "markdown",
   "metadata": {},
   "source": [
    "Ta tiến hành merge cả 3 DataFrame trên."
   ]
  },
  {
   "cell_type": "code",
   "execution_count": 8,
   "metadata": {},
   "outputs": [],
   "source": [
    "merge_df=pd.merge(df1,df3,on=['country_code', 'country_name', 'year'])"
   ]
  },
  {
   "cell_type": "code",
   "execution_count": 9,
   "metadata": {},
   "outputs": [],
   "source": [
    "df=pd.merge(merge_df,df2,on=['country_code', 'country_name', 'year'])"
   ]
  },
  {
   "cell_type": "markdown",
   "metadata": {},
   "source": [
    "Sau khi merge, DataFrame `df` tổng hợp có tổng cộng 15106 dòng và 30 cột."
   ]
  },
  {
   "cell_type": "code",
   "execution_count": 10,
   "metadata": {},
   "outputs": [
    {
     "data": {
      "text/plain": [
       "(15106, 30)"
      ]
     },
     "execution_count": 10,
     "metadata": {},
     "output_type": "execute_result"
    }
   ],
   "source": [
    "df.shape"
   ]
  },
  {
   "cell_type": "code",
   "execution_count": 11,
   "metadata": {},
   "outputs": [
    {
     "data": {
      "text/html": [
       "<div>\n",
       "<style scoped>\n",
       "    .dataframe tbody tr th:only-of-type {\n",
       "        vertical-align: middle;\n",
       "    }\n",
       "\n",
       "    .dataframe tbody tr th {\n",
       "        vertical-align: top;\n",
       "    }\n",
       "\n",
       "    .dataframe thead th {\n",
       "        text-align: right;\n",
       "    }\n",
       "</style>\n",
       "<table border=\"1\" class=\"dataframe\">\n",
       "  <thead>\n",
       "    <tr style=\"text-align: right;\">\n",
       "      <th></th>\n",
       "      <th>country_code</th>\n",
       "      <th>country_name</th>\n",
       "      <th>year</th>\n",
       "      <th>infant_mortality</th>\n",
       "      <th>infant_mortality_male</th>\n",
       "      <th>infant_mortality_female</th>\n",
       "      <th>life_expectancy</th>\n",
       "      <th>life_expectancy_male</th>\n",
       "      <th>life_expectancy_female</th>\n",
       "      <th>mortality_rate_under5</th>\n",
       "      <th>...</th>\n",
       "      <th>fertility_rate_15_19</th>\n",
       "      <th>fertility_rate_20_24</th>\n",
       "      <th>fertility_rate_25_29</th>\n",
       "      <th>fertility_rate_30_34</th>\n",
       "      <th>fertility_rate_35_39</th>\n",
       "      <th>fertility_rate_40_44</th>\n",
       "      <th>fertility_rate_45_49</th>\n",
       "      <th>total_fertility_rate</th>\n",
       "      <th>gross_reproduction_rate</th>\n",
       "      <th>sex_ratio_at_birth</th>\n",
       "    </tr>\n",
       "  </thead>\n",
       "  <tbody>\n",
       "    <tr>\n",
       "      <th>0</th>\n",
       "      <td>SI</td>\n",
       "      <td>Slovenia</td>\n",
       "      <td>2036</td>\n",
       "      <td>3.39</td>\n",
       "      <td>3.76</td>\n",
       "      <td>3.00</td>\n",
       "      <td>80.90</td>\n",
       "      <td>77.51</td>\n",
       "      <td>84.52</td>\n",
       "      <td>3.93</td>\n",
       "      <td>...</td>\n",
       "      <td>8.5</td>\n",
       "      <td>60.2</td>\n",
       "      <td>112.0</td>\n",
       "      <td>86.3</td>\n",
       "      <td>32.0</td>\n",
       "      <td>8.8</td>\n",
       "      <td>3.7</td>\n",
       "      <td>1.5555</td>\n",
       "      <td>0.7529</td>\n",
       "      <td>1.0660</td>\n",
       "    </tr>\n",
       "    <tr>\n",
       "      <th>1</th>\n",
       "      <td>SI</td>\n",
       "      <td>Slovenia</td>\n",
       "      <td>2022</td>\n",
       "      <td>3.76</td>\n",
       "      <td>4.22</td>\n",
       "      <td>3.27</td>\n",
       "      <td>79.11</td>\n",
       "      <td>75.58</td>\n",
       "      <td>82.89</td>\n",
       "      <td>4.43</td>\n",
       "      <td>...</td>\n",
       "      <td>7.5</td>\n",
       "      <td>56.4</td>\n",
       "      <td>106.1</td>\n",
       "      <td>75.5</td>\n",
       "      <td>26.7</td>\n",
       "      <td>6.4</td>\n",
       "      <td>2.3</td>\n",
       "      <td>1.4110</td>\n",
       "      <td>0.6829</td>\n",
       "      <td>1.0661</td>\n",
       "    </tr>\n",
       "    <tr>\n",
       "      <th>2</th>\n",
       "      <td>SI</td>\n",
       "      <td>Slovenia</td>\n",
       "      <td>2023</td>\n",
       "      <td>3.73</td>\n",
       "      <td>4.18</td>\n",
       "      <td>3.25</td>\n",
       "      <td>79.26</td>\n",
       "      <td>75.73</td>\n",
       "      <td>83.02</td>\n",
       "      <td>4.39</td>\n",
       "      <td>...</td>\n",
       "      <td>7.6</td>\n",
       "      <td>56.5</td>\n",
       "      <td>106.6</td>\n",
       "      <td>76.2</td>\n",
       "      <td>27.2</td>\n",
       "      <td>6.6</td>\n",
       "      <td>2.4</td>\n",
       "      <td>1.4213</td>\n",
       "      <td>0.6879</td>\n",
       "      <td>1.0660</td>\n",
       "    </tr>\n",
       "    <tr>\n",
       "      <th>3</th>\n",
       "      <td>SI</td>\n",
       "      <td>Slovenia</td>\n",
       "      <td>2024</td>\n",
       "      <td>3.70</td>\n",
       "      <td>4.14</td>\n",
       "      <td>3.22</td>\n",
       "      <td>79.40</td>\n",
       "      <td>75.89</td>\n",
       "      <td>83.15</td>\n",
       "      <td>4.35</td>\n",
       "      <td>...</td>\n",
       "      <td>7.7</td>\n",
       "      <td>56.8</td>\n",
       "      <td>107.0</td>\n",
       "      <td>77.1</td>\n",
       "      <td>27.5</td>\n",
       "      <td>6.7</td>\n",
       "      <td>2.5</td>\n",
       "      <td>1.4316</td>\n",
       "      <td>0.6929</td>\n",
       "      <td>1.0660</td>\n",
       "    </tr>\n",
       "    <tr>\n",
       "      <th>4</th>\n",
       "      <td>SI</td>\n",
       "      <td>Slovenia</td>\n",
       "      <td>2025</td>\n",
       "      <td>3.67</td>\n",
       "      <td>4.10</td>\n",
       "      <td>3.20</td>\n",
       "      <td>79.55</td>\n",
       "      <td>76.04</td>\n",
       "      <td>83.29</td>\n",
       "      <td>4.31</td>\n",
       "      <td>...</td>\n",
       "      <td>7.7</td>\n",
       "      <td>56.9</td>\n",
       "      <td>107.4</td>\n",
       "      <td>78.0</td>\n",
       "      <td>27.7</td>\n",
       "      <td>6.9</td>\n",
       "      <td>2.6</td>\n",
       "      <td>1.4419</td>\n",
       "      <td>0.6979</td>\n",
       "      <td>1.0661</td>\n",
       "    </tr>\n",
       "    <tr>\n",
       "      <th>5</th>\n",
       "      <td>SI</td>\n",
       "      <td>Slovenia</td>\n",
       "      <td>2026</td>\n",
       "      <td>3.64</td>\n",
       "      <td>4.07</td>\n",
       "      <td>3.18</td>\n",
       "      <td>79.68</td>\n",
       "      <td>76.19</td>\n",
       "      <td>83.41</td>\n",
       "      <td>4.26</td>\n",
       "      <td>...</td>\n",
       "      <td>7.8</td>\n",
       "      <td>57.1</td>\n",
       "      <td>107.7</td>\n",
       "      <td>78.9</td>\n",
       "      <td>27.9</td>\n",
       "      <td>7.1</td>\n",
       "      <td>2.7</td>\n",
       "      <td>1.4523</td>\n",
       "      <td>0.7029</td>\n",
       "      <td>1.0660</td>\n",
       "    </tr>\n",
       "    <tr>\n",
       "      <th>6</th>\n",
       "      <td>SI</td>\n",
       "      <td>Slovenia</td>\n",
       "      <td>2027</td>\n",
       "      <td>3.61</td>\n",
       "      <td>4.03</td>\n",
       "      <td>3.16</td>\n",
       "      <td>79.81</td>\n",
       "      <td>76.33</td>\n",
       "      <td>83.53</td>\n",
       "      <td>4.23</td>\n",
       "      <td>...</td>\n",
       "      <td>7.9</td>\n",
       "      <td>57.4</td>\n",
       "      <td>108.2</td>\n",
       "      <td>79.6</td>\n",
       "      <td>28.1</td>\n",
       "      <td>7.3</td>\n",
       "      <td>2.8</td>\n",
       "      <td>1.4626</td>\n",
       "      <td>0.7079</td>\n",
       "      <td>1.0661</td>\n",
       "    </tr>\n",
       "    <tr>\n",
       "      <th>7</th>\n",
       "      <td>SI</td>\n",
       "      <td>Slovenia</td>\n",
       "      <td>2028</td>\n",
       "      <td>3.58</td>\n",
       "      <td>4.00</td>\n",
       "      <td>3.14</td>\n",
       "      <td>79.94</td>\n",
       "      <td>76.47</td>\n",
       "      <td>83.65</td>\n",
       "      <td>4.19</td>\n",
       "      <td>...</td>\n",
       "      <td>8.0</td>\n",
       "      <td>57.7</td>\n",
       "      <td>108.6</td>\n",
       "      <td>80.2</td>\n",
       "      <td>28.5</td>\n",
       "      <td>7.5</td>\n",
       "      <td>2.9</td>\n",
       "      <td>1.4729</td>\n",
       "      <td>0.7130</td>\n",
       "      <td>1.0659</td>\n",
       "    </tr>\n",
       "    <tr>\n",
       "      <th>8</th>\n",
       "      <td>SI</td>\n",
       "      <td>Slovenia</td>\n",
       "      <td>2029</td>\n",
       "      <td>3.56</td>\n",
       "      <td>3.97</td>\n",
       "      <td>3.12</td>\n",
       "      <td>80.08</td>\n",
       "      <td>76.61</td>\n",
       "      <td>83.77</td>\n",
       "      <td>4.15</td>\n",
       "      <td>...</td>\n",
       "      <td>8.1</td>\n",
       "      <td>58.0</td>\n",
       "      <td>109.0</td>\n",
       "      <td>80.8</td>\n",
       "      <td>29.0</td>\n",
       "      <td>7.6</td>\n",
       "      <td>3.0</td>\n",
       "      <td>1.4832</td>\n",
       "      <td>0.7179</td>\n",
       "      <td>1.0660</td>\n",
       "    </tr>\n",
       "    <tr>\n",
       "      <th>9</th>\n",
       "      <td>SI</td>\n",
       "      <td>Slovenia</td>\n",
       "      <td>2030</td>\n",
       "      <td>3.53</td>\n",
       "      <td>3.93</td>\n",
       "      <td>3.10</td>\n",
       "      <td>80.21</td>\n",
       "      <td>76.75</td>\n",
       "      <td>83.89</td>\n",
       "      <td>4.12</td>\n",
       "      <td>...</td>\n",
       "      <td>8.1</td>\n",
       "      <td>58.3</td>\n",
       "      <td>109.4</td>\n",
       "      <td>81.7</td>\n",
       "      <td>29.5</td>\n",
       "      <td>7.8</td>\n",
       "      <td>3.1</td>\n",
       "      <td>1.4936</td>\n",
       "      <td>0.7229</td>\n",
       "      <td>1.0660</td>\n",
       "    </tr>\n",
       "  </tbody>\n",
       "</table>\n",
       "<p>10 rows × 30 columns</p>\n",
       "</div>"
      ],
      "text/plain": [
       "  country_code country_name  year  infant_mortality  infant_mortality_male  \\\n",
       "0           SI     Slovenia  2036              3.39                   3.76   \n",
       "1           SI     Slovenia  2022              3.76                   4.22   \n",
       "2           SI     Slovenia  2023              3.73                   4.18   \n",
       "3           SI     Slovenia  2024              3.70                   4.14   \n",
       "4           SI     Slovenia  2025              3.67                   4.10   \n",
       "5           SI     Slovenia  2026              3.64                   4.07   \n",
       "6           SI     Slovenia  2027              3.61                   4.03   \n",
       "7           SI     Slovenia  2028              3.58                   4.00   \n",
       "8           SI     Slovenia  2029              3.56                   3.97   \n",
       "9           SI     Slovenia  2030              3.53                   3.93   \n",
       "\n",
       "   infant_mortality_female  life_expectancy  life_expectancy_male  \\\n",
       "0                     3.00            80.90                 77.51   \n",
       "1                     3.27            79.11                 75.58   \n",
       "2                     3.25            79.26                 75.73   \n",
       "3                     3.22            79.40                 75.89   \n",
       "4                     3.20            79.55                 76.04   \n",
       "5                     3.18            79.68                 76.19   \n",
       "6                     3.16            79.81                 76.33   \n",
       "7                     3.14            79.94                 76.47   \n",
       "8                     3.12            80.08                 76.61   \n",
       "9                     3.10            80.21                 76.75   \n",
       "\n",
       "   life_expectancy_female  mortality_rate_under5  ...  fertility_rate_15_19  \\\n",
       "0                   84.52                   3.93  ...                   8.5   \n",
       "1                   82.89                   4.43  ...                   7.5   \n",
       "2                   83.02                   4.39  ...                   7.6   \n",
       "3                   83.15                   4.35  ...                   7.7   \n",
       "4                   83.29                   4.31  ...                   7.7   \n",
       "5                   83.41                   4.26  ...                   7.8   \n",
       "6                   83.53                   4.23  ...                   7.9   \n",
       "7                   83.65                   4.19  ...                   8.0   \n",
       "8                   83.77                   4.15  ...                   8.1   \n",
       "9                   83.89                   4.12  ...                   8.1   \n",
       "\n",
       "   fertility_rate_20_24  fertility_rate_25_29  fertility_rate_30_34  \\\n",
       "0                  60.2                 112.0                  86.3   \n",
       "1                  56.4                 106.1                  75.5   \n",
       "2                  56.5                 106.6                  76.2   \n",
       "3                  56.8                 107.0                  77.1   \n",
       "4                  56.9                 107.4                  78.0   \n",
       "5                  57.1                 107.7                  78.9   \n",
       "6                  57.4                 108.2                  79.6   \n",
       "7                  57.7                 108.6                  80.2   \n",
       "8                  58.0                 109.0                  80.8   \n",
       "9                  58.3                 109.4                  81.7   \n",
       "\n",
       "   fertility_rate_35_39  fertility_rate_40_44  fertility_rate_45_49  \\\n",
       "0                  32.0                   8.8                   3.7   \n",
       "1                  26.7                   6.4                   2.3   \n",
       "2                  27.2                   6.6                   2.4   \n",
       "3                  27.5                   6.7                   2.5   \n",
       "4                  27.7                   6.9                   2.6   \n",
       "5                  27.9                   7.1                   2.7   \n",
       "6                  28.1                   7.3                   2.8   \n",
       "7                  28.5                   7.5                   2.9   \n",
       "8                  29.0                   7.6                   3.0   \n",
       "9                  29.5                   7.8                   3.1   \n",
       "\n",
       "   total_fertility_rate  gross_reproduction_rate  sex_ratio_at_birth  \n",
       "0                1.5555                   0.7529              1.0660  \n",
       "1                1.4110                   0.6829              1.0661  \n",
       "2                1.4213                   0.6879              1.0660  \n",
       "3                1.4316                   0.6929              1.0660  \n",
       "4                1.4419                   0.6979              1.0661  \n",
       "5                1.4523                   0.7029              1.0660  \n",
       "6                1.4626                   0.7079              1.0661  \n",
       "7                1.4729                   0.7130              1.0659  \n",
       "8                1.4832                   0.7179              1.0660  \n",
       "9                1.4936                   0.7229              1.0660  \n",
       "\n",
       "[10 rows x 30 columns]"
      ]
     },
     "execution_count": 11,
     "metadata": {},
     "output_type": "execute_result"
    }
   ],
   "source": [
    "df.head(10)"
   ]
  },
  {
   "cell_type": "markdown",
   "metadata": {},
   "source": [
    "### 2. Mỗi dòng có ý nghĩa gì? Có vấn đề các dòng có ý nghĩa khác nhau không?"
   ]
  },
  {
   "cell_type": "markdown",
   "metadata": {},
   "source": [
    "* Mỗi dòng thể hiện thông tin của 1 quốc gia hoặc vùng lãnh thổ trong 1 năm, ví dụ như: thông tin tử vong và tuổi thọ trung bình (chia thành 2 nhóm nam và nữ), tỉ lệ sinh - tử (chi tiết ra thành những khoảng độ tuổi), tỉ lệ tăng trưởng.\n",
    "* **Không** có dòng nào có ý nghĩa khác nhau."
   ]
  },
  {
   "cell_type": "markdown",
   "metadata": {},
   "source": [
    "### 3. Dữ liệu có các dòng bị lặp không?"
   ]
  },
  {
   "cell_type": "markdown",
   "metadata": {},
   "source": [
    "Kiểm tra việc này và lưu kết quả vào biến `have_duplicated_rows`. Biến này sẽ có giá trị `True` nếu dữ liệu có các dòng bị lặp và có giá trị `False` nếu ngược lại. Các thuộc tính `country_code`, `country_name`, `year` được xem là những thuộc tính khóa chính, định danh cho từng mẫu của dataframe."
   ]
  },
  {
   "cell_type": "code",
   "execution_count": 12,
   "metadata": {},
   "outputs": [
    {
     "name": "stdout",
     "output_type": "stream",
     "text": [
      "Không có dòng dữ liệu nào bị lặp\n"
     ]
    }
   ],
   "source": [
    "check_duplicated = set(df.loc[:,['country_code', 'country_name', 'year']].duplicated())\n",
    "\n",
    "if True in check_duplicated:\n",
    "    have_duplicated_rows = True\n",
    "else:\n",
    "    have_duplicated_rows = False\n",
    "    \n",
    "if (have_duplicated_rows == True):\n",
    "    print('Có dòng dữ liệu bị lặp')\n",
    "else:\n",
    "    print('Không có dòng dữ liệu nào bị lặp')"
   ]
  },
  {
   "cell_type": "markdown",
   "metadata": {},
   "source": [
    "<h3> 4. Mỗi cột có ý nghĩa gì?</h3>"
   ]
  },
  {
   "cell_type": "markdown",
   "metadata": {},
   "source": [
    "|STT|Tên cột dữ liệu | <center>Mô tả<center> |<center> Đơn vị <center>|\n",
    "|--|:------:| ---| --- |\n",
    "|1|country_code|<center>Mã quốc gia/ mã vùng lãnh thổ<center>|\n",
    "|2|country_name| <center>Tên quốc gia/ vùng lãnh thổ<center>|\n",
    "|3|year|<center>Năm thu thập<center>| <center>Năm<center>\n",
    "|4|infant_mortality| <center> Tỷ lệ tử vong sơ sinh<center>| <center>Số trẻ em chết sơ sinh/1.000 dân số<center>|\n",
    "|5|infant_mortality_male|<center>Tỷ lệ tử vong sơ sinh ở nam<center>|  <center>Số trẻ em chết sơ sinh/1.000 dân số<center>| \n",
    "|6|infant_mortality_female|<center>Tỷ lệ tử vong sơ sinh ở nữ<center>| <center>Số trẻ em chết sơ sinh/1.000 dân số<center>|\n",
    "|7|life_expectancy|<center>Tuổi thọ trung bình<center>| <center>Năm<center>|\n",
    "|8|life_expectancy_male|<center>Tuổi thọ trung bình ở nam<center>| <center>Năm<center>|\n",
    "|9|life_expectancy_female|<center>Tuổi thọ trung bình ở nữ<center>| <center>Năm<center>|\n",
    "|10|mortality_rate_under5|<center>Tỷ lệ tử vong `dưới 5` tuổi<center>| |\n",
    "|11|mortality_rate_under5_male|<center>Tỷ lệ tử vong `dưới 5` tuổi ở nam<center>| |\n",
    "|12|mortality_rate_under5_female|<center>Tỷ lệ tử vong `dưới 5` tuổi ở nữ<center>| |\n",
    "|13|mortality_rate_1to4|<center>Tỷ lệ tử vong `1-4` tuổi<center>| |\n",
    "|14|mortality_rate_1to4_male|<center>Tỷ lệ tử vong `1-4` tuổi ở nam<center>|  |\n",
    "|15|mortality_rate_1to4_female|<center>Tỷ lệ tử vong `1-4`tuổi ở nữ<center>|  |\n",
    "|16|crude_birth_rate|<center>Tỷ lệ sinh thô<center>|<center>Sinh sản/1.000 dân số<center>|\n",
    "|17|crude_death_rate|<center>Tỷ lệ tử vong thô<center>|<center>Số người chết/1.000 dân số<center>|\n",
    "|18|net_migration|<center>Tỷ lệ di cư<center>|<center>Số người di dân/1.000 dân số<center>|\n",
    "|19|rate_natural_increase|<center>Tỷ lệ tăng tự nhiên<center>|<center>%<center>|\n",
    "|20|growth_rate|<center>Tỷ lệ tăng trưởng<center>|<center>%<center>|\n",
    "|21|fertility_rate_15_19|<center>Tỷ lệ sinh sản cụ thể theo độ tuổi `15-19`<center>|<center>Số trẻ sinh/1.000 dân số<center>|\n",
    "|22|fertility_rate_20_24|<center>Tỷ lệ sinh sản cụ thể theo độ tuổi `20-24`<center>|<center>Số trẻ sinh/1.000 dân số<center>|\n",
    "|23|fertility_rate_25_29|<center>Tỷ lệ sinh sản cụ thể theo độ tuổi `25-29`<center>|<center>Số trẻ sinh/1.000 dân số<center>|\n",
    "|24|fertility_rate_30_34|<center>Tỷ lệ sinh sản cụ thể theo độ tuổi `30-34`<center>|<center>Số trẻ sinh/1.000 dân số<center>|\n",
    "|25|fertility_rate_35_39|<center>Tỷ lệ sinh sản cụ thể theo độ tuổi `35-39`<center>|<center>Số trẻ sinh/1.000 dân số<center>|\n",
    "|26|fertility_rate_40_44|<center>Tỷ lệ sinh sản cụ thể theo độ tuổi `40-44`<center>|<center>Số trẻ sinh/1.000 dân số<center>|\n",
    "|27|fertility_rate_45_49|<center>Tỷ lệ sinh sản cụ thể theo độ tuổi `45-49`<center>|<center>Số trẻ sinh/1.000 dân số<center>|\n",
    "|28|total_fertility_rate|<center>Tỷ lệ sinh sản tổng thể <center>|<center>con/phụ nữ<center>|\n",
    "|29|gross_reproduction_rate|<center>Tỷ lệ sinh con gái<center>|<center>con/phụ nữ<center>|\n",
    "|30|sex_ratio_at_birth|<center>Tỷ lệ giới tính khi sinh<center>|<center>Số trẻ sinh nam chia sô trẻ sinh nữ<center>|\n",
    "\n",
    "\n",
    "\n",
    "* **Thời gian cập nhật dữ liệu:** năm 2017"
   ]
  },
  {
   "cell_type": "markdown",
   "metadata": {},
   "source": [
    "### 5. Mỗi cột hiện đang có kiểu dữ liệu gì? Có cột nào có kiểu dữ liệu chưa phù hợp để có thể xử lý tiếp hay không?"
   ]
  },
  {
   "cell_type": "code",
   "execution_count": 13,
   "metadata": {},
   "outputs": [
    {
     "name": "stdout",
     "output_type": "stream",
     "text": [
      "<class 'pandas.core.frame.DataFrame'>\n",
      "Int64Index: 15106 entries, 0 to 15105\n",
      "Data columns (total 30 columns):\n",
      " #   Column                        Non-Null Count  Dtype  \n",
      "---  ------                        --------------  -----  \n",
      " 0   country_code                  15106 non-null  object \n",
      " 1   country_name                  15106 non-null  object \n",
      " 2   year                          15106 non-null  int64  \n",
      " 3   infant_mortality              15106 non-null  float64\n",
      " 4   infant_mortality_male         15106 non-null  float64\n",
      " 5   infant_mortality_female       15106 non-null  float64\n",
      " 6   life_expectancy               15106 non-null  float64\n",
      " 7   life_expectancy_male          15106 non-null  float64\n",
      " 8   life_expectancy_female        15106 non-null  float64\n",
      " 9   mortality_rate_under5         15106 non-null  float64\n",
      " 10  mortality_rate_under5_male    15106 non-null  float64\n",
      " 11  mortality_rate_under5_female  15106 non-null  float64\n",
      " 12  mortality_rate_1to4           15106 non-null  float64\n",
      " 13  mortality_rate_1to4_male      15106 non-null  float64\n",
      " 14  mortality_rate_1to4_female    15106 non-null  float64\n",
      " 15  crude_birth_rate              15106 non-null  float64\n",
      " 16  crude_death_rate              15106 non-null  float64\n",
      " 17  net_migration                 15106 non-null  float64\n",
      " 18  rate_natural_increase         15106 non-null  float64\n",
      " 19  growth_rate                   15106 non-null  float64\n",
      " 20  fertility_rate_15_19          15106 non-null  float64\n",
      " 21  fertility_rate_20_24          15106 non-null  float64\n",
      " 22  fertility_rate_25_29          15106 non-null  float64\n",
      " 23  fertility_rate_30_34          15106 non-null  float64\n",
      " 24  fertility_rate_35_39          15106 non-null  float64\n",
      " 25  fertility_rate_40_44          15106 non-null  float64\n",
      " 26  fertility_rate_45_49          15106 non-null  float64\n",
      " 27  total_fertility_rate          15106 non-null  float64\n",
      " 28  gross_reproduction_rate       15106 non-null  float64\n",
      " 29  sex_ratio_at_birth            15106 non-null  float64\n",
      "dtypes: float64(27), int64(1), object(2)\n",
      "memory usage: 3.6+ MB\n"
     ]
    }
   ],
   "source": [
    "df.info()"
   ]
  },
  {
   "cell_type": "markdown",
   "metadata": {},
   "source": [
    "Tạm thời, ta thấy các cột đã ở đúng kiểu dữ liệu, cụ thể `country_code` và `country_name` ở dạng dữ liệu phân loại, còn lại tất cả các cột đều thể hiện độ tuổi và tỉ lệ nên ở dạng `float`, cột thể hiện thời gian (năm) thì ở dạng `int`. Do đó có vẻ như **không** có cột nào sở hữu kiểu dữ liệu không phù hợp cả."
   ]
  },
  {
   "cell_type": "markdown",
   "metadata": {},
   "source": [
    "### 6. Với mỗi cột, các giá trị được phân bố như thế nào?\n",
    "\n",
    "#### Với mỗi cột có kiểu dữ liệu dạng số (numerical), các giá trị được phân bố như thế nào?"
   ]
  },
  {
   "cell_type": "markdown",
   "metadata": {},
   "source": [
    "Ở dữ liệu này, hiện có 28 cột thuộc nhóm numeric:\n",
    "|<center>STT</center>  | <center>Tên cột</center>  | <center>STT</center>  | <center>Tên cột</center> |\n",
    "|-|  -| -  |  -|\n",
    "| <center>1| <center>year | <center>15| <center>crude_death_rate|\n",
    "| <center>2| <center>infant_mortality| <center>16| <center>net_migration|\n",
    "| <center>3| <center>infant_mortality_male| <center>17| <center>rate_natural_increase|\n",
    "| <center>4| <center>infant_mortality_female | <center>18| <center>growth_rate|\n",
    "| <center>5| <center>life_expectancy| <center>19| <center>fertility_rate_15_19|\n",
    "| <center>6| <center>life_expectancy_male| <center>20| <center>fertility_rate_20_24|\n",
    "| <center>7| <center>life_expectancy_female| <center>21| <center>fertility_rate_25_29|\n",
    "| <center>8| <center>mortality_rate_under5| <center>22| <center>fertility_rate_30_34|\n",
    "| <center>9| <center>mortality_rate_under5_male| <center>23| <center>fertility_rate_35_39|\n",
    "| <center>10| <center>mortality_rate_under5_female| <center>24| <center>fertility_rate_40_44|\n",
    "| <center>11| <center>mortality_rate_1to4| <center>25| <center>fertility_rate_45_49|\n",
    "| <center>12| <center>mortality_rate_1to4_male| <center>26| <center>total_fertility_rate|\n",
    "| <center>13| <center>mortality_rate_1to4_female| <center>27| <center>gross_reproduction_rate|\n",
    "| <center>14| <center>crude_birth_rate| <center>28| <center>sex_ratio_at_birth|"
   ]
  },
  {
   "cell_type": "code",
   "execution_count": 14,
   "metadata": {},
   "outputs": [
    {
     "data": {
      "text/html": [
       "<div>\n",
       "<style scoped>\n",
       "    .dataframe tbody tr th:only-of-type {\n",
       "        vertical-align: middle;\n",
       "    }\n",
       "\n",
       "    .dataframe tbody tr th {\n",
       "        vertical-align: top;\n",
       "    }\n",
       "\n",
       "    .dataframe thead th {\n",
       "        text-align: right;\n",
       "    }\n",
       "</style>\n",
       "<table border=\"1\" class=\"dataframe\">\n",
       "  <thead>\n",
       "    <tr style=\"text-align: right;\">\n",
       "      <th></th>\n",
       "      <th>year</th>\n",
       "      <th>infant_mortality</th>\n",
       "      <th>infant_mortality_male</th>\n",
       "      <th>infant_mortality_female</th>\n",
       "      <th>life_expectancy</th>\n",
       "      <th>life_expectancy_male</th>\n",
       "      <th>life_expectancy_female</th>\n",
       "      <th>mortality_rate_under5</th>\n",
       "      <th>mortality_rate_under5_male</th>\n",
       "      <th>mortality_rate_under5_female</th>\n",
       "      <th>...</th>\n",
       "      <th>fertility_rate_15_19</th>\n",
       "      <th>fertility_rate_20_24</th>\n",
       "      <th>fertility_rate_25_29</th>\n",
       "      <th>fertility_rate_30_34</th>\n",
       "      <th>fertility_rate_35_39</th>\n",
       "      <th>fertility_rate_40_44</th>\n",
       "      <th>fertility_rate_45_49</th>\n",
       "      <th>total_fertility_rate</th>\n",
       "      <th>gross_reproduction_rate</th>\n",
       "      <th>sex_ratio_at_birth</th>\n",
       "    </tr>\n",
       "  </thead>\n",
       "  <tbody>\n",
       "    <tr>\n",
       "      <th>0</th>\n",
       "      <td>2036</td>\n",
       "      <td>3.39</td>\n",
       "      <td>3.76</td>\n",
       "      <td>3.00</td>\n",
       "      <td>80.90</td>\n",
       "      <td>77.51</td>\n",
       "      <td>84.52</td>\n",
       "      <td>3.93</td>\n",
       "      <td>4.39</td>\n",
       "      <td>3.44</td>\n",
       "      <td>...</td>\n",
       "      <td>8.5</td>\n",
       "      <td>60.2</td>\n",
       "      <td>112.0</td>\n",
       "      <td>86.3</td>\n",
       "      <td>32.0</td>\n",
       "      <td>8.8</td>\n",
       "      <td>3.7</td>\n",
       "      <td>1.5555</td>\n",
       "      <td>0.7529</td>\n",
       "      <td>1.0660</td>\n",
       "    </tr>\n",
       "    <tr>\n",
       "      <th>1</th>\n",
       "      <td>2022</td>\n",
       "      <td>3.76</td>\n",
       "      <td>4.22</td>\n",
       "      <td>3.27</td>\n",
       "      <td>79.11</td>\n",
       "      <td>75.58</td>\n",
       "      <td>82.89</td>\n",
       "      <td>4.43</td>\n",
       "      <td>5.02</td>\n",
       "      <td>3.81</td>\n",
       "      <td>...</td>\n",
       "      <td>7.5</td>\n",
       "      <td>56.4</td>\n",
       "      <td>106.1</td>\n",
       "      <td>75.5</td>\n",
       "      <td>26.7</td>\n",
       "      <td>6.4</td>\n",
       "      <td>2.3</td>\n",
       "      <td>1.4110</td>\n",
       "      <td>0.6829</td>\n",
       "      <td>1.0661</td>\n",
       "    </tr>\n",
       "    <tr>\n",
       "      <th>2</th>\n",
       "      <td>2023</td>\n",
       "      <td>3.73</td>\n",
       "      <td>4.18</td>\n",
       "      <td>3.25</td>\n",
       "      <td>79.26</td>\n",
       "      <td>75.73</td>\n",
       "      <td>83.02</td>\n",
       "      <td>4.39</td>\n",
       "      <td>4.97</td>\n",
       "      <td>3.78</td>\n",
       "      <td>...</td>\n",
       "      <td>7.6</td>\n",
       "      <td>56.5</td>\n",
       "      <td>106.6</td>\n",
       "      <td>76.2</td>\n",
       "      <td>27.2</td>\n",
       "      <td>6.6</td>\n",
       "      <td>2.4</td>\n",
       "      <td>1.4213</td>\n",
       "      <td>0.6879</td>\n",
       "      <td>1.0660</td>\n",
       "    </tr>\n",
       "    <tr>\n",
       "      <th>3</th>\n",
       "      <td>2024</td>\n",
       "      <td>3.70</td>\n",
       "      <td>4.14</td>\n",
       "      <td>3.22</td>\n",
       "      <td>79.40</td>\n",
       "      <td>75.89</td>\n",
       "      <td>83.15</td>\n",
       "      <td>4.35</td>\n",
       "      <td>4.91</td>\n",
       "      <td>3.74</td>\n",
       "      <td>...</td>\n",
       "      <td>7.7</td>\n",
       "      <td>56.8</td>\n",
       "      <td>107.0</td>\n",
       "      <td>77.1</td>\n",
       "      <td>27.5</td>\n",
       "      <td>6.7</td>\n",
       "      <td>2.5</td>\n",
       "      <td>1.4316</td>\n",
       "      <td>0.6929</td>\n",
       "      <td>1.0660</td>\n",
       "    </tr>\n",
       "    <tr>\n",
       "      <th>4</th>\n",
       "      <td>2025</td>\n",
       "      <td>3.67</td>\n",
       "      <td>4.10</td>\n",
       "      <td>3.20</td>\n",
       "      <td>79.55</td>\n",
       "      <td>76.04</td>\n",
       "      <td>83.29</td>\n",
       "      <td>4.31</td>\n",
       "      <td>4.86</td>\n",
       "      <td>3.71</td>\n",
       "      <td>...</td>\n",
       "      <td>7.7</td>\n",
       "      <td>56.9</td>\n",
       "      <td>107.4</td>\n",
       "      <td>78.0</td>\n",
       "      <td>27.7</td>\n",
       "      <td>6.9</td>\n",
       "      <td>2.6</td>\n",
       "      <td>1.4419</td>\n",
       "      <td>0.6979</td>\n",
       "      <td>1.0661</td>\n",
       "    </tr>\n",
       "  </tbody>\n",
       "</table>\n",
       "<p>5 rows × 28 columns</p>\n",
       "</div>"
      ],
      "text/plain": [
       "   year  infant_mortality  infant_mortality_male  infant_mortality_female  \\\n",
       "0  2036              3.39                   3.76                     3.00   \n",
       "1  2022              3.76                   4.22                     3.27   \n",
       "2  2023              3.73                   4.18                     3.25   \n",
       "3  2024              3.70                   4.14                     3.22   \n",
       "4  2025              3.67                   4.10                     3.20   \n",
       "\n",
       "   life_expectancy  life_expectancy_male  life_expectancy_female  \\\n",
       "0            80.90                 77.51                   84.52   \n",
       "1            79.11                 75.58                   82.89   \n",
       "2            79.26                 75.73                   83.02   \n",
       "3            79.40                 75.89                   83.15   \n",
       "4            79.55                 76.04                   83.29   \n",
       "\n",
       "   mortality_rate_under5  mortality_rate_under5_male  \\\n",
       "0                   3.93                        4.39   \n",
       "1                   4.43                        5.02   \n",
       "2                   4.39                        4.97   \n",
       "3                   4.35                        4.91   \n",
       "4                   4.31                        4.86   \n",
       "\n",
       "   mortality_rate_under5_female  ...  fertility_rate_15_19  \\\n",
       "0                          3.44  ...                   8.5   \n",
       "1                          3.81  ...                   7.5   \n",
       "2                          3.78  ...                   7.6   \n",
       "3                          3.74  ...                   7.7   \n",
       "4                          3.71  ...                   7.7   \n",
       "\n",
       "   fertility_rate_20_24  fertility_rate_25_29  fertility_rate_30_34  \\\n",
       "0                  60.2                 112.0                  86.3   \n",
       "1                  56.4                 106.1                  75.5   \n",
       "2                  56.5                 106.6                  76.2   \n",
       "3                  56.8                 107.0                  77.1   \n",
       "4                  56.9                 107.4                  78.0   \n",
       "\n",
       "   fertility_rate_35_39  fertility_rate_40_44  fertility_rate_45_49  \\\n",
       "0                  32.0                   8.8                   3.7   \n",
       "1                  26.7                   6.4                   2.3   \n",
       "2                  27.2                   6.6                   2.4   \n",
       "3                  27.5                   6.7                   2.5   \n",
       "4                  27.7                   6.9                   2.6   \n",
       "\n",
       "   total_fertility_rate  gross_reproduction_rate  sex_ratio_at_birth  \n",
       "0                1.5555                   0.7529              1.0660  \n",
       "1                1.4110                   0.6829              1.0661  \n",
       "2                1.4213                   0.6879              1.0660  \n",
       "3                1.4316                   0.6929              1.0660  \n",
       "4                1.4419                   0.6979              1.0661  \n",
       "\n",
       "[5 rows x 28 columns]"
      ]
     },
     "execution_count": 14,
     "metadata": {},
     "output_type": "execute_result"
    }
   ],
   "source": [
    "pd.set_option('display.max_colwidth', 200)\n",
    "numerical_cols = df[df.select_dtypes(exclude=['object']).columns]\n",
    "numerical_cols.head(5)"
   ]
  },
  {
   "cell_type": "markdown",
   "metadata": {},
   "source": [
    "Với mỗi cột numeric ta sẽ tính tỉ lệ % giá trị thiếu, min, max. Và lưu kết quả vào Dataframe `nume_col_profiles_df`.\n",
    "Dataframe này gồm có:\n",
    "- 3 dòng là `missing_ratio`, `min`, `max` lần lượt là tỉ lệ các giá trị thiếu mỗi cột, min và max.\n",
    "- 28 cột là các thuộc tính thuộc kiểu dữ liệu **numerical**."
   ]
  },
  {
   "cell_type": "code",
   "execution_count": 15,
   "metadata": {},
   "outputs": [
    {
     "data": {
      "text/html": [
       "<div>\n",
       "<style scoped>\n",
       "    .dataframe tbody tr th:only-of-type {\n",
       "        vertical-align: middle;\n",
       "    }\n",
       "\n",
       "    .dataframe tbody tr th {\n",
       "        vertical-align: top;\n",
       "    }\n",
       "\n",
       "    .dataframe thead th {\n",
       "        text-align: right;\n",
       "    }\n",
       "</style>\n",
       "<table border=\"1\" class=\"dataframe\">\n",
       "  <thead>\n",
       "    <tr style=\"text-align: right;\">\n",
       "      <th></th>\n",
       "      <th>year</th>\n",
       "      <th>infant_mortality</th>\n",
       "      <th>infant_mortality_male</th>\n",
       "      <th>infant_mortality_female</th>\n",
       "      <th>life_expectancy</th>\n",
       "      <th>life_expectancy_male</th>\n",
       "      <th>life_expectancy_female</th>\n",
       "      <th>mortality_rate_under5</th>\n",
       "      <th>mortality_rate_under5_male</th>\n",
       "      <th>mortality_rate_under5_female</th>\n",
       "      <th>...</th>\n",
       "      <th>fertility_rate_15_19</th>\n",
       "      <th>fertility_rate_20_24</th>\n",
       "      <th>fertility_rate_25_29</th>\n",
       "      <th>fertility_rate_30_34</th>\n",
       "      <th>fertility_rate_35_39</th>\n",
       "      <th>fertility_rate_40_44</th>\n",
       "      <th>fertility_rate_45_49</th>\n",
       "      <th>total_fertility_rate</th>\n",
       "      <th>gross_reproduction_rate</th>\n",
       "      <th>sex_ratio_at_birth</th>\n",
       "    </tr>\n",
       "  </thead>\n",
       "  <tbody>\n",
       "    <tr>\n",
       "      <th>missing_ratio</th>\n",
       "      <td>0.0</td>\n",
       "      <td>0.00</td>\n",
       "      <td>0.00</td>\n",
       "      <td>0.00</td>\n",
       "      <td>0.00</td>\n",
       "      <td>0.00</td>\n",
       "      <td>0.00</td>\n",
       "      <td>0.00</td>\n",
       "      <td>0.00</td>\n",
       "      <td>0.00</td>\n",
       "      <td>...</td>\n",
       "      <td>0.0</td>\n",
       "      <td>0.0</td>\n",
       "      <td>0.0</td>\n",
       "      <td>0.0</td>\n",
       "      <td>0.0</td>\n",
       "      <td>0.0</td>\n",
       "      <td>0.0</td>\n",
       "      <td>0.0000</td>\n",
       "      <td>0.0000</td>\n",
       "      <td>0.0000</td>\n",
       "    </tr>\n",
       "    <tr>\n",
       "      <th>min</th>\n",
       "      <td>1950.0</td>\n",
       "      <td>1.15</td>\n",
       "      <td>0.22</td>\n",
       "      <td>0.73</td>\n",
       "      <td>10.01</td>\n",
       "      <td>9.82</td>\n",
       "      <td>10.21</td>\n",
       "      <td>1.44</td>\n",
       "      <td>1.66</td>\n",
       "      <td>1.21</td>\n",
       "      <td>...</td>\n",
       "      <td>0.0</td>\n",
       "      <td>9.5</td>\n",
       "      <td>34.1</td>\n",
       "      <td>23.1</td>\n",
       "      <td>7.2</td>\n",
       "      <td>0.0</td>\n",
       "      <td>0.0</td>\n",
       "      <td>0.6621</td>\n",
       "      <td>-9.0000</td>\n",
       "      <td>-9.0000</td>\n",
       "    </tr>\n",
       "    <tr>\n",
       "      <th>max</th>\n",
       "      <td>2050.0</td>\n",
       "      <td>298.30</td>\n",
       "      <td>314.65</td>\n",
       "      <td>281.22</td>\n",
       "      <td>91.58</td>\n",
       "      <td>88.69</td>\n",
       "      <td>94.97</td>\n",
       "      <td>455.12</td>\n",
       "      <td>466.23</td>\n",
       "      <td>443.65</td>\n",
       "      <td>...</td>\n",
       "      <td>237.4</td>\n",
       "      <td>363.3</td>\n",
       "      <td>369.2</td>\n",
       "      <td>338.3</td>\n",
       "      <td>282.9</td>\n",
       "      <td>201.3</td>\n",
       "      <td>105.8</td>\n",
       "      <td>8.0700</td>\n",
       "      <td>3.9754</td>\n",
       "      <td>1.4696</td>\n",
       "    </tr>\n",
       "  </tbody>\n",
       "</table>\n",
       "<p>3 rows × 28 columns</p>\n",
       "</div>"
      ],
      "text/plain": [
       "                 year  infant_mortality  infant_mortality_male  \\\n",
       "missing_ratio     0.0              0.00                   0.00   \n",
       "min            1950.0              1.15                   0.22   \n",
       "max            2050.0            298.30                 314.65   \n",
       "\n",
       "               infant_mortality_female  life_expectancy  life_expectancy_male  \\\n",
       "missing_ratio                     0.00             0.00                  0.00   \n",
       "min                               0.73            10.01                  9.82   \n",
       "max                             281.22            91.58                 88.69   \n",
       "\n",
       "               life_expectancy_female  mortality_rate_under5  \\\n",
       "missing_ratio                    0.00                   0.00   \n",
       "min                             10.21                   1.44   \n",
       "max                             94.97                 455.12   \n",
       "\n",
       "               mortality_rate_under5_male  mortality_rate_under5_female  ...  \\\n",
       "missing_ratio                        0.00                          0.00  ...   \n",
       "min                                  1.66                          1.21  ...   \n",
       "max                                466.23                        443.65  ...   \n",
       "\n",
       "               fertility_rate_15_19  fertility_rate_20_24  \\\n",
       "missing_ratio                   0.0                   0.0   \n",
       "min                             0.0                   9.5   \n",
       "max                           237.4                 363.3   \n",
       "\n",
       "               fertility_rate_25_29  fertility_rate_30_34  \\\n",
       "missing_ratio                   0.0                   0.0   \n",
       "min                            34.1                  23.1   \n",
       "max                           369.2                 338.3   \n",
       "\n",
       "               fertility_rate_35_39  fertility_rate_40_44  \\\n",
       "missing_ratio                   0.0                   0.0   \n",
       "min                             7.2                   0.0   \n",
       "max                           282.9                 201.3   \n",
       "\n",
       "               fertility_rate_45_49  total_fertility_rate  \\\n",
       "missing_ratio                   0.0                0.0000   \n",
       "min                             0.0                0.6621   \n",
       "max                           105.8                8.0700   \n",
       "\n",
       "               gross_reproduction_rate  sex_ratio_at_birth  \n",
       "missing_ratio                   0.0000              0.0000  \n",
       "min                            -9.0000             -9.0000  \n",
       "max                             3.9754              1.4696  \n",
       "\n",
       "[3 rows x 28 columns]"
      ]
     },
     "execution_count": 15,
     "metadata": {},
     "output_type": "execute_result"
    }
   ],
   "source": [
    "def missing_ratio(c):\n",
    "    return  c.isna().sum()/len(df) * 100\n",
    "\n",
    "def min(c):\n",
    "    return c.min()\n",
    "\n",
    "def max(c):\n",
    "    return c.max()\n",
    "\n",
    "nume_col_profiles_df = numerical_cols.agg([missing_ratio, min, max])\n",
    "nume_col_profiles_df"
   ]
  },
  {
   "cell_type": "markdown",
   "metadata": {},
   "source": [
    "Nhận thấy không có giá trị nào bị thiếu ở tất cả các cột (phần trăm thiếu bằng 0%).\n",
    "Với dữ liệu ở cột  `year`, dữ liệu được thu thập và dự đoán từ năm 1950 đến năm 2050."
   ]
  },
  {
   "cell_type": "markdown",
   "metadata": {},
   "source": [
    "#### Với mỗi cột có kiểu dữ liệu dạng phân loại (categorical), các giá trị được phân bố như thế nào?"
   ]
  },
  {
   "cell_type": "markdown",
   "metadata": {},
   "source": [
    "Ở dữ liệu này, hiện có 2 cột thuộc nhóm categorical: `country_code`, `country_name`.\n"
   ]
  },
  {
   "cell_type": "code",
   "execution_count": 16,
   "metadata": {},
   "outputs": [
    {
     "data": {
      "text/html": [
       "<div>\n",
       "<style scoped>\n",
       "    .dataframe tbody tr th:only-of-type {\n",
       "        vertical-align: middle;\n",
       "    }\n",
       "\n",
       "    .dataframe tbody tr th {\n",
       "        vertical-align: top;\n",
       "    }\n",
       "\n",
       "    .dataframe thead th {\n",
       "        text-align: right;\n",
       "    }\n",
       "</style>\n",
       "<table border=\"1\" class=\"dataframe\">\n",
       "  <thead>\n",
       "    <tr style=\"text-align: right;\">\n",
       "      <th></th>\n",
       "      <th>country_code</th>\n",
       "      <th>country_name</th>\n",
       "    </tr>\n",
       "  </thead>\n",
       "  <tbody>\n",
       "    <tr>\n",
       "      <th>0</th>\n",
       "      <td>SI</td>\n",
       "      <td>Slovenia</td>\n",
       "    </tr>\n",
       "    <tr>\n",
       "      <th>1</th>\n",
       "      <td>SI</td>\n",
       "      <td>Slovenia</td>\n",
       "    </tr>\n",
       "    <tr>\n",
       "      <th>2</th>\n",
       "      <td>SI</td>\n",
       "      <td>Slovenia</td>\n",
       "    </tr>\n",
       "    <tr>\n",
       "      <th>3</th>\n",
       "      <td>SI</td>\n",
       "      <td>Slovenia</td>\n",
       "    </tr>\n",
       "    <tr>\n",
       "      <th>4</th>\n",
       "      <td>SI</td>\n",
       "      <td>Slovenia</td>\n",
       "    </tr>\n",
       "  </tbody>\n",
       "</table>\n",
       "</div>"
      ],
      "text/plain": [
       "  country_code country_name\n",
       "0           SI     Slovenia\n",
       "1           SI     Slovenia\n",
       "2           SI     Slovenia\n",
       "3           SI     Slovenia\n",
       "4           SI     Slovenia"
      ]
     },
     "execution_count": 16,
     "metadata": {},
     "output_type": "execute_result"
    }
   ],
   "source": [
    "pd.set_option('display.max_colwidth', 200)\n",
    "object_cols = df[df.select_dtypes(include=['object']).columns]\n",
    "object_cols.head(5)"
   ]
  },
  {
   "cell_type": "markdown",
   "metadata": {},
   "source": [
    "Với mỗi cột categorical, ta tính tỉ lệ % giá trị thiếu, số lượng giá trị khác nhau (không xét giá trị thiếu), list/ array các giá trị khác nhau (không xét giá trị thiếu).\n",
    "- Kết quả được lưu vào dataframe `cate_col_profiles_df`.\n",
    "- Dataframe này có 3 dòng là `missing_ratio`, `num_diff_vals`, `ratio_diff_vals`; và có 2 cột là các thuộc tính có kiểu dữ liệu **categorical**."
   ]
  },
  {
   "cell_type": "code",
   "execution_count": 17,
   "metadata": {},
   "outputs": [
    {
     "data": {
      "text/html": [
       "<div>\n",
       "<style scoped>\n",
       "    .dataframe tbody tr th:only-of-type {\n",
       "        vertical-align: middle;\n",
       "    }\n",
       "\n",
       "    .dataframe tbody tr th {\n",
       "        vertical-align: top;\n",
       "    }\n",
       "\n",
       "    .dataframe thead th {\n",
       "        text-align: right;\n",
       "    }\n",
       "</style>\n",
       "<table border=\"1\" class=\"dataframe\">\n",
       "  <thead>\n",
       "    <tr style=\"text-align: right;\">\n",
       "      <th></th>\n",
       "      <th>country_code</th>\n",
       "      <th>country_name</th>\n",
       "    </tr>\n",
       "  </thead>\n",
       "  <tbody>\n",
       "    <tr>\n",
       "      <th>missing_ratio</th>\n",
       "      <td>0.0</td>\n",
       "      <td>0.0</td>\n",
       "    </tr>\n",
       "    <tr>\n",
       "      <th>num_diff_vals</th>\n",
       "      <td>228</td>\n",
       "      <td>228</td>\n",
       "    </tr>\n",
       "    <tr>\n",
       "      <th>ratio_diff_vals</th>\n",
       "      <td>{'BT': 0.01, 'DJ': 0.01, 'NI': 0.01, 'GV': 0.01, 'CB': 0.01, 'CD': 0.01, 'GB': 0.01, 'UG': 0.01, 'LE': 0.01, 'WI': 0.01, 'AO': 0.01, 'BR': 0.01, 'GH': 0.01, 'NU': 0.01, 'HA': 0.01, 'NP': 0.01, 'PA...</td>\n",
       "      <td>{'Bhutan': 0.01, 'Djibouti': 0.01, 'Nigeria': 0.01, 'Guinea': 0.01, 'Cambodia': 0.01, 'Chad': 0.01, 'Uganda': 0.01, 'Gabon': 0.01, 'Brazil': 0.01, 'Angola': 0.01, 'Western Sahara': 0.01, 'Ghana': ...</td>\n",
       "    </tr>\n",
       "  </tbody>\n",
       "</table>\n",
       "</div>"
      ],
      "text/plain": [
       "                                                                                                                                                                                                            country_code  \\\n",
       "missing_ratio                                                                                                                                                                                                        0.0   \n",
       "num_diff_vals                                                                                                                                                                                                        228   \n",
       "ratio_diff_vals  {'BT': 0.01, 'DJ': 0.01, 'NI': 0.01, 'GV': 0.01, 'CB': 0.01, 'CD': 0.01, 'GB': 0.01, 'UG': 0.01, 'LE': 0.01, 'WI': 0.01, 'AO': 0.01, 'BR': 0.01, 'GH': 0.01, 'NU': 0.01, 'HA': 0.01, 'NP': 0.01, 'PA...   \n",
       "\n",
       "                                                                                                                                                                                                            country_name  \n",
       "missing_ratio                                                                                                                                                                                                        0.0  \n",
       "num_diff_vals                                                                                                                                                                                                        228  \n",
       "ratio_diff_vals  {'Bhutan': 0.01, 'Djibouti': 0.01, 'Nigeria': 0.01, 'Guinea': 0.01, 'Cambodia': 0.01, 'Chad': 0.01, 'Uganda': 0.01, 'Gabon': 0.01, 'Brazil': 0.01, 'Angola': 0.01, 'Western Sahara': 0.01, 'Ghana': ...  "
      ]
     },
     "execution_count": 17,
     "metadata": {},
     "output_type": "execute_result"
    }
   ],
   "source": [
    "def num_diff_vals(col):\n",
    "    return len(col.value_counts())\n",
    "\n",
    "def ratio_diff_vals(col):\n",
    "    return np.round(col.value_counts(normalize=True),2).to_dict()\n",
    "\n",
    "cate_col_profiles_df=object_cols.agg([missing_ratio,num_diff_vals,ratio_diff_vals])\n",
    "cate_col_profiles_df"
   ]
  },
  {
   "cell_type": "markdown",
   "metadata": {},
   "source": [
    "- Nhận thấy không có giá trị nào bị thiếu.\n",
    "- Tổng cộng có 228 giá trị khác nhau ở `country_code` và  `country_name`, đại diện cho 228 quốc gia trên thế giới."
   ]
  },
  {
   "cell_type": "markdown",
   "metadata": {},
   "source": [
    "### 7. Có cần phải tiền xử lý dữ liệu hay không?"
   ]
  },
  {
   "cell_type": "markdown",
   "metadata": {},
   "source": [
    "Do ở trên ta đã kiểm tra và nhận thấy rằng các cột đều đang ở đúng kiểu dữ liệu của nó nên ở đây, ta sẽ kiểm tra xem các cột có đầy đủ dữ liệu hay không."
   ]
  },
  {
   "cell_type": "code",
   "execution_count": 18,
   "metadata": {},
   "outputs": [
    {
     "data": {
      "text/plain": [
       "country_code                    False\n",
       "country_name                    False\n",
       "year                            False\n",
       "infant_mortality                False\n",
       "infant_mortality_male           False\n",
       "infant_mortality_female         False\n",
       "life_expectancy                 False\n",
       "life_expectancy_male            False\n",
       "life_expectancy_female          False\n",
       "mortality_rate_under5           False\n",
       "mortality_rate_under5_male      False\n",
       "mortality_rate_under5_female    False\n",
       "mortality_rate_1to4             False\n",
       "mortality_rate_1to4_male        False\n",
       "mortality_rate_1to4_female      False\n",
       "crude_birth_rate                False\n",
       "crude_death_rate                False\n",
       "net_migration                   False\n",
       "rate_natural_increase           False\n",
       "growth_rate                     False\n",
       "fertility_rate_15_19            False\n",
       "fertility_rate_20_24            False\n",
       "fertility_rate_25_29            False\n",
       "fertility_rate_30_34            False\n",
       "fertility_rate_35_39            False\n",
       "fertility_rate_40_44            False\n",
       "fertility_rate_45_49            False\n",
       "total_fertility_rate            False\n",
       "gross_reproduction_rate         False\n",
       "sex_ratio_at_birth              False\n",
       "dtype: bool"
      ]
     },
     "execution_count": 18,
     "metadata": {},
     "output_type": "execute_result"
    }
   ],
   "source": [
    "df.isnull().any()"
   ]
  },
  {
   "cell_type": "markdown",
   "metadata": {},
   "source": [
    "Ta nhận thấy các cột không xuất hiện tình trạng thiếu dữ liệu. Nên tạm thời ta sẽ không thực hiện việc tiền xử lý đối với dữ liệu. Tuy nhiên, nhóm sẽ có thể thực hiện việc tiền xử lý ở phần phân tích tùy thuộc vào hoàn cảnh nhóm sẽ thực hiện."
   ]
  },
  {
   "cell_type": "markdown",
   "metadata": {},
   "source": [
    "<a name=\"6\"></a>\n",
    "# <font color=#0404B4> C. Khám phá mối quan hệ trong dữ liệu</font>"
   ]
  },
  {
   "cell_type": "markdown",
   "metadata": {},
   "source": [
    "### 1. Tổng quan"
   ]
  },
  {
   "cell_type": "markdown",
   "metadata": {},
   "source": [
    "### 2. Phân tích"
   ]
  },
  {
   "attachments": {},
   "cell_type": "markdown",
   "metadata": {},
   "source": [
    "### 3. Phân tích tỉ lệ sinh sản theo độ tuổi trong 20 năm (kể từ lần cập nhật dữ liệu cuối cùng) của các quốc gia ở khu vực ASEAN"
   ]
  },
  {
   "attachments": {},
   "cell_type": "markdown",
   "metadata": {},
   "source": [
    "**Ý nghĩa khi trả lời câu hỏi:** \n",
    "\n",
    "* Tương quan giữa tỉ lệ sinh sản theo độ tuổi với nhau, tương quan giữa tỉ lệ sinh sản với độ tuổi trong khu vực Đông Nam Á chúng ta trước đây và hiện tại.\n",
    "* Sự phân bố tỉ lệ sinh sản theo độ tuổi.\n",
    "* Sự thay đổi, biến thiên của tỉ lệ sinh sản theo độ tuổi của các nước trong khổi ASEAN theo từng năm.\n",
    "\n",
    "**Nguồn cảm hứng đặt câu hỏi:**\n",
    "\n",
    "* Thêm kiến thức về các mối quan hệ giữa tỉ lệ sinh sản theo độ tuổi với nhau và giữa tỉ lệ sinh sản với độ tuổi. "
   ]
  },
  {
   "attachments": {},
   "cell_type": "markdown",
   "metadata": {},
   "source": [
    "Trích những thuộc tính cầm thiết để phân tích tỉ lệ sinh sản theo độ tuổi của các quốc gia/vùng lãnh thổ\n"
   ]
  },
  {
   "cell_type": "code",
   "execution_count": 19,
   "metadata": {},
   "outputs": [],
   "source": [
    "detail_fertility=df.loc[:,['country_code','country_name','year','fertility_rate_15_19','fertility_rate_20_24','fertility_rate_25_29','fertility_rate_30_34','fertility_rate_35_39','fertility_rate_40_44','fertility_rate_45_49','total_fertility_rate','gross_reproduction_rate','sex_ratio_at_birth']].copy()"
   ]
  },
  {
   "attachments": {},
   "cell_type": "markdown",
   "metadata": {},
   "source": [
    "Chọn ra dữ liệu 20 năm gần đây nhất: từ năm 1997 đến năm 2017"
   ]
  },
  {
   "cell_type": "code",
   "execution_count": 20,
   "metadata": {},
   "outputs": [],
   "source": [
    "detail_fertility=detail_fertility[(detail_fertility.year <= 2017) & (detail_fertility.year >= 1997)]"
   ]
  },
  {
   "attachments": {},
   "cell_type": "markdown",
   "metadata": {},
   "source": [
    "Các thành viên trong ASEAN:\n",
    "\n",
    "|<center>STT | <center>Tên quốc gia| <center>country_name|\n",
    "|-|  -| -  |\n",
    "| <center>1| <center>Brunei | <center>Brunei|\n",
    "| <center>2| <center>Campuchia| <center>Cambodia|\n",
    "| <center>3| <center>Đông Timo| <center>Timor-Leste\n",
    "| <center>4| <center>Indonesia | <center>Indonesia|\n",
    "| <center>5| <center>Lào| <center>Laos|\n",
    "| <center>6| <center>Malaysia| <center>Malaysia|\n",
    "| <center>7| <center>Myanmar| <center>Burma|\n",
    "| <center>8| <center>Philippine| <center>Philippines|\n",
    "| <center>9| <center>Singapore| <center>Singapore|\n",
    "| <center>10| <center>Thái Lan| <center>Thailand|\n",
    "| <center>11| <center>Việt Nam| <center>Vietnam|\n"
   ]
  },
  {
   "cell_type": "code",
   "execution_count": 21,
   "metadata": {},
   "outputs": [],
   "source": [
    "country_name_ASEAN=['Brunei','Cambodia','Timor-Leste','Indonesia','Laos','Malaysia','Burma','Philippines','Singapore','Thailand','Vietnam']\n",
    "detail_fertility=detail_fertility[detail_fertility.country_name.isin(country_name_ASEAN)]"
   ]
  },
  {
   "attachments": {},
   "cell_type": "markdown",
   "metadata": {},
   "source": [
    "Dùng **biểu đồ boxplot** để quan sát được phân bố tỉ lệ sinh ở các độ tuổi:"
   ]
  },
  {
   "cell_type": "code",
   "execution_count": 22,
   "metadata": {},
   "outputs": [
    {
     "data": {
      "image/png": "[encoded data removed]",
      "text/plain": [
       "<Figure size 1800x1200 with 1 Axes>"
      ]
     },
     "metadata": {},
     "output_type": "display_data"
    }
   ],
   "source": [
    "fig,ax=plt.subplots(figsize=(18,12))\n",
    "\n",
    "sns.boxplot(data=detail_fertility.iloc[:,3:-3],showmeans=True,meanprops={\"marker\":\"s\",\"markerfacecolor\":\"white\", \"markeredgecolor\":\"blue\"},ax=ax)\n",
    "ax.set_title(\"Boxplot of fertility rate\")\n",
    "\n",
    "plt.show()"
   ]
  },
  {
   "attachments": {},
   "cell_type": "markdown",
   "metadata": {},
   "source": [
    "#### Nhận xét:\n",
    "- Tỉ lệ sinh sản ở các độ tuổi `20-24`, `25-29`, `30-34` và `35-39` có sự phân bố khá lớn.\n",
    "- Tỉ lệ sinh sản trung bình cao nhất là từ `25-29` tuổi.\n",
    "- Ngược lại thì độ tuổi `45-49` tỉ lệ thấp, có ít nến phân bố hẹp hơn hẳn so với các độ tuổi khác.\n",
    "\n"
   ]
  },
  {
   "attachments": {},
   "cell_type": "markdown",
   "metadata": {},
   "source": [
    "Dùng `biểu đồ đường kết hợp tương tác` để theo dõi sự thay đổi của tỉ lệ sinh sản theo độ tuổi qua các năm của các nước ASEAN:\n",
    "- Các bước thực hiện:\n",
    "    - Ở đây nhóm sử dụng hàm `interact` trong thư viện `ipywedgets` để có thể chọn độ tuổi của tỉ lệ sinh làm trục y của biểu đồ\n",
    "    - Trong hàm `line_plot` thực hiện chọn, trích, biến đổi dữ liệu cho phù hợp để vẽ biểu đồ. Thêm các đường(quốc gia) vào biểu đồ. Thêm các chú thích cho biểu đồ."
   ]
  },
  {
   "cell_type": "code",
   "execution_count": 23,
   "metadata": {},
   "outputs": [],
   "source": [
    "# Chọn màu cho các nước\n",
    "colors = ['#1f77b4', '#ff7f0e', '#2ca02c', '#9467bd', '#8c564b', '#e377c2', '#7f7f7f', '#bcbd22', '#17becf', '#ff33cc', '#d62728']\n",
    "\n",
    "def line_plot(attribute='fertility_rate_25_29'):\n",
    "    # Chọn, biến đổi dữ liệu về dataframe với cột là các nước, dòng là năm\n",
    "    temp_df=detail_fertility.pivot('year','country_name',attribute)\n",
    "    temp_df=temp_df.sort_index().fillna(0)\n",
    "    temp_df.reset_index(inplace=True)\n",
    "\n",
    "    # Khởi tạo biểu đồ\n",
    "    fig = go.Figure()\n",
    "\n",
    "    # Thêm các đường thể hiện sự biến đổi của các quốc gia vào\n",
    "    for i,col in zip(range(0,len(colors),1),temp_df.columns[1:]):\n",
    "        fig.add_trace(go.Scatter(x=temp_df.year, y=temp_df[col], mode='lines', line=dict(color=colors[i]), name=col))\n",
    "\n",
    "    # Hiển thị thông tin khi đưa con trỏ chuột vào\n",
    "    fig.update_layout(hovermode='x')\n",
    "\n",
    "    # Thiệt lập nhãn ở trục x và giới hạn cho trục y\n",
    "    xtickvals = np.arange(1997, 2018, 1)\n",
    "    xticktext = [str(year) for year in xtickvals]\n",
    "    fig.update_xaxes(tickvals=xtickvals, ticktext=xticktext)\n",
    "    fig.update_yaxes(range=[0, 375])\n",
    "    \n",
    "    # Thêm tên biểu đồ và nhãn chú thích phân biệt giữa các đường(quốc gia)\n",
    "    inteval_age=re.findall(r'\\d{2}',attribute)\n",
    "    fig.update_layout(title='Fertility Age '+inteval_age[0]+' to '+inteval_age[1] + ' of ASEAN countries', xaxis_title='Year', yaxis_title=attribute)\n",
    "    fig.update_layout(legend=dict(y=0.5, x=1.05))\n",
    "    fig.show()"
   ]
  },
  {
   "cell_type": "code",
   "execution_count": 24,
   "metadata": {},
   "outputs": [
    {
     "data": {
      "application/vnd.plotly.v1+json": {
       "config": {
        "plotlyServerURL": "https://plot.ly"
       },
       "data": [
        {
         "line": {
          "color": "#1f77b4"
         },
         "mode": "lines",
         "name": "Brunei",
         "type": "scatter",
         "x": [
          1997,
          1998,
          1999,
          2000,
          2001,
          2002,
          2003,
          2004,
          2005,
          2006,
          2007,
          2008,
          2009,
          2010,
          2011,
          2012,
          2013,
          2014,
          2015,
          2016,
          2017
         ],
         "y": [
          167.9,
          163.7,
          160.2,
          148.3,
          144.3,
          130.2,
          128,
          125.7,
          123.5,
          123,
          122.5,
          122,
          121.5,
          121,
          120.7,
          120.5,
          120.2,
          119.9,
          119.7,
          119.5,
          119.3
         ]
        },
        {
         "line": {
          "color": "#ff7f0e"
         },
         "mode": "lines",
         "name": "Burma",
         "type": "scatter",
         "x": [
          1997,
          1998,
          1999,
          2000,
          2001,
          2002,
          2003,
          2004,
          2005,
          2006,
          2007,
          2008,
          2009,
          2010,
          2011,
          2012,
          2013,
          2014,
          2015,
          2016,
          2017
         ],
         "y": [
          167.8,
          164.3,
          161.1,
          158.2,
          155.4,
          152.9,
          150.4,
          148.2,
          146.1,
          144.3,
          142.9,
          141.1,
          140.1,
          138.6,
          137.8,
          136.9,
          136.1,
          135.2,
          134.4,
          133.9,
          133.4
         ]
        },
        {
         "line": {
          "color": "#2ca02c"
         },
         "mode": "lines",
         "name": "Cambodia",
         "type": "scatter",
         "x": [
          1997,
          1998,
          1999,
          2000,
          2001,
          2002,
          2003,
          2004,
          2005,
          2006,
          2007,
          2008,
          2009,
          2010,
          2011,
          2012,
          2013,
          2014,
          2015,
          2016,
          2017
         ],
         "y": [
          210.9,
          203,
          199.2,
          195.3,
          191.5,
          187.7,
          183.8,
          180,
          177.2,
          174.5,
          171.7,
          168.9,
          165.3,
          161.6,
          159.5,
          157.3,
          155.1,
          152.9,
          150.7,
          149.2,
          147.7
         ]
        },
        {
         "line": {
          "color": "#9467bd"
         },
         "mode": "lines",
         "name": "Indonesia",
         "type": "scatter",
         "x": [
          1997,
          1998,
          1999,
          2000,
          2001,
          2002,
          2003,
          2004,
          2005,
          2006,
          2007,
          2008,
          2009,
          2010,
          2011,
          2012,
          2013,
          2014,
          2015,
          2016,
          2017
         ],
         "y": [
          147.7,
          146.4,
          145.2,
          143.9,
          142.9,
          141.9,
          141,
          140,
          139,
          138.1,
          137.2,
          136.3,
          135.4,
          134.5,
          133.8,
          133,
          132.3,
          131.5,
          130.8,
          130.2,
          129.5
         ]
        },
        {
         "line": {
          "color": "#8c564b"
         },
         "mode": "lines",
         "name": "Laos",
         "type": "scatter",
         "x": [
          1997,
          1998,
          1999,
          2000,
          2001,
          2002,
          2003,
          2004,
          2005,
          2006,
          2007,
          2008,
          2009,
          2010,
          2011,
          2012,
          2013,
          2014,
          2015,
          2016,
          2017
         ],
         "y": [
          245.3,
          243.7,
          242,
          240.4,
          231.3,
          222.3,
          213.2,
          204.2,
          195.2,
          192,
          188.8,
          185.6,
          182.4,
          179.3,
          176.6,
          174,
          171.3,
          168.7,
          166,
          164.1,
          162.2
         ]
        },
        {
         "line": {
          "color": "#e377c2"
         },
         "mode": "lines",
         "name": "Malaysia",
         "type": "scatter",
         "x": [
          1997,
          1998,
          1999,
          2000,
          2001,
          2002,
          2003,
          2004,
          2005,
          2006,
          2007,
          2008,
          2009,
          2010,
          2011,
          2012,
          2013,
          2014,
          2015,
          2016,
          2017
         ],
         "y": [
          199.8,
          200.6,
          198.9,
          197.3,
          194.7,
          192.2,
          189.6,
          187,
          184.5,
          182.3,
          180.2,
          178.1,
          176,
          173.8,
          172.2,
          170.5,
          168.8,
          167.1,
          165.5,
          164.1,
          162.8
         ]
        },
        {
         "line": {
          "color": "#7f7f7f"
         },
         "mode": "lines",
         "name": "Philippines",
         "type": "scatter",
         "x": [
          1997,
          1998,
          1999,
          2000,
          2001,
          2002,
          2003,
          2004,
          2005,
          2006,
          2007,
          2008,
          2009,
          2010,
          2011,
          2012,
          2013,
          2014,
          2015,
          2016,
          2017
         ],
         "y": [
          202.5,
          199.1,
          196.5,
          193.9,
          191.2,
          188.6,
          186,
          182.3,
          178.6,
          174.9,
          171.2,
          167.5,
          166.5,
          165.5,
          164.3,
          163.2,
          162,
          160.9,
          159.8,
          158.7,
          157.7
         ]
        },
        {
         "line": {
          "color": "#bcbd22"
         },
         "mode": "lines",
         "name": "Singapore",
         "type": "scatter",
         "x": [
          1997,
          1998,
          1999,
          2000,
          2001,
          2002,
          2003,
          2004,
          2005,
          2006,
          2007,
          2008,
          2009,
          2010,
          2011,
          2012,
          2013,
          2014,
          2015,
          2016,
          2017
         ],
         "y": [
          82.4,
          73.4,
          71.7,
          73.2,
          62.2,
          58.9,
          51.6,
          49.9,
          49.5,
          47.4,
          45.8,
          44.2,
          34.1,
          36.5,
          37.1,
          37.6,
          38.2,
          38.7,
          39.3,
          39.8,
          40.3
         ]
        },
        {
         "line": {
          "color": "#17becf"
         },
         "mode": "lines",
         "name": "Thailand",
         "type": "scatter",
         "x": [
          1997,
          1998,
          1999,
          2000,
          2001,
          2002,
          2003,
          2004,
          2005,
          2006,
          2007,
          2008,
          2009,
          2010,
          2011,
          2012,
          2013,
          2014,
          2015,
          2016,
          2017
         ],
         "y": [
          104.4,
          105,
          91.4,
          92.6,
          95.7,
          95.9,
          79.1,
          72.7,
          73.9,
          71.1,
          74.7,
          73.1,
          69.3,
          69.7,
          70.9,
          72.1,
          73.3,
          74.5,
          75.7,
          77,
          78.2
         ]
        },
        {
         "line": {
          "color": "#ff33cc"
         },
         "mode": "lines",
         "name": "Timor-Leste",
         "type": "scatter",
         "x": [
          1997,
          1998,
          1999,
          2000,
          2001,
          2002,
          2003,
          2004,
          2005,
          2006,
          2007,
          2008,
          2009,
          2010,
          2011,
          2012,
          2013,
          2014,
          2015,
          2016,
          2017
         ],
         "y": [
          270.4,
          272,
          293.8,
          324.2,
          350.3,
          344.5,
          324.1,
          270.8,
          272.1,
          273.4,
          274.7,
          276,
          272.5,
          269,
          265.5,
          261.9,
          257.9,
          253.6,
          249.6,
          245.2,
          240.8
         ]
        },
        {
         "line": {
          "color": "#d62728"
         },
         "mode": "lines",
         "name": "Vietnam",
         "type": "scatter",
         "x": [
          1997,
          1998,
          1999,
          2000,
          2001,
          2002,
          2003,
          2004,
          2005,
          2006,
          2007,
          2008,
          2009,
          2010,
          2011,
          2012,
          2013,
          2014,
          2015,
          2016,
          2017
         ],
         "y": [
          145.5,
          135,
          136.2,
          137.4,
          138.7,
          137.4,
          144,
          139.5,
          144.4,
          145.2,
          146,
          142.5,
          138.9,
          135.4,
          133.9,
          132.4,
          130.9,
          129.4,
          127.8,
          126.9,
          126
         ]
        }
       ],
       "layout": {
        "hovermode": "x",
        "legend": {
         "x": 1.05,
         "y": 0.5
        },
        "template": {
         "data": {
          "bar": [
           {
            "error_x": {
             "color": "#2a3f5f"
            },
            "error_y": {
             "color": "#2a3f5f"
            },
            "marker": {
             "line": {
              "color": "#E5ECF6",
              "width": 0.5
             },
             "pattern": {
              "fillmode": "overlay",
              "size": 10,
              "solidity": 0.2
             }
            },
            "type": "bar"
           }
          ],
          "barpolar": [
           {
            "marker": {
             "line": {
              "color": "#E5ECF6",
              "width": 0.5
             },
             "pattern": {
              "fillmode": "overlay",
              "size": 10,
              "solidity": 0.2
             }
            },
            "type": "barpolar"
           }
          ],
          "carpet": [
           {
            "aaxis": {
             "endlinecolor": "#2a3f5f",
             "gridcolor": "white",
             "linecolor": "white",
             "minorgridcolor": "white",
             "startlinecolor": "#2a3f5f"
            },
            "baxis": {
             "endlinecolor": "#2a3f5f",
             "gridcolor": "white",
             "linecolor": "white",
             "minorgridcolor": "white",
             "startlinecolor": "#2a3f5f"
            },
            "type": "carpet"
           }
          ],
          "choropleth": [
           {
            "colorbar": {
             "outlinewidth": 0,
             "ticks": ""
            },
            "type": "choropleth"
           }
          ],
          "contour": [
           {
            "colorbar": {
             "outlinewidth": 0,
             "ticks": ""
            },
            "colorscale": [
             [
              0,
              "#0d0887"
             ],
             [
              0.1111111111111111,
              "#46039f"
             ],
             [
              0.2222222222222222,
              "#7201a8"
             ],
             [
              0.3333333333333333,
              "#9c179e"
             ],
             [
              0.4444444444444444,
              "#bd3786"
             ],
             [
              0.5555555555555556,
              "#d8576b"
             ],
             [
              0.6666666666666666,
              "#ed7953"
             ],
             [
              0.7777777777777778,
              "#fb9f3a"
             ],
             [
              0.8888888888888888,
              "#fdca26"
             ],
             [
              1,
              "#f0f921"
             ]
            ],
            "type": "contour"
           }
          ],
          "contourcarpet": [
           {
            "colorbar": {
             "outlinewidth": 0,
             "ticks": ""
            },
            "type": "contourcarpet"
           }
          ],
          "heatmap": [
           {
            "colorbar": {
             "outlinewidth": 0,
             "ticks": ""
            },
            "colorscale": [
             [
              0,
              "#0d0887"
             ],
             [
              0.1111111111111111,
              "#46039f"
             ],
             [
              0.2222222222222222,
              "#7201a8"
             ],
             [
              0.3333333333333333,
              "#9c179e"
             ],
             [
              0.4444444444444444,
              "#bd3786"
             ],
             [
              0.5555555555555556,
              "#d8576b"
             ],
             [
              0.6666666666666666,
              "#ed7953"
             ],
             [
              0.7777777777777778,
              "#fb9f3a"
             ],
             [
              0.8888888888888888,
              "#fdca26"
             ],
             [
              1,
              "#f0f921"
             ]
            ],
            "type": "heatmap"
           }
          ],
          "heatmapgl": [
           {
            "colorbar": {
             "outlinewidth": 0,
             "ticks": ""
            },
            "colorscale": [
             [
              0,
              "#0d0887"
             ],
             [
              0.1111111111111111,
              "#46039f"
             ],
             [
              0.2222222222222222,
              "#7201a8"
             ],
             [
              0.3333333333333333,
              "#9c179e"
             ],
             [
              0.4444444444444444,
              "#bd3786"
             ],
             [
              0.5555555555555556,
              "#d8576b"
             ],
             [
              0.6666666666666666,
              "#ed7953"
             ],
             [
              0.7777777777777778,
              "#fb9f3a"
             ],
             [
              0.8888888888888888,
              "#fdca26"
             ],
             [
              1,
              "#f0f921"
             ]
            ],
            "type": "heatmapgl"
           }
          ],
          "histogram": [
           {
            "marker": {
             "pattern": {
              "fillmode": "overlay",
              "size": 10,
              "solidity": 0.2
             }
            },
            "type": "histogram"
           }
          ],
          "histogram2d": [
           {
            "colorbar": {
             "outlinewidth": 0,
             "ticks": ""
            },
            "colorscale": [
             [
              0,
              "#0d0887"
             ],
             [
              0.1111111111111111,
              "#46039f"
             ],
             [
              0.2222222222222222,
              "#7201a8"
             ],
             [
              0.3333333333333333,
              "#9c179e"
             ],
             [
              0.4444444444444444,
              "#bd3786"
             ],
             [
              0.5555555555555556,
              "#d8576b"
             ],
             [
              0.6666666666666666,
              "#ed7953"
             ],
             [
              0.7777777777777778,
              "#fb9f3a"
             ],
             [
              0.8888888888888888,
              "#fdca26"
             ],
             [
              1,
              "#f0f921"
             ]
            ],
            "type": "histogram2d"
           }
          ],
          "histogram2dcontour": [
           {
            "colorbar": {
             "outlinewidth": 0,
             "ticks": ""
            },
            "colorscale": [
             [
              0,
              "#0d0887"
             ],
             [
              0.1111111111111111,
              "#46039f"
             ],
             [
              0.2222222222222222,
              "#7201a8"
             ],
             [
              0.3333333333333333,
              "#9c179e"
             ],
             [
              0.4444444444444444,
              "#bd3786"
             ],
             [
              0.5555555555555556,
              "#d8576b"
             ],
             [
              0.6666666666666666,
              "#ed7953"
             ],
             [
              0.7777777777777778,
              "#fb9f3a"
             ],
             [
              0.8888888888888888,
              "#fdca26"
             ],
             [
              1,
              "#f0f921"
             ]
            ],
            "type": "histogram2dcontour"
           }
          ],
          "mesh3d": [
           {
            "colorbar": {
             "outlinewidth": 0,
             "ticks": ""
            },
            "type": "mesh3d"
           }
          ],
          "parcoords": [
           {
            "line": {
             "colorbar": {
              "outlinewidth": 0,
              "ticks": ""
             }
            },
            "type": "parcoords"
           }
          ],
          "pie": [
           {
            "automargin": true,
            "type": "pie"
           }
          ],
          "scatter": [
           {
            "fillpattern": {
             "fillmode": "overlay",
             "size": 10,
             "solidity": 0.2
            },
            "type": "scatter"
           }
          ],
          "scatter3d": [
           {
            "line": {
             "colorbar": {
              "outlinewidth": 0,
              "ticks": ""
             }
            },
            "marker": {
             "colorbar": {
              "outlinewidth": 0,
              "ticks": ""
             }
            },
            "type": "scatter3d"
           }
          ],
          "scattercarpet": [
           {
            "marker": {
             "colorbar": {
              "outlinewidth": 0,
              "ticks": ""
             }
            },
            "type": "scattercarpet"
           }
          ],
          "scattergeo": [
           {
            "marker": {
             "colorbar": {
              "outlinewidth": 0,
              "ticks": ""
             }
            },
            "type": "scattergeo"
           }
          ],
          "scattergl": [
           {
            "marker": {
             "colorbar": {
              "outlinewidth": 0,
              "ticks": ""
             }
            },
            "type": "scattergl"
           }
          ],
          "scattermapbox": [
           {
            "marker": {
             "colorbar": {
              "outlinewidth": 0,
              "ticks": ""
             }
            },
            "type": "scattermapbox"
           }
          ],
          "scatterpolar": [
           {
            "marker": {
             "colorbar": {
              "outlinewidth": 0,
              "ticks": ""
             }
            },
            "type": "scatterpolar"
           }
          ],
          "scatterpolargl": [
           {
            "marker": {
             "colorbar": {
              "outlinewidth": 0,
              "ticks": ""
             }
            },
            "type": "scatterpolargl"
           }
          ],
          "scatterternary": [
           {
            "marker": {
             "colorbar": {
              "outlinewidth": 0,
              "ticks": ""
             }
            },
            "type": "scatterternary"
           }
          ],
          "surface": [
           {
            "colorbar": {
             "outlinewidth": 0,
             "ticks": ""
            },
            "colorscale": [
             [
              0,
              "#0d0887"
             ],
             [
              0.1111111111111111,
              "#46039f"
             ],
             [
              0.2222222222222222,
              "#7201a8"
             ],
             [
              0.3333333333333333,
              "#9c179e"
             ],
             [
              0.4444444444444444,
              "#bd3786"
             ],
             [
              0.5555555555555556,
              "#d8576b"
             ],
             [
              0.6666666666666666,
              "#ed7953"
             ],
             [
              0.7777777777777778,
              "#fb9f3a"
             ],
             [
              0.8888888888888888,
              "#fdca26"
             ],
             [
              1,
              "#f0f921"
             ]
            ],
            "type": "surface"
           }
          ],
          "table": [
           {
            "cells": {
             "fill": {
              "color": "#EBF0F8"
             },
             "line": {
              "color": "white"
             }
            },
            "header": {
             "fill": {
              "color": "#C8D4E3"
             },
             "line": {
              "color": "white"
             }
            },
            "type": "table"
           }
          ]
         },
         "layout": {
          "annotationdefaults": {
           "arrowcolor": "#2a3f5f",
           "arrowhead": 0,
           "arrowwidth": 1
          },
          "autotypenumbers": "strict",
          "coloraxis": {
           "colorbar": {
            "outlinewidth": 0,
            "ticks": ""
           }
          },
          "colorscale": {
           "diverging": [
            [
             0,
             "#8e0152"
            ],
            [
             0.1,
             "#c51b7d"
            ],
            [
             0.2,
             "#de77ae"
            ],
            [
             0.3,
             "#f1b6da"
            ],
            [
             0.4,
             "#fde0ef"
            ],
            [
             0.5,
             "#f7f7f7"
            ],
            [
             0.6,
             "#e6f5d0"
            ],
            [
             0.7,
             "#b8e186"
            ],
            [
             0.8,
             "#7fbc41"
            ],
            [
             0.9,
             "#4d9221"
            ],
            [
             1,
             "#276419"
            ]
           ],
           "sequential": [
            [
             0,
             "#0d0887"
            ],
            [
             0.1111111111111111,
             "#46039f"
            ],
            [
             0.2222222222222222,
             "#7201a8"
            ],
            [
             0.3333333333333333,
             "#9c179e"
            ],
            [
             0.4444444444444444,
             "#bd3786"
            ],
            [
             0.5555555555555556,
             "#d8576b"
            ],
            [
             0.6666666666666666,
             "#ed7953"
            ],
            [
             0.7777777777777778,
             "#fb9f3a"
            ],
            [
             0.8888888888888888,
             "#fdca26"
            ],
            [
             1,
             "#f0f921"
            ]
           ],
           "sequentialminus": [
            [
             0,
             "#0d0887"
            ],
            [
             0.1111111111111111,
             "#46039f"
            ],
            [
             0.2222222222222222,
             "#7201a8"
            ],
            [
             0.3333333333333333,
             "#9c179e"
            ],
            [
             0.4444444444444444,
             "#bd3786"
            ],
            [
             0.5555555555555556,
             "#d8576b"
            ],
            [
             0.6666666666666666,
             "#ed7953"
            ],
            [
             0.7777777777777778,
             "#fb9f3a"
            ],
            [
             0.8888888888888888,
             "#fdca26"
            ],
            [
             1,
             "#f0f921"
            ]
           ]
          },
          "colorway": [
           "#636efa",
           "#EF553B",
           "#00cc96",
           "#ab63fa",
           "#FFA15A",
           "#19d3f3",
           "#FF6692",
           "#B6E880",
           "#FF97FF",
           "#FECB52"
          ],
          "font": {
           "color": "#2a3f5f"
          },
          "geo": {
           "bgcolor": "white",
           "lakecolor": "white",
           "landcolor": "#E5ECF6",
           "showlakes": true,
           "showland": true,
           "subunitcolor": "white"
          },
          "hoverlabel": {
           "align": "left"
          },
          "hovermode": "closest",
          "mapbox": {
           "style": "light"
          },
          "paper_bgcolor": "white",
          "plot_bgcolor": "#E5ECF6",
          "polar": {
           "angularaxis": {
            "gridcolor": "white",
            "linecolor": "white",
            "ticks": ""
           },
           "bgcolor": "#E5ECF6",
           "radialaxis": {
            "gridcolor": "white",
            "linecolor": "white",
            "ticks": ""
           }
          },
          "scene": {
           "xaxis": {
            "backgroundcolor": "#E5ECF6",
            "gridcolor": "white",
            "gridwidth": 2,
            "linecolor": "white",
            "showbackground": true,
            "ticks": "",
            "zerolinecolor": "white"
           },
           "yaxis": {
            "backgroundcolor": "#E5ECF6",
            "gridcolor": "white",
            "gridwidth": 2,
            "linecolor": "white",
            "showbackground": true,
            "ticks": "",
            "zerolinecolor": "white"
           },
           "zaxis": {
            "backgroundcolor": "#E5ECF6",
            "gridcolor": "white",
            "gridwidth": 2,
            "linecolor": "white",
            "showbackground": true,
            "ticks": "",
            "zerolinecolor": "white"
           }
          },
          "shapedefaults": {
           "line": {
            "color": "#2a3f5f"
           }
          },
          "ternary": {
           "aaxis": {
            "gridcolor": "white",
            "linecolor": "white",
            "ticks": ""
           },
           "baxis": {
            "gridcolor": "white",
            "linecolor": "white",
            "ticks": ""
           },
           "bgcolor": "#E5ECF6",
           "caxis": {
            "gridcolor": "white",
            "linecolor": "white",
            "ticks": ""
           }
          },
          "title": {
           "x": 0.05
          },
          "xaxis": {
           "automargin": true,
           "gridcolor": "white",
           "linecolor": "white",
           "ticks": "",
           "title": {
            "standoff": 15
           },
           "zerolinecolor": "white",
           "zerolinewidth": 2
          },
          "yaxis": {
           "automargin": true,
           "gridcolor": "white",
           "linecolor": "white",
           "ticks": "",
           "title": {
            "standoff": 15
           },
           "zerolinecolor": "white",
           "zerolinewidth": 2
          }
         }
        },
        "title": {
         "text": "Fertility Age 25 to 29 of ASEAN countries"
        },
        "xaxis": {
         "ticktext": [
          "1997",
          "1998",
          "1999",
          "2000",
          "2001",
          "2002",
          "2003",
          "2004",
          "2005",
          "2006",
          "2007",
          "2008",
          "2009",
          "2010",
          "2011",
          "2012",
          "2013",
          "2014",
          "2015",
          "2016",
          "2017"
         ],
         "tickvals": [
          1997,
          1998,
          1999,
          2000,
          2001,
          2002,
          2003,
          2004,
          2005,
          2006,
          2007,
          2008,
          2009,
          2010,
          2011,
          2012,
          2013,
          2014,
          2015,
          2016,
          2017
         ],
         "title": {
          "text": "Year"
         }
        },
        "yaxis": {
         "range": [
          0,
          375
         ],
         "title": {
          "text": "fertility_rate_25_29"
         }
        }
       }
      }
     },
     "metadata": {},
     "output_type": "display_data"
    },
    {
     "data": {
      "application/vnd.jupyter.widget-view+json": {
       "model_id": "f3d6dee89aa84be19f24b33d8b01f9be",
       "version_major": 2,
       "version_minor": 0
      },
      "text/plain": [
       "interactive(children=(Dropdown(description='attribute', index=2, options=('fertility_rate_15_19', 'fertility_r…"
      ]
     },
     "metadata": {},
     "output_type": "display_data"
    },
    {
     "data": {
      "text/plain": [
       "<function __main__.line_plot(attribute='fertility_rate_25_29')>"
      ]
     },
     "execution_count": 24,
     "metadata": {},
     "output_type": "execute_result"
    }
   ],
   "source": [
    "interact(line_plot,attribute=['fertility_rate_15_19','fertility_rate_20_24','fertility_rate_25_29','fertility_rate_30_34','fertility_rate_35_39','fertility_rate_40_44','fertility_rate_45_49'])"
   ]
  },
  {
   "attachments": {},
   "cell_type": "markdown",
   "metadata": {},
   "source": [
    "#### Nhận xét:\n",
    "- Theo quan sát trên tất cả các độ tuổi thì tỉ lệ sinh sản có xu hướng giảm trên toàn bộ các nước trong ASEAN.\n",
    "- Đông Timo là nước có độ biến đổi tỉ lệ sinh sản nhiều nhất, rơi vào những năm 1999 đến 2004 ở các nhóm độ tuổi `20-24` , `25-29` , `30-35` và `35-39`.\n",
    "- Singapore là nước có tỉ lệ sinh sản thấp nhất ở hầu hết các độ tuổi.\n",
    "- Việt Nam ta là nước có tỉ lệ sinh sản nằm ở tầm trung so với của các nước ASEAN. Tốc độ không cao, cũng không thấp."
   ]
  },
  {
   "attachments": {},
   "cell_type": "markdown",
   "metadata": {},
   "source": [
    "Dùng `biểu đồ heatmap` để biểu diễn tương quan giữa tỉ lệ sinh sản giữa các độ tuổi với nhau:"
   ]
  },
  {
   "cell_type": "code",
   "execution_count": 25,
   "metadata": {},
   "outputs": [
    {
     "data": {
      "text/html": [
       "<div>\n",
       "<style scoped>\n",
       "    .dataframe tbody tr th:only-of-type {\n",
       "        vertical-align: middle;\n",
       "    }\n",
       "\n",
       "    .dataframe tbody tr th {\n",
       "        vertical-align: top;\n",
       "    }\n",
       "\n",
       "    .dataframe thead th {\n",
       "        text-align: right;\n",
       "    }\n",
       "</style>\n",
       "<table border=\"1\" class=\"dataframe\">\n",
       "  <thead>\n",
       "    <tr style=\"text-align: right;\">\n",
       "      <th></th>\n",
       "      <th>year</th>\n",
       "      <th>fertility_rate_15_19</th>\n",
       "      <th>fertility_rate_20_24</th>\n",
       "      <th>fertility_rate_25_29</th>\n",
       "      <th>fertility_rate_30_34</th>\n",
       "      <th>fertility_rate_35_39</th>\n",
       "      <th>fertility_rate_40_44</th>\n",
       "      <th>fertility_rate_45_49</th>\n",
       "    </tr>\n",
       "  </thead>\n",
       "  <tbody>\n",
       "    <tr>\n",
       "      <th>year</th>\n",
       "      <td>1.000000</td>\n",
       "      <td>-0.258968</td>\n",
       "      <td>-0.283133</td>\n",
       "      <td>-0.222001</td>\n",
       "      <td>-0.179341</td>\n",
       "      <td>-0.203655</td>\n",
       "      <td>-0.225455</td>\n",
       "      <td>-0.131366</td>\n",
       "    </tr>\n",
       "    <tr>\n",
       "      <th>fertility_rate_15_19</th>\n",
       "      <td>-0.258968</td>\n",
       "      <td>1.000000</td>\n",
       "      <td>0.814928</td>\n",
       "      <td>0.574684</td>\n",
       "      <td>0.444138</td>\n",
       "      <td>0.499689</td>\n",
       "      <td>0.560094</td>\n",
       "      <td>0.449410</td>\n",
       "    </tr>\n",
       "    <tr>\n",
       "      <th>fertility_rate_20_24</th>\n",
       "      <td>-0.283133</td>\n",
       "      <td>0.814928</td>\n",
       "      <td>1.000000</td>\n",
       "      <td>0.893028</td>\n",
       "      <td>0.784326</td>\n",
       "      <td>0.817471</td>\n",
       "      <td>0.839673</td>\n",
       "      <td>0.712720</td>\n",
       "    </tr>\n",
       "    <tr>\n",
       "      <th>fertility_rate_25_29</th>\n",
       "      <td>-0.222001</td>\n",
       "      <td>0.574684</td>\n",
       "      <td>0.893028</td>\n",
       "      <td>1.000000</td>\n",
       "      <td>0.955047</td>\n",
       "      <td>0.924029</td>\n",
       "      <td>0.887207</td>\n",
       "      <td>0.737726</td>\n",
       "    </tr>\n",
       "    <tr>\n",
       "      <th>fertility_rate_30_34</th>\n",
       "      <td>-0.179341</td>\n",
       "      <td>0.444138</td>\n",
       "      <td>0.784326</td>\n",
       "      <td>0.955047</td>\n",
       "      <td>1.000000</td>\n",
       "      <td>0.978486</td>\n",
       "      <td>0.919692</td>\n",
       "      <td>0.779983</td>\n",
       "    </tr>\n",
       "    <tr>\n",
       "      <th>fertility_rate_35_39</th>\n",
       "      <td>-0.203655</td>\n",
       "      <td>0.499689</td>\n",
       "      <td>0.817471</td>\n",
       "      <td>0.924029</td>\n",
       "      <td>0.978486</td>\n",
       "      <td>1.000000</td>\n",
       "      <td>0.961476</td>\n",
       "      <td>0.861516</td>\n",
       "    </tr>\n",
       "    <tr>\n",
       "      <th>fertility_rate_40_44</th>\n",
       "      <td>-0.225455</td>\n",
       "      <td>0.560094</td>\n",
       "      <td>0.839673</td>\n",
       "      <td>0.887207</td>\n",
       "      <td>0.919692</td>\n",
       "      <td>0.961476</td>\n",
       "      <td>1.000000</td>\n",
       "      <td>0.908640</td>\n",
       "    </tr>\n",
       "    <tr>\n",
       "      <th>fertility_rate_45_49</th>\n",
       "      <td>-0.131366</td>\n",
       "      <td>0.449410</td>\n",
       "      <td>0.712720</td>\n",
       "      <td>0.737726</td>\n",
       "      <td>0.779983</td>\n",
       "      <td>0.861516</td>\n",
       "      <td>0.908640</td>\n",
       "      <td>1.000000</td>\n",
       "    </tr>\n",
       "  </tbody>\n",
       "</table>\n",
       "</div>"
      ],
      "text/plain": [
       "                          year  fertility_rate_15_19  fertility_rate_20_24  \\\n",
       "year                  1.000000             -0.258968             -0.283133   \n",
       "fertility_rate_15_19 -0.258968              1.000000              0.814928   \n",
       "fertility_rate_20_24 -0.283133              0.814928              1.000000   \n",
       "fertility_rate_25_29 -0.222001              0.574684              0.893028   \n",
       "fertility_rate_30_34 -0.179341              0.444138              0.784326   \n",
       "fertility_rate_35_39 -0.203655              0.499689              0.817471   \n",
       "fertility_rate_40_44 -0.225455              0.560094              0.839673   \n",
       "fertility_rate_45_49 -0.131366              0.449410              0.712720   \n",
       "\n",
       "                      fertility_rate_25_29  fertility_rate_30_34  \\\n",
       "year                             -0.222001             -0.179341   \n",
       "fertility_rate_15_19              0.574684              0.444138   \n",
       "fertility_rate_20_24              0.893028              0.784326   \n",
       "fertility_rate_25_29              1.000000              0.955047   \n",
       "fertility_rate_30_34              0.955047              1.000000   \n",
       "fertility_rate_35_39              0.924029              0.978486   \n",
       "fertility_rate_40_44              0.887207              0.919692   \n",
       "fertility_rate_45_49              0.737726              0.779983   \n",
       "\n",
       "                      fertility_rate_35_39  fertility_rate_40_44  \\\n",
       "year                             -0.203655             -0.225455   \n",
       "fertility_rate_15_19              0.499689              0.560094   \n",
       "fertility_rate_20_24              0.817471              0.839673   \n",
       "fertility_rate_25_29              0.924029              0.887207   \n",
       "fertility_rate_30_34              0.978486              0.919692   \n",
       "fertility_rate_35_39              1.000000              0.961476   \n",
       "fertility_rate_40_44              0.961476              1.000000   \n",
       "fertility_rate_45_49              0.861516              0.908640   \n",
       "\n",
       "                      fertility_rate_45_49  \n",
       "year                             -0.131366  \n",
       "fertility_rate_15_19              0.449410  \n",
       "fertility_rate_20_24              0.712720  \n",
       "fertility_rate_25_29              0.737726  \n",
       "fertility_rate_30_34              0.779983  \n",
       "fertility_rate_35_39              0.861516  \n",
       "fertility_rate_40_44              0.908640  \n",
       "fertility_rate_45_49              1.000000  "
      ]
     },
     "execution_count": 25,
     "metadata": {},
     "output_type": "execute_result"
    }
   ],
   "source": [
    "corr_matrix_fertility=detail_fertility.iloc[:,2:-3].corr()\n",
    "corr_matrix_fertility"
   ]
  },
  {
   "cell_type": "code",
   "execution_count": 26,
   "metadata": {},
   "outputs": [
    {
     "data": {
      "application/vnd.jupyter.widget-view+json": {
       "model_id": "78d6525a40e84c248553bffe462d68b2",
       "version_major": 2,
       "version_minor": 0
      },
      "text/plain": [
       "interactive(children=(Dropdown(description='year', index=20, options=(1997, 1998, 1999, 2000, 2001, 2002, 2003…"
      ]
     },
     "metadata": {},
     "output_type": "display_data"
    },
    {
     "data": {
      "text/plain": [
       "<function __main__.heatmap_corr(year=2017)>"
      ]
     },
     "execution_count": 26,
     "metadata": {},
     "output_type": "execute_result"
    }
   ],
   "source": [
    "# Chọn màu cho các nước\n",
    "colors = ['#1f77b4', '#ff7f0e', '#2ca02c', '#9467bd', '#8c564b', '#e377c2', '#7f7f7f', '#bcbd22', '#17becf', '#ff33cc', '#d62728']\n",
    "\n",
    "years_value=np.sort(detail_fertility.year.unique())\n",
    "def heatmap_corr(year=2017):\n",
    "    corr_matrix_fertility=detail_fertility[detail_fertility['year']==year].iloc[:,3:-3].corr()\n",
    "    corr_matrix_fertility\n",
    "    plt.figure(figsize=(12, 8))\n",
    "    sns.heatmap(corr_matrix_fertility, annot = True, cmap = 'Blues')\n",
    "    plt.title(\"Correlation map\", fontsize = 1)\n",
    "interact(heatmap_corr,year=years_value)"
   ]
  },
  {
   "attachments": {},
   "cell_type": "markdown",
   "metadata": {},
   "source": [
    "#### Nhận xét:\n",
    "-  Trong tất cả các năm, tỉ lệ sinh sản giữa khoảng độ tuổi gần nhau (ví dụ [25-29] với [20-24] và với [20-34]) luôn đạt hệ số tương quan xấp xỉ 1. Chứng tỏ có có sự tương quan dương mạnh giữa tỉ lệ sinh sản của những độ tuổi sát nhau.\n",
    "- Khi 1 tỉ lệ sinh sản của khoảng độ tuổi tăng, thì tỉ lệ sinh sản của khoảng độ tuổi liền trước và sau cũng tăng theo. Ta có thể giải thích mối tương quan này như sau, Khi tỉ lệ sinh sản của một khoảng độ tuổi tăng, sẽ tạo ra hệ quả là có nhiều trẻ em sinh ra trong khoảng đó, và khi trẻ em này trưởng thành và đến độ tuổi sinh sản, tỉ lệ sinh sản của khoảng độ tuổi liền trước và sau sẽ tăng lên."
   ]
  },
  {
   "attachments": {},
   "cell_type": "markdown",
   "metadata": {},
   "source": [
    "Tính hệ số tương quan giữa độ tuổi với tỉ lệ sinh sản"
   ]
  },
  {
   "cell_type": "code",
   "execution_count": 27,
   "metadata": {},
   "outputs": [],
   "source": [
    "def get_age_range(col_name):\n",
    "    age = re.findall(r'\\d{2}', col_name)\n",
    "    return '[' + age[0] + '-' + age[1] + ']'\n",
    "\n",
    "fertility_age_df_to_calc_spearman=detail_fertility.iloc[:,2:-3].melt(id_vars='year',value_name='fertility_rate',var_name='age').copy()\n",
    "fertility_age_df_to_calc_spearman=fertility_age_df_to_calc_spearman.sort_values(['year','age','fertility_rate'])\n",
    "fertility_age_df_to_calc_spearman.age=fertility_age_df_to_calc_spearman.age.apply(get_age_range)\n",
    "\n",
    "spearman_age_fertility={'year':[],'corr_spearman':[]}\n",
    "for year in np.sort(fertility_age_df_to_calc_spearman.year.unique()):\n",
    "    calc_df_corr=fertility_age_df_to_calc_spearman[fertility_age_df_to_calc_spearman.year==year]\n",
    "    corr_spearman = calc_df_corr['age'].corr(calc_df_corr['fertility_rate'], method='spearman')\n",
    "\n",
    "    spearman_age_fertility['year'].append(year)\n",
    "    spearman_age_fertility['corr_spearman'].append(corr_spearman)\n",
    "spearman_age_fertility=pd.DataFrame(spearman_age_fertility)"
   ]
  },
  {
   "cell_type": "code",
   "execution_count": 28,
   "metadata": {},
   "outputs": [
    {
     "data": {
      "text/plain": [
       "year             2006.000000\n",
       "corr_spearman      -0.463805\n",
       "Name: 9, dtype: float64"
      ]
     },
     "execution_count": 28,
     "metadata": {},
     "output_type": "execute_result"
    }
   ],
   "source": [
    "spearman_age_fertility.iloc[spearman_age_fertility.corr_spearman.idxmin()]"
   ]
  },
  {
   "cell_type": "code",
   "execution_count": 29,
   "metadata": {},
   "outputs": [
    {
     "data": {
      "text/plain": [
       "year             2002.000000\n",
       "corr_spearman      -0.424801\n",
       "Name: 5, dtype: float64"
      ]
     },
     "execution_count": 29,
     "metadata": {},
     "output_type": "execute_result"
    }
   ],
   "source": [
    "spearman_age_fertility.iloc[spearman_age_fertility.corr_spearman.idxmax()]"
   ]
  },
  {
   "attachments": {},
   "cell_type": "markdown",
   "metadata": {},
   "source": [
    "Dùng `Biểu đồ Scatter` để xem phân bố giữa độ tuổi và tỉ lệ sinh sản qua các năm."
   ]
  },
  {
   "cell_type": "code",
   "execution_count": 30,
   "metadata": {},
   "outputs": [
    {
     "data": {
      "application/vnd.plotly.v1+json": {
       "config": {
        "plotlyServerURL": "https://plot.ly"
       },
       "data": [
        {
         "hovertemplate": "age=%{x}<br>year=1997<br>fertility_rate=%{y}<extra></extra>",
         "legendgroup": "[15-19]",
         "marker": {
          "color": "#636efa",
          "symbol": "circle"
         },
         "mode": "markers",
         "name": "[15-19]",
         "orientation": "v",
         "showlegend": true,
         "type": "scatter",
         "x": [
          "[15-19]",
          "[15-19]",
          "[15-19]",
          "[15-19]",
          "[15-19]",
          "[15-19]",
          "[15-19]",
          "[15-19]",
          "[15-19]",
          "[15-19]",
          "[15-19]"
         ],
         "xaxis": "x",
         "y": [
          4.8,
          15,
          31.4,
          32.3,
          33.6,
          42.6,
          54.6,
          55.5,
          59.9,
          93.7,
          99.8
         ],
         "yaxis": "y"
        },
        {
         "hovertemplate": "age=%{x}<br>year=1997<br>fertility_rate=%{y}<extra></extra>",
         "legendgroup": "[20-24]",
         "marker": {
          "color": "#EF553B",
          "symbol": "circle"
         },
         "mode": "markers",
         "name": "[20-24]",
         "orientation": "v",
         "showlegend": true,
         "type": "scatter",
         "x": [
          "[20-24]",
          "[20-24]",
          "[20-24]",
          "[20-24]",
          "[20-24]",
          "[20-24]",
          "[20-24]",
          "[20-24]",
          "[20-24]",
          "[20-24]",
          "[20-24]"
         ],
         "xaxis": "x",
         "y": [
          26.6,
          106.4,
          117.8,
          121.6,
          123.9,
          139.7,
          163.9,
          185.1,
          197,
          227,
          234.8
         ],
         "yaxis": "y"
        },
        {
         "hovertemplate": "age=%{x}<br>year=1997<br>fertility_rate=%{y}<extra></extra>",
         "legendgroup": "[25-29]",
         "marker": {
          "color": "#00cc96",
          "symbol": "circle"
         },
         "mode": "markers",
         "name": "[25-29]",
         "orientation": "v",
         "showlegend": true,
         "type": "scatter",
         "x": [
          "[25-29]",
          "[25-29]",
          "[25-29]",
          "[25-29]",
          "[25-29]",
          "[25-29]",
          "[25-29]",
          "[25-29]",
          "[25-29]",
          "[25-29]",
          "[25-29]"
         ],
         "xaxis": "x",
         "y": [
          82.4,
          104.4,
          145.5,
          147.7,
          167.8,
          167.9,
          199.8,
          202.5,
          210.9,
          245.3,
          270.4
         ],
         "yaxis": "y"
        },
        {
         "hovertemplate": "age=%{x}<br>year=1997<br>fertility_rate=%{y}<extra></extra>",
         "legendgroup": "[30-34]",
         "marker": {
          "color": "#ab63fa",
          "symbol": "circle"
         },
         "mode": "markers",
         "name": "[30-34]",
         "orientation": "v",
         "showlegend": true,
         "type": "scatter",
         "x": [
          "[30-34]",
          "[30-34]",
          "[30-34]",
          "[30-34]",
          "[30-34]",
          "[30-34]",
          "[30-34]",
          "[30-34]",
          "[30-34]",
          "[30-34]",
          "[30-34]"
         ],
         "xaxis": "x",
         "y": [
          67.3,
          85.2,
          86.6,
          107.5,
          129.4,
          147,
          160.3,
          169.6,
          173.6,
          202.1,
          231.4
         ],
         "yaxis": "y"
        },
        {
         "hovertemplate": "age=%{x}<br>year=1997<br>fertility_rate=%{y}<extra></extra>",
         "legendgroup": "[35-39]",
         "marker": {
          "color": "#FFA15A",
          "symbol": "circle"
         },
         "mode": "markers",
         "name": "[35-39]",
         "orientation": "v",
         "showlegend": true,
         "type": "scatter",
         "x": [
          "[35-39]",
          "[35-39]",
          "[35-39]",
          "[35-39]",
          "[35-39]",
          "[35-39]",
          "[35-39]",
          "[35-39]",
          "[35-39]",
          "[35-39]",
          "[35-39]"
         ],
         "xaxis": "x",
         "y": [
          30.3,
          36.7,
          44.8,
          64.8,
          71.5,
          95.8,
          95.9,
          107.1,
          126,
          137.2,
          174.3
         ],
         "yaxis": "y"
        },
        {
         "hovertemplate": "age=%{x}<br>year=1997<br>fertility_rate=%{y}<extra></extra>",
         "legendgroup": "[40-44]",
         "marker": {
          "color": "#19d3f3",
          "symbol": "circle"
         },
         "mode": "markers",
         "name": "[40-44]",
         "orientation": "v",
         "showlegend": true,
         "type": "scatter",
         "x": [
          "[40-44]",
          "[40-44]",
          "[40-44]",
          "[40-44]",
          "[40-44]",
          "[40-44]",
          "[40-44]",
          "[40-44]",
          "[40-44]",
          "[40-44]",
          "[40-44]"
         ],
         "xaxis": "x",
         "y": [
          6.5,
          10.7,
          21,
          23.5,
          23.8,
          31.6,
          44.5,
          57.1,
          58.6,
          60,
          132.7
         ],
         "yaxis": "y"
        },
        {
         "hovertemplate": "age=%{x}<br>year=1997<br>fertility_rate=%{y}<extra></extra>",
         "legendgroup": "[45-49]",
         "marker": {
          "color": "#FF6692",
          "symbol": "circle"
         },
         "mode": "markers",
         "name": "[45-49]",
         "orientation": "v",
         "showlegend": true,
         "type": "scatter",
         "x": [
          "[45-49]",
          "[45-49]",
          "[45-49]",
          "[45-49]",
          "[45-49]",
          "[45-49]",
          "[45-49]",
          "[45-49]",
          "[45-49]",
          "[45-49]",
          "[45-49]"
         ],
         "xaxis": "x",
         "y": [
          0.2,
          3.4,
          4.3,
          4.5,
          5.2,
          5.8,
          6.7,
          9.7,
          14,
          16.4,
          60.4
         ],
         "yaxis": "y"
        }
       ],
       "frames": [
        {
         "data": [
          {
           "hovertemplate": "age=%{x}<br>year=1997<br>fertility_rate=%{y}<extra></extra>",
           "legendgroup": "[15-19]",
           "marker": {
            "color": "#636efa",
            "symbol": "circle"
           },
           "mode": "markers",
           "name": "[15-19]",
           "orientation": "v",
           "showlegend": true,
           "type": "scatter",
           "x": [
            "[15-19]",
            "[15-19]",
            "[15-19]",
            "[15-19]",
            "[15-19]",
            "[15-19]",
            "[15-19]",
            "[15-19]",
            "[15-19]",
            "[15-19]",
            "[15-19]"
           ],
           "xaxis": "x",
           "y": [
            4.8,
            15,
            31.4,
            32.3,
            33.6,
            42.6,
            54.6,
            55.5,
            59.9,
            93.7,
            99.8
           ],
           "yaxis": "y"
          },
          {
           "hovertemplate": "age=%{x}<br>year=1997<br>fertility_rate=%{y}<extra></extra>",
           "legendgroup": "[20-24]",
           "marker": {
            "color": "#EF553B",
            "symbol": "circle"
           },
           "mode": "markers",
           "name": "[20-24]",
           "orientation": "v",
           "showlegend": true,
           "type": "scatter",
           "x": [
            "[20-24]",
            "[20-24]",
            "[20-24]",
            "[20-24]",
            "[20-24]",
            "[20-24]",
            "[20-24]",
            "[20-24]",
            "[20-24]",
            "[20-24]",
            "[20-24]"
           ],
           "xaxis": "x",
           "y": [
            26.6,
            106.4,
            117.8,
            121.6,
            123.9,
            139.7,
            163.9,
            185.1,
            197,
            227,
            234.8
           ],
           "yaxis": "y"
          },
          {
           "hovertemplate": "age=%{x}<br>year=1997<br>fertility_rate=%{y}<extra></extra>",
           "legendgroup": "[25-29]",
           "marker": {
            "color": "#00cc96",
            "symbol": "circle"
           },
           "mode": "markers",
           "name": "[25-29]",
           "orientation": "v",
           "showlegend": true,
           "type": "scatter",
           "x": [
            "[25-29]",
            "[25-29]",
            "[25-29]",
            "[25-29]",
            "[25-29]",
            "[25-29]",
            "[25-29]",
            "[25-29]",
            "[25-29]",
            "[25-29]",
            "[25-29]"
           ],
           "xaxis": "x",
           "y": [
            82.4,
            104.4,
            145.5,
            147.7,
            167.8,
            167.9,
            199.8,
            202.5,
            210.9,
            245.3,
            270.4
           ],
           "yaxis": "y"
          },
          {
           "hovertemplate": "age=%{x}<br>year=1997<br>fertility_rate=%{y}<extra></extra>",
           "legendgroup": "[30-34]",
           "marker": {
            "color": "#ab63fa",
            "symbol": "circle"
           },
           "mode": "markers",
           "name": "[30-34]",
           "orientation": "v",
           "showlegend": true,
           "type": "scatter",
           "x": [
            "[30-34]",
            "[30-34]",
            "[30-34]",
            "[30-34]",
            "[30-34]",
            "[30-34]",
            "[30-34]",
            "[30-34]",
            "[30-34]",
            "[30-34]",
            "[30-34]"
           ],
           "xaxis": "x",
           "y": [
            67.3,
            85.2,
            86.6,
            107.5,
            129.4,
            147,
            160.3,
            169.6,
            173.6,
            202.1,
            231.4
           ],
           "yaxis": "y"
          },
          {
           "hovertemplate": "age=%{x}<br>year=1997<br>fertility_rate=%{y}<extra></extra>",
           "legendgroup": "[35-39]",
           "marker": {
            "color": "#FFA15A",
            "symbol": "circle"
           },
           "mode": "markers",
           "name": "[35-39]",
           "orientation": "v",
           "showlegend": true,
           "type": "scatter",
           "x": [
            "[35-39]",
            "[35-39]",
            "[35-39]",
            "[35-39]",
            "[35-39]",
            "[35-39]",
            "[35-39]",
            "[35-39]",
            "[35-39]",
            "[35-39]",
            "[35-39]"
           ],
           "xaxis": "x",
           "y": [
            30.3,
            36.7,
            44.8,
            64.8,
            71.5,
            95.8,
            95.9,
            107.1,
            126,
            137.2,
            174.3
           ],
           "yaxis": "y"
          },
          {
           "hovertemplate": "age=%{x}<br>year=1997<br>fertility_rate=%{y}<extra></extra>",
           "legendgroup": "[40-44]",
           "marker": {
            "color": "#19d3f3",
            "symbol": "circle"
           },
           "mode": "markers",
           "name": "[40-44]",
           "orientation": "v",
           "showlegend": true,
           "type": "scatter",
           "x": [
            "[40-44]",
            "[40-44]",
            "[40-44]",
            "[40-44]",
            "[40-44]",
            "[40-44]",
            "[40-44]",
            "[40-44]",
            "[40-44]",
            "[40-44]",
            "[40-44]"
           ],
           "xaxis": "x",
           "y": [
            6.5,
            10.7,
            21,
            23.5,
            23.8,
            31.6,
            44.5,
            57.1,
            58.6,
            60,
            132.7
           ],
           "yaxis": "y"
          },
          {
           "hovertemplate": "age=%{x}<br>year=1997<br>fertility_rate=%{y}<extra></extra>",
           "legendgroup": "[45-49]",
           "marker": {
            "color": "#FF6692",
            "symbol": "circle"
           },
           "mode": "markers",
           "name": "[45-49]",
           "orientation": "v",
           "showlegend": true,
           "type": "scatter",
           "x": [
            "[45-49]",
            "[45-49]",
            "[45-49]",
            "[45-49]",
            "[45-49]",
            "[45-49]",
            "[45-49]",
            "[45-49]",
            "[45-49]",
            "[45-49]",
            "[45-49]"
           ],
           "xaxis": "x",
           "y": [
            0.2,
            3.4,
            4.3,
            4.5,
            5.2,
            5.8,
            6.7,
            9.7,
            14,
            16.4,
            60.4
           ],
           "yaxis": "y"
          }
         ],
         "name": "1997"
        },
        {
         "data": [
          {
           "hovertemplate": "age=%{x}<br>year=1998<br>fertility_rate=%{y}<extra></extra>",
           "legendgroup": "[15-19]",
           "marker": {
            "color": "#636efa",
            "symbol": "circle"
           },
           "mode": "markers",
           "name": "[15-19]",
           "orientation": "v",
           "showlegend": true,
           "type": "scatter",
           "x": [
            "[15-19]",
            "[15-19]",
            "[15-19]",
            "[15-19]",
            "[15-19]",
            "[15-19]",
            "[15-19]",
            "[15-19]",
            "[15-19]",
            "[15-19]",
            "[15-19]"
           ],
           "xaxis": "x",
           "y": [
            5.3,
            15.1,
            29,
            30.4,
            31.9,
            41.3,
            51,
            55,
            57.7,
            95,
            99.5
           ],
           "yaxis": "y"
          },
          {
           "hovertemplate": "age=%{x}<br>year=1998<br>fertility_rate=%{y}<extra></extra>",
           "legendgroup": "[20-24]",
           "marker": {
            "color": "#EF553B",
            "symbol": "circle"
           },
           "mode": "markers",
           "name": "[20-24]",
           "orientation": "v",
           "showlegend": true,
           "type": "scatter",
           "x": [
            "[20-24]",
            "[20-24]",
            "[20-24]",
            "[20-24]",
            "[20-24]",
            "[20-24]",
            "[20-24]",
            "[20-24]",
            "[20-24]",
            "[20-24]",
            "[20-24]"
           ],
           "xaxis": "x",
           "y": [
            24.1,
            104.9,
            117.4,
            118.3,
            118.8,
            136.4,
            158,
            184.7,
            191,
            225.4,
            233
           ],
           "yaxis": "y"
          },
          {
           "hovertemplate": "age=%{x}<br>year=1998<br>fertility_rate=%{y}<extra></extra>",
           "legendgroup": "[25-29]",
           "marker": {
            "color": "#00cc96",
            "symbol": "circle"
           },
           "mode": "markers",
           "name": "[25-29]",
           "orientation": "v",
           "showlegend": true,
           "type": "scatter",
           "x": [
            "[25-29]",
            "[25-29]",
            "[25-29]",
            "[25-29]",
            "[25-29]",
            "[25-29]",
            "[25-29]",
            "[25-29]",
            "[25-29]",
            "[25-29]",
            "[25-29]"
           ],
           "xaxis": "x",
           "y": [
            73.4,
            105,
            135,
            146.4,
            163.7,
            164.3,
            199.1,
            200.6,
            203,
            243.7,
            272
           ],
           "yaxis": "y"
          },
          {
           "hovertemplate": "age=%{x}<br>year=1998<br>fertility_rate=%{y}<extra></extra>",
           "legendgroup": "[30-34]",
           "marker": {
            "color": "#ab63fa",
            "symbol": "circle"
           },
           "mode": "markers",
           "name": "[30-34]",
           "orientation": "v",
           "showlegend": true,
           "type": "scatter",
           "x": [
            "[30-34]",
            "[30-34]",
            "[30-34]",
            "[30-34]",
            "[30-34]",
            "[30-34]",
            "[30-34]",
            "[30-34]",
            "[30-34]",
            "[30-34]",
            "[30-34]"
           ],
           "xaxis": "x",
           "y": [
            68.4,
            74.9,
            81,
            107,
            126.6,
            143.4,
            157.9,
            165,
            170.2,
            200.5,
            232
           ],
           "yaxis": "y"
          },
          {
           "hovertemplate": "age=%{x}<br>year=1998<br>fertility_rate=%{y}<extra></extra>",
           "legendgroup": "[35-39]",
           "marker": {
            "color": "#FFA15A",
            "symbol": "circle"
           },
           "mode": "markers",
           "name": "[35-39]",
           "orientation": "v",
           "showlegend": true,
           "type": "scatter",
           "x": [
            "[35-39]",
            "[35-39]",
            "[35-39]",
            "[35-39]",
            "[35-39]",
            "[35-39]",
            "[35-39]",
            "[35-39]",
            "[35-39]",
            "[35-39]",
            "[35-39]"
           ],
           "xaxis": "x",
           "y": [
            30.5,
            35,
            41,
            63.7,
            68.7,
            91.6,
            96.4,
            105.3,
            118,
            135.6,
            174
           ],
           "yaxis": "y"
          },
          {
           "hovertemplate": "age=%{x}<br>year=1998<br>fertility_rate=%{y}<extra></extra>",
           "legendgroup": "[40-44]",
           "marker": {
            "color": "#19d3f3",
            "symbol": "circle"
           },
           "mode": "markers",
           "name": "[40-44]",
           "orientation": "v",
           "showlegend": true,
           "type": "scatter",
           "x": [
            "[40-44]",
            "[40-44]",
            "[40-44]",
            "[40-44]",
            "[40-44]",
            "[40-44]",
            "[40-44]",
            "[40-44]",
            "[40-44]",
            "[40-44]",
            "[40-44]"
           ],
           "xaxis": "x",
           "y": [
            6.1,
            10.6,
            18,
            22.9,
            23.1,
            31.7,
            42.2,
            55,
            57.7,
            57.7,
            138
           ],
           "yaxis": "y"
          },
          {
           "hovertemplate": "age=%{x}<br>year=1998<br>fertility_rate=%{y}<extra></extra>",
           "legendgroup": "[45-49]",
           "marker": {
            "color": "#FF6692",
            "symbol": "circle"
           },
           "mode": "markers",
           "name": "[45-49]",
           "orientation": "v",
           "showlegend": true,
           "type": "scatter",
           "x": [
            "[45-49]",
            "[45-49]",
            "[45-49]",
            "[45-49]",
            "[45-49]",
            "[45-49]",
            "[45-49]",
            "[45-49]",
            "[45-49]",
            "[45-49]",
            "[45-49]"
           ],
           "xaxis": "x",
           "y": [
            0.2,
            3.4,
            4.2,
            4.3,
            5.7,
            6,
            6.4,
            9.2,
            13.6,
            15,
            62
           ],
           "yaxis": "y"
          }
         ],
         "name": "1998"
        },
        {
         "data": [
          {
           "hovertemplate": "age=%{x}<br>year=1999<br>fertility_rate=%{y}<extra></extra>",
           "legendgroup": "[15-19]",
           "marker": {
            "color": "#636efa",
            "symbol": "circle"
           },
           "mode": "markers",
           "name": "[15-19]",
           "orientation": "v",
           "showlegend": true,
           "type": "scatter",
           "x": [
            "[15-19]",
            "[15-19]",
            "[15-19]",
            "[15-19]",
            "[15-19]",
            "[15-19]",
            "[15-19]",
            "[15-19]",
            "[15-19]",
            "[15-19]",
            "[15-19]"
           ],
           "xaxis": "x",
           "y": [
            5.8,
            15,
            28.9,
            29.8,
            30.4,
            34.5,
            50.3,
            55.1,
            55.6,
            96.2,
            99.1
           ],
           "yaxis": "y"
          },
          {
           "hovertemplate": "age=%{x}<br>year=1999<br>fertility_rate=%{y}<extra></extra>",
           "legendgroup": "[20-24]",
           "marker": {
            "color": "#EF553B",
            "symbol": "circle"
           },
           "mode": "markers",
           "name": "[20-24]",
           "orientation": "v",
           "showlegend": true,
           "type": "scatter",
           "x": [
            "[20-24]",
            "[20-24]",
            "[20-24]",
            "[20-24]",
            "[20-24]",
            "[20-24]",
            "[20-24]",
            "[20-24]",
            "[20-24]",
            "[20-24]",
            "[20-24]"
           ],
           "xaxis": "x",
           "y": [
            22.2,
            88.9,
            113.6,
            114.5,
            117.2,
            133.1,
            153.6,
            182.6,
            188.3,
            223.9,
            256
           ],
           "yaxis": "y"
          },
          {
           "hovertemplate": "age=%{x}<br>year=1999<br>fertility_rate=%{y}<extra></extra>",
           "legendgroup": "[25-29]",
           "marker": {
            "color": "#00cc96",
            "symbol": "circle"
           },
           "mode": "markers",
           "name": "[25-29]",
           "orientation": "v",
           "showlegend": true,
           "type": "scatter",
           "x": [
            "[25-29]",
            "[25-29]",
            "[25-29]",
            "[25-29]",
            "[25-29]",
            "[25-29]",
            "[25-29]",
            "[25-29]",
            "[25-29]",
            "[25-29]",
            "[25-29]"
           ],
           "xaxis": "x",
           "y": [
            71.7,
            91.4,
            136.2,
            145.2,
            160.2,
            161.1,
            196.5,
            198.9,
            199.2,
            242,
            293.8
           ],
           "yaxis": "y"
          },
          {
           "hovertemplate": "age=%{x}<br>year=1999<br>fertility_rate=%{y}<extra></extra>",
           "legendgroup": "[30-34]",
           "marker": {
            "color": "#ab63fa",
            "symbol": "circle"
           },
           "mode": "markers",
           "name": "[30-34]",
           "orientation": "v",
           "showlegend": true,
           "type": "scatter",
           "x": [
            "[30-34]",
            "[30-34]",
            "[30-34]",
            "[30-34]",
            "[30-34]",
            "[30-34]",
            "[30-34]",
            "[30-34]",
            "[30-34]",
            "[30-34]",
            "[30-34]"
           ],
           "xaxis": "x",
           "y": [
            59.9,
            73.7,
            80.7,
            106.5,
            124.2,
            140.1,
            155.7,
            161.2,
            168.8,
            199,
            254.4
           ],
           "yaxis": "y"
          },
          {
           "hovertemplate": "age=%{x}<br>year=1999<br>fertility_rate=%{y}<extra></extra>",
           "legendgroup": "[35-39]",
           "marker": {
            "color": "#FFA15A",
            "symbol": "circle"
           },
           "mode": "markers",
           "name": "[35-39]",
           "orientation": "v",
           "showlegend": true,
           "type": "scatter",
           "x": [
            "[35-39]",
            "[35-39]",
            "[35-39]",
            "[35-39]",
            "[35-39]",
            "[35-39]",
            "[35-39]",
            "[35-39]",
            "[35-39]",
            "[35-39]",
            "[35-39]"
           ],
           "xaxis": "x",
           "y": [
            26.5,
            33.1,
            39.4,
            62.5,
            66.3,
            87.9,
            95.2,
            102.8,
            113.5,
            134.1,
            194.9
           ],
           "yaxis": "y"
          },
          {
           "hovertemplate": "age=%{x}<br>year=1999<br>fertility_rate=%{y}<extra></extra>",
           "legendgroup": "[40-44]",
           "marker": {
            "color": "#19d3f3",
            "symbol": "circle"
           },
           "mode": "markers",
           "name": "[40-44]",
           "orientation": "v",
           "showlegend": true,
           "type": "scatter",
           "x": [
            "[40-44]",
            "[40-44]",
            "[40-44]",
            "[40-44]",
            "[40-44]",
            "[40-44]",
            "[40-44]",
            "[40-44]",
            "[40-44]",
            "[40-44]",
            "[40-44]"
           ],
           "xaxis": "x",
           "y": [
            5.9,
            9.1,
            16.9,
            22.2,
            22.6,
            31.4,
            40.2,
            52.7,
            56,
            56.9,
            143.9
           ],
           "yaxis": "y"
          },
          {
           "hovertemplate": "age=%{x}<br>year=1999<br>fertility_rate=%{y}<extra></extra>",
           "legendgroup": "[45-49]",
           "marker": {
            "color": "#FF6692",
            "symbol": "circle"
           },
           "mode": "markers",
           "name": "[45-49]",
           "orientation": "v",
           "showlegend": true,
           "type": "scatter",
           "x": [
            "[45-49]",
            "[45-49]",
            "[45-49]",
            "[45-49]",
            "[45-49]",
            "[45-49]",
            "[45-49]",
            "[45-49]",
            "[45-49]",
            "[45-49]",
            "[45-49]"
           ],
           "xaxis": "x",
           "y": [
            0.2,
            3.4,
            3.5,
            4.1,
            5.4,
            5.5,
            6.3,
            8.7,
            13.1,
            13.3,
            65.6
           ],
           "yaxis": "y"
          }
         ],
         "name": "1999"
        },
        {
         "data": [
          {
           "hovertemplate": "age=%{x}<br>year=2000<br>fertility_rate=%{y}<extra></extra>",
           "legendgroup": "[15-19]",
           "marker": {
            "color": "#636efa",
            "symbol": "circle"
           },
           "mode": "markers",
           "name": "[15-19]",
           "orientation": "v",
           "showlegend": true,
           "type": "scatter",
           "x": [
            "[15-19]",
            "[15-19]",
            "[15-19]",
            "[15-19]",
            "[15-19]",
            "[15-19]",
            "[15-19]",
            "[15-19]",
            "[15-19]",
            "[15-19]",
            "[15-19]"
           ],
           "xaxis": "x",
           "y": [
            6.3,
            14.9,
            29,
            30.6,
            31.3,
            33.5,
            49.7,
            53.4,
            55.2,
            80.3,
            98.8
           ],
           "yaxis": "y"
          },
          {
           "hovertemplate": "age=%{x}<br>year=2000<br>fertility_rate=%{y}<extra></extra>",
           "legendgroup": "[20-24]",
           "marker": {
            "color": "#EF553B",
            "symbol": "circle"
           },
           "mode": "markers",
           "name": "[20-24]",
           "orientation": "v",
           "showlegend": true,
           "type": "scatter",
           "x": [
            "[20-24]",
            "[20-24]",
            "[20-24]",
            "[20-24]",
            "[20-24]",
            "[20-24]",
            "[20-24]",
            "[20-24]",
            "[20-24]",
            "[20-24]",
            "[20-24]"
           ],
           "xaxis": "x",
           "y": [
            24.6,
            87.8,
            98.8,
            110.3,
            116.1,
            129.8,
            149.1,
            180.4,
            185.7,
            222.3,
            286.1
           ],
           "yaxis": "y"
          },
          {
           "hovertemplate": "age=%{x}<br>year=2000<br>fertility_rate=%{y}<extra></extra>",
           "legendgroup": "[25-29]",
           "marker": {
            "color": "#00cc96",
            "symbol": "circle"
           },
           "mode": "markers",
           "name": "[25-29]",
           "orientation": "v",
           "showlegend": true,
           "type": "scatter",
           "x": [
            "[25-29]",
            "[25-29]",
            "[25-29]",
            "[25-29]",
            "[25-29]",
            "[25-29]",
            "[25-29]",
            "[25-29]",
            "[25-29]",
            "[25-29]",
            "[25-29]"
           ],
           "xaxis": "x",
           "y": [
            73.2,
            92.6,
            137.4,
            143.9,
            148.3,
            158.2,
            193.9,
            195.3,
            197.3,
            240.4,
            324.2
           ],
           "yaxis": "y"
          },
          {
           "hovertemplate": "age=%{x}<br>year=2000<br>fertility_rate=%{y}<extra></extra>",
           "legendgroup": "[30-34]",
           "marker": {
            "color": "#ab63fa",
            "symbol": "circle"
           },
           "mode": "markers",
           "name": "[30-34]",
           "orientation": "v",
           "showlegend": true,
           "type": "scatter",
           "x": [
            "[30-34]",
            "[30-34]",
            "[30-34]",
            "[30-34]",
            "[30-34]",
            "[30-34]",
            "[30-34]",
            "[30-34]",
            "[30-34]",
            "[30-34]",
            "[30-34]"
           ],
           "xaxis": "x",
           "y": [
            61,
            78.5,
            80.3,
            106,
            127.5,
            137.2,
            153.5,
            157.3,
            167.3,
            197.4,
            290.4
           ],
           "yaxis": "y"
          },
          {
           "hovertemplate": "age=%{x}<br>year=2000<br>fertility_rate=%{y}<extra></extra>",
           "legendgroup": "[35-39]",
           "marker": {
            "color": "#FFA15A",
            "symbol": "circle"
           },
           "mode": "markers",
           "name": "[35-39]",
           "orientation": "v",
           "showlegend": true,
           "type": "scatter",
           "x": [
            "[35-39]",
            "[35-39]",
            "[35-39]",
            "[35-39]",
            "[35-39]",
            "[35-39]",
            "[35-39]",
            "[35-39]",
            "[35-39]",
            "[35-39]",
            "[35-39]"
           ],
           "xaxis": "x",
           "y": [
            26.8,
            36.7,
            37.9,
            61.4,
            80,
            84.6,
            94.1,
            100.4,
            109,
            132.5,
            226.7
           ],
           "yaxis": "y"
          },
          {
           "hovertemplate": "age=%{x}<br>year=2000<br>fertility_rate=%{y}<extra></extra>",
           "legendgroup": "[40-44]",
           "marker": {
            "color": "#19d3f3",
            "symbol": "circle"
           },
           "mode": "markers",
           "name": "[40-44]",
           "orientation": "v",
           "showlegend": true,
           "type": "scatter",
           "x": [
            "[40-44]",
            "[40-44]",
            "[40-44]",
            "[40-44]",
            "[40-44]",
            "[40-44]",
            "[40-44]",
            "[40-44]",
            "[40-44]",
            "[40-44]",
            "[40-44]"
           ],
           "xaxis": "x",
           "y": [
            6.9,
            9.1,
            15.8,
            22.2,
            25.9,
            31,
            38.4,
            50.3,
            54.2,
            56,
            133
           ],
           "yaxis": "y"
          },
          {
           "hovertemplate": "age=%{x}<br>year=2000<br>fertility_rate=%{y}<extra></extra>",
           "legendgroup": "[45-49]",
           "marker": {
            "color": "#FF6692",
            "symbol": "circle"
           },
           "mode": "markers",
           "name": "[45-49]",
           "orientation": "v",
           "showlegend": true,
           "type": "scatter",
           "x": [
            "[45-49]",
            "[45-49]",
            "[45-49]",
            "[45-49]",
            "[45-49]",
            "[45-49]",
            "[45-49]",
            "[45-49]",
            "[45-49]",
            "[45-49]",
            "[45-49]"
           ],
           "xaxis": "x",
           "y": [
            0.2,
            1.6,
            3.3,
            3.5,
            4.9,
            5.3,
            6.2,
            8.2,
            11.7,
            12.6,
            62.5
           ],
           "yaxis": "y"
          }
         ],
         "name": "2000"
        },
        {
         "data": [
          {
           "hovertemplate": "age=%{x}<br>year=2001<br>fertility_rate=%{y}<extra></extra>",
           "legendgroup": "[15-19]",
           "marker": {
            "color": "#636efa",
            "symbol": "circle"
           },
           "mode": "markers",
           "name": "[15-19]",
           "orientation": "v",
           "showlegend": true,
           "type": "scatter",
           "x": [
            "[15-19]",
            "[15-19]",
            "[15-19]",
            "[15-19]",
            "[15-19]",
            "[15-19]",
            "[15-19]",
            "[15-19]",
            "[15-19]",
            "[15-19]",
            "[15-19]"
           ],
           "xaxis": "x",
           "y": [
            5.7,
            14.7,
            27.7,
            28.5,
            31.3,
            33.3,
            49,
            51.8,
            55.3,
            72.9,
            96.9
           ],
           "yaxis": "y"
          },
          {
           "hovertemplate": "age=%{x}<br>year=2001<br>fertility_rate=%{y}<extra></extra>",
           "legendgroup": "[20-24]",
           "marker": {
            "color": "#EF553B",
            "symbol": "circle"
           },
           "mode": "markers",
           "name": "[20-24]",
           "orientation": "v",
           "showlegend": true,
           "type": "scatter",
           "x": [
            "[20-24]",
            "[20-24]",
            "[20-24]",
            "[20-24]",
            "[20-24]",
            "[20-24]",
            "[20-24]",
            "[20-24]",
            "[20-24]",
            "[20-24]",
            "[20-24]"
           ],
           "xaxis": "x",
           "y": [
            20.4,
            88.6,
            94.1,
            106.9,
            114.4,
            127.3,
            144.7,
            178.3,
            183,
            213.6,
            312.7
           ],
           "yaxis": "y"
          },
          {
           "hovertemplate": "age=%{x}<br>year=2001<br>fertility_rate=%{y}<extra></extra>",
           "legendgroup": "[25-29]",
           "marker": {
            "color": "#00cc96",
            "symbol": "circle"
           },
           "mode": "markers",
           "name": "[25-29]",
           "orientation": "v",
           "showlegend": true,
           "type": "scatter",
           "x": [
            "[25-29]",
            "[25-29]",
            "[25-29]",
            "[25-29]",
            "[25-29]",
            "[25-29]",
            "[25-29]",
            "[25-29]",
            "[25-29]",
            "[25-29]",
            "[25-29]"
           ],
           "xaxis": "x",
           "y": [
            62.2,
            95.7,
            138.7,
            142.9,
            144.3,
            155.4,
            191.2,
            191.5,
            194.7,
            231.3,
            350.3
           ],
           "yaxis": "y"
          },
          {
           "hovertemplate": "age=%{x}<br>year=2001<br>fertility_rate=%{y}<extra></extra>",
           "legendgroup": "[30-34]",
           "marker": {
            "color": "#ab63fa",
            "symbol": "circle"
           },
           "mode": "markers",
           "name": "[30-34]",
           "orientation": "v",
           "showlegend": true,
           "type": "scatter",
           "x": [
            "[30-34]",
            "[30-34]",
            "[30-34]",
            "[30-34]",
            "[30-34]",
            "[30-34]",
            "[30-34]",
            "[30-34]",
            "[30-34]",
            "[30-34]",
            "[30-34]"
           ],
           "xaxis": "x",
           "y": [
            63.8,
            69.4,
            80,
            105.6,
            123.4,
            134.3,
            151.4,
            153.5,
            165,
            188.8,
            319.6
           ],
           "yaxis": "y"
          },
          {
           "hovertemplate": "age=%{x}<br>year=2001<br>fertility_rate=%{y}<extra></extra>",
           "legendgroup": "[35-39]",
           "marker": {
            "color": "#FFA15A",
            "symbol": "circle"
           },
           "mode": "markers",
           "name": "[35-39]",
           "orientation": "v",
           "showlegend": true,
           "type": "scatter",
           "x": [
            "[35-39]",
            "[35-39]",
            "[35-39]",
            "[35-39]",
            "[35-39]",
            "[35-39]",
            "[35-39]",
            "[35-39]",
            "[35-39]",
            "[35-39]",
            "[35-39]"
           ],
           "xaxis": "x",
           "y": [
            27.7,
            33.1,
            36.3,
            60.5,
            74.5,
            81.3,
            92.2,
            97.9,
            104.5,
            123.9,
            253.1
           ],
           "yaxis": "y"
          },
          {
           "hovertemplate": "age=%{x}<br>year=2001<br>fertility_rate=%{y}<extra></extra>",
           "legendgroup": "[40-44]",
           "marker": {
            "color": "#19d3f3",
            "symbol": "circle"
           },
           "mode": "markers",
           "name": "[40-44]",
           "orientation": "v",
           "showlegend": true,
           "type": "scatter",
           "x": [
            "[40-44]",
            "[40-44]",
            "[40-44]",
            "[40-44]",
            "[40-44]",
            "[40-44]",
            "[40-44]",
            "[40-44]",
            "[40-44]",
            "[40-44]",
            "[40-44]"
           ],
           "xaxis": "x",
           "y": [
            6.2,
            9.4,
            14.7,
            21.8,
            24.2,
            30.4,
            36.6,
            48,
            51.3,
            52.5,
            130.6
           ],
           "yaxis": "y"
          },
          {
           "hovertemplate": "age=%{x}<br>year=2001<br>fertility_rate=%{y}<extra></extra>",
           "legendgroup": "[45-49]",
           "marker": {
            "color": "#FF6692",
            "symbol": "circle"
           },
           "mode": "markers",
           "name": "[45-49]",
           "orientation": "v",
           "showlegend": true,
           "type": "scatter",
           "x": [
            "[45-49]",
            "[45-49]",
            "[45-49]",
            "[45-49]",
            "[45-49]",
            "[45-49]",
            "[45-49]",
            "[45-49]",
            "[45-49]",
            "[45-49]",
            "[45-49]"
           ],
           "xaxis": "x",
           "y": [
            0.2,
            1.6,
            3.3,
            3.4,
            4.3,
            5.2,
            6.2,
            7.8,
            10,
            10.1,
            62.7
           ],
           "yaxis": "y"
          }
         ],
         "name": "2001"
        },
        {
         "data": [
          {
           "hovertemplate": "age=%{x}<br>year=2002<br>fertility_rate=%{y}<extra></extra>",
           "legendgroup": "[15-19]",
           "marker": {
            "color": "#636efa",
            "symbol": "circle"
           },
           "mode": "markers",
           "name": "[15-19]",
           "orientation": "v",
           "showlegend": true,
           "type": "scatter",
           "x": [
            "[15-19]",
            "[15-19]",
            "[15-19]",
            "[15-19]",
            "[15-19]",
            "[15-19]",
            "[15-19]",
            "[15-19]",
            "[15-19]",
            "[15-19]",
            "[15-19]"
           ],
           "xaxis": "x",
           "y": [
            5.1,
            14.6,
            25.7,
            26.5,
            30.6,
            32.1,
            48.3,
            50.2,
            55.4,
            74.6,
            95.1
           ],
           "yaxis": "y"
          },
          {
           "hovertemplate": "age=%{x}<br>year=2002<br>fertility_rate=%{y}<extra></extra>",
           "legendgroup": "[20-24]",
           "marker": {
            "color": "#EF553B",
            "symbol": "circle"
           },
           "mode": "markers",
           "name": "[20-24]",
           "orientation": "v",
           "showlegend": true,
           "type": "scatter",
           "x": [
            "[20-24]",
            "[20-24]",
            "[20-24]",
            "[20-24]",
            "[20-24]",
            "[20-24]",
            "[20-24]",
            "[20-24]",
            "[20-24]",
            "[20-24]",
            "[20-24]"
           ],
           "xaxis": "x",
           "y": [
            18.8,
            86.8,
            98.8,
            104,
            112.7,
            124.8,
            149.1,
            176.1,
            180.3,
            204.9,
            306.8
           ],
           "yaxis": "y"
          },
          {
           "hovertemplate": "age=%{x}<br>year=2002<br>fertility_rate=%{y}<extra></extra>",
           "legendgroup": "[25-29]",
           "marker": {
            "color": "#00cc96",
            "symbol": "circle"
           },
           "mode": "markers",
           "name": "[25-29]",
           "orientation": "v",
           "showlegend": true,
           "type": "scatter",
           "x": [
            "[25-29]",
            "[25-29]",
            "[25-29]",
            "[25-29]",
            "[25-29]",
            "[25-29]",
            "[25-29]",
            "[25-29]",
            "[25-29]",
            "[25-29]",
            "[25-29]"
           ],
           "xaxis": "x",
           "y": [
            58.9,
            95.9,
            130.2,
            137.4,
            141.9,
            152.9,
            187.7,
            188.6,
            192.2,
            222.3,
            344.5
           ],
           "yaxis": "y"
          },
          {
           "hovertemplate": "age=%{x}<br>year=2002<br>fertility_rate=%{y}<extra></extra>",
           "legendgroup": "[30-34]",
           "marker": {
            "color": "#ab63fa",
            "symbol": "circle"
           },
           "mode": "markers",
           "name": "[30-34]",
           "orientation": "v",
           "showlegend": true,
           "type": "scatter",
           "x": [
            "[30-34]",
            "[30-34]",
            "[30-34]",
            "[30-34]",
            "[30-34]",
            "[30-34]",
            "[30-34]",
            "[30-34]",
            "[30-34]",
            "[30-34]",
            "[30-34]"
           ],
           "xaxis": "x",
           "y": [
            64.7,
            70.6,
            80.3,
            105.3,
            124.9,
            131.7,
            149.2,
            149.7,
            162.7,
            180.2,
            313.1
           ],
           "yaxis": "y"
          },
          {
           "hovertemplate": "age=%{x}<br>year=2002<br>fertility_rate=%{y}<extra></extra>",
           "legendgroup": "[35-39]",
           "marker": {
            "color": "#FFA15A",
            "symbol": "circle"
           },
           "mode": "markers",
           "name": "[35-39]",
           "orientation": "v",
           "showlegend": true,
           "type": "scatter",
           "x": [
            "[35-39]",
            "[35-39]",
            "[35-39]",
            "[35-39]",
            "[35-39]",
            "[35-39]",
            "[35-39]",
            "[35-39]",
            "[35-39]",
            "[35-39]",
            "[35-39]"
           ],
           "xaxis": "x",
           "y": [
            27.7,
            31.5,
            37.9,
            59.6,
            77.1,
            78.4,
            90.4,
            95.5,
            100,
            115.3,
            247.2
           ],
           "yaxis": "y"
          },
          {
           "hovertemplate": "age=%{x}<br>year=2002<br>fertility_rate=%{y}<extra></extra>",
           "legendgroup": "[40-44]",
           "marker": {
            "color": "#19d3f3",
            "symbol": "circle"
           },
           "mode": "markers",
           "name": "[40-44]",
           "orientation": "v",
           "showlegend": true,
           "type": "scatter",
           "x": [
            "[40-44]",
            "[40-44]",
            "[40-44]",
            "[40-44]",
            "[40-44]",
            "[40-44]",
            "[40-44]",
            "[40-44]",
            "[40-44]",
            "[40-44]",
            "[40-44]"
           ],
           "xaxis": "x",
           "y": [
            5.3,
            9.5,
            15.8,
            21.5,
            26.6,
            29.8,
            35,
            45.7,
            46.6,
            50.7,
            131.1
           ],
           "yaxis": "y"
          },
          {
           "hovertemplate": "age=%{x}<br>year=2002<br>fertility_rate=%{y}<extra></extra>",
           "legendgroup": "[45-49]",
           "marker": {
            "color": "#FF6692",
            "symbol": "circle"
           },
           "mode": "markers",
           "name": "[45-49]",
           "orientation": "v",
           "showlegend": true,
           "type": "scatter",
           "x": [
            "[45-49]",
            "[45-49]",
            "[45-49]",
            "[45-49]",
            "[45-49]",
            "[45-49]",
            "[45-49]",
            "[45-49]",
            "[45-49]",
            "[45-49]",
            "[45-49]"
           ],
           "xaxis": "x",
           "y": [
            0.3,
            2.3,
            3.3,
            3.3,
            4.9,
            5.1,
            6.1,
            7.4,
            7.6,
            8.3,
            62.7
           ],
           "yaxis": "y"
          }
         ],
         "name": "2002"
        },
        {
         "data": [
          {
           "hovertemplate": "age=%{x}<br>year=2003<br>fertility_rate=%{y}<extra></extra>",
           "legendgroup": "[15-19]",
           "marker": {
            "color": "#636efa",
            "symbol": "circle"
           },
           "mode": "markers",
           "name": "[15-19]",
           "orientation": "v",
           "showlegend": true,
           "type": "scatter",
           "x": [
            "[15-19]",
            "[15-19]",
            "[15-19]",
            "[15-19]",
            "[15-19]",
            "[15-19]",
            "[15-19]",
            "[15-19]",
            "[15-19]",
            "[15-19]",
            "[15-19]"
           ],
           "xaxis": "x",
           "y": [
            4.2,
            14.4,
            22.8,
            25.3,
            34.7,
            47.7,
            48.5,
            48.8,
            55.5,
            70.2,
            93.2
           ],
           "yaxis": "y"
          },
          {
           "hovertemplate": "age=%{x}<br>year=2003<br>fertility_rate=%{y}<extra></extra>",
           "legendgroup": "[20-24]",
           "marker": {
            "color": "#EF553B",
            "symbol": "circle"
           },
           "mode": "markers",
           "name": "[20-24]",
           "orientation": "v",
           "showlegend": true,
           "type": "scatter",
           "x": [
            "[20-24]",
            "[20-24]",
            "[20-24]",
            "[20-24]",
            "[20-24]",
            "[20-24]",
            "[20-24]",
            "[20-24]",
            "[20-24]",
            "[20-24]",
            "[20-24]"
           ],
           "xaxis": "x",
           "y": [
            16.6,
            92.3,
            101.1,
            104.9,
            111,
            122.3,
            125.4,
            174,
            177.7,
            196.3,
            290.4
           ],
           "yaxis": "y"
          },
          {
           "hovertemplate": "age=%{x}<br>year=2003<br>fertility_rate=%{y}<extra></extra>",
           "legendgroup": "[25-29]",
           "marker": {
            "color": "#00cc96",
            "symbol": "circle"
           },
           "mode": "markers",
           "name": "[25-29]",
           "orientation": "v",
           "showlegend": true,
           "type": "scatter",
           "x": [
            "[25-29]",
            "[25-29]",
            "[25-29]",
            "[25-29]",
            "[25-29]",
            "[25-29]",
            "[25-29]",
            "[25-29]",
            "[25-29]",
            "[25-29]",
            "[25-29]"
           ],
           "xaxis": "x",
           "y": [
            51.6,
            79.1,
            128,
            141,
            144,
            150.4,
            183.8,
            186,
            189.6,
            213.2,
            324.1
           ],
           "yaxis": "y"
          },
          {
           "hovertemplate": "age=%{x}<br>year=2003<br>fertility_rate=%{y}<extra></extra>",
           "legendgroup": "[30-34]",
           "marker": {
            "color": "#ab63fa",
            "symbol": "circle"
           },
           "mode": "markers",
           "name": "[30-34]",
           "orientation": "v",
           "showlegend": true,
           "type": "scatter",
           "x": [
            "[30-34]",
            "[30-34]",
            "[30-34]",
            "[30-34]",
            "[30-34]",
            "[30-34]",
            "[30-34]",
            "[30-34]",
            "[30-34]",
            "[30-34]",
            "[30-34]"
           ],
           "xaxis": "x",
           "y": [
            40.9,
            65.3,
            78.6,
            104.9,
            119.6,
            129.2,
            145.8,
            147,
            160.4,
            171.7,
            299
           ],
           "yaxis": "y"
          },
          {
           "hovertemplate": "age=%{x}<br>year=2003<br>fertility_rate=%{y}<extra></extra>",
           "legendgroup": "[35-39]",
           "marker": {
            "color": "#FFA15A",
            "symbol": "circle"
           },
           "mode": "markers",
           "name": "[35-39]",
           "orientation": "v",
           "showlegend": true,
           "type": "scatter",
           "x": [
            "[35-39]",
            "[35-39]",
            "[35-39]",
            "[35-39]",
            "[35-39]",
            "[35-39]",
            "[35-39]",
            "[35-39]",
            "[35-39]",
            "[35-39]",
            "[35-39]"
           ],
           "xaxis": "x",
           "y": [
            19.9,
            28.8,
            29.6,
            58.8,
            70,
            75.5,
            88.6,
            93,
            95.5,
            106.7,
            234.3
           ],
           "yaxis": "y"
          },
          {
           "hovertemplate": "age=%{x}<br>year=2003<br>fertility_rate=%{y}<extra></extra>",
           "legendgroup": "[40-44]",
           "marker": {
            "color": "#19d3f3",
            "symbol": "circle"
           },
           "mode": "markers",
           "name": "[40-44]",
           "orientation": "v",
           "showlegend": true,
           "type": "scatter",
           "x": [
            "[40-44]",
            "[40-44]",
            "[40-44]",
            "[40-44]",
            "[40-44]",
            "[40-44]",
            "[40-44]",
            "[40-44]",
            "[40-44]",
            "[40-44]",
            "[40-44]"
           ],
           "xaxis": "x",
           "y": [
            5.4,
            6.8,
            9.9,
            21.2,
            24.1,
            29.3,
            33.5,
            41.9,
            43.3,
            49,
            127.4
           ],
           "yaxis": "y"
          },
          {
           "hovertemplate": "age=%{x}<br>year=2003<br>fertility_rate=%{y}<extra></extra>",
           "legendgroup": "[45-49]",
           "marker": {
            "color": "#FF6692",
            "symbol": "circle"
           },
           "mode": "markers",
           "name": "[45-49]",
           "orientation": "v",
           "showlegend": true,
           "type": "scatter",
           "x": [
            "[45-49]",
            "[45-49]",
            "[45-49]",
            "[45-49]",
            "[45-49]",
            "[45-49]",
            "[45-49]",
            "[45-49]",
            "[45-49]",
            "[45-49]",
            "[45-49]"
           ],
           "xaxis": "x",
           "y": [
            0.1,
            1.9,
            2.2,
            3.2,
            4.3,
            5,
            5.1,
            6,
            6.7,
            7,
            54.6
           ],
           "yaxis": "y"
          }
         ],
         "name": "2003"
        },
        {
         "data": [
          {
           "hovertemplate": "age=%{x}<br>year=2004<br>fertility_rate=%{y}<extra></extra>",
           "legendgroup": "[15-19]",
           "marker": {
            "color": "#636efa",
            "symbol": "circle"
           },
           "mode": "markers",
           "name": "[15-19]",
           "orientation": "v",
           "showlegend": true,
           "type": "scatter",
           "x": [
            "[15-19]",
            "[15-19]",
            "[15-19]",
            "[15-19]",
            "[15-19]",
            "[15-19]",
            "[15-19]",
            "[15-19]",
            "[15-19]",
            "[15-19]",
            "[15-19]"
           ],
           "xaxis": "x",
           "y": [
            4.3,
            14.2,
            20,
            24.3,
            31.9,
            46.9,
            47,
            55.2,
            56,
            58.6,
            91.3
           ],
           "yaxis": "y"
          },
          {
           "hovertemplate": "age=%{x}<br>year=2004<br>fertility_rate=%{y}<extra></extra>",
           "legendgroup": "[20-24]",
           "marker": {
            "color": "#EF553B",
            "symbol": "circle"
           },
           "mode": "markers",
           "name": "[20-24]",
           "orientation": "v",
           "showlegend": true,
           "type": "scatter",
           "x": [
            "[20-24]",
            "[20-24]",
            "[20-24]",
            "[20-24]",
            "[20-24]",
            "[20-24]",
            "[20-24]",
            "[20-24]",
            "[20-24]",
            "[20-24]",
            "[20-24]"
           ],
           "xaxis": "x",
           "y": [
            15.4,
            85.8,
            98.6,
            109.2,
            111.8,
            119.8,
            141.7,
            171.7,
            175,
            187.6,
            247.7
           ],
           "yaxis": "y"
          },
          {
           "hovertemplate": "age=%{x}<br>year=2004<br>fertility_rate=%{y}<extra></extra>",
           "legendgroup": "[25-29]",
           "marker": {
            "color": "#00cc96",
            "symbol": "circle"
           },
           "mode": "markers",
           "name": "[25-29]",
           "orientation": "v",
           "showlegend": true,
           "type": "scatter",
           "x": [
            "[25-29]",
            "[25-29]",
            "[25-29]",
            "[25-29]",
            "[25-29]",
            "[25-29]",
            "[25-29]",
            "[25-29]",
            "[25-29]",
            "[25-29]",
            "[25-29]"
           ],
           "xaxis": "x",
           "y": [
            49.9,
            72.7,
            125.7,
            139.5,
            140,
            148.2,
            180,
            182.3,
            187,
            204.2,
            270.8
           ],
           "yaxis": "y"
          },
          {
           "hovertemplate": "age=%{x}<br>year=2004<br>fertility_rate=%{y}<extra></extra>",
           "legendgroup": "[30-34]",
           "marker": {
            "color": "#ab63fa",
            "symbol": "circle"
           },
           "mode": "markers",
           "name": "[30-34]",
           "orientation": "v",
           "showlegend": true,
           "type": "scatter",
           "x": [
            "[30-34]",
            "[30-34]",
            "[30-34]",
            "[30-34]",
            "[30-34]",
            "[30-34]",
            "[30-34]",
            "[30-34]",
            "[30-34]",
            "[30-34]",
            "[30-34]"
           ],
           "xaxis": "x",
           "y": [
            31.9,
            64,
            79.8,
            104.5,
            114.4,
            127,
            142,
            145,
            158.1,
            163.1,
            262.3
           ],
           "yaxis": "y"
          },
          {
           "hovertemplate": "age=%{x}<br>year=2004<br>fertility_rate=%{y}<extra></extra>",
           "legendgroup": "[35-39]",
           "marker": {
            "color": "#FFA15A",
            "symbol": "circle"
           },
           "mode": "markers",
           "name": "[35-39]",
           "orientation": "v",
           "showlegend": true,
           "type": "scatter",
           "x": [
            "[35-39]",
            "[35-39]",
            "[35-39]",
            "[35-39]",
            "[35-39]",
            "[35-39]",
            "[35-39]",
            "[35-39]",
            "[35-39]",
            "[35-39]",
            "[35-39]"
           ],
           "xaxis": "x",
           "y": [
            16.9,
            28.2,
            35.3,
            57.9,
            62.9,
            73.1,
            86.8,
            91,
            92.4,
            98.1,
            200.7
           ],
           "yaxis": "y"
          },
          {
           "hovertemplate": "age=%{x}<br>year=2004<br>fertility_rate=%{y}<extra></extra>",
           "legendgroup": "[40-44]",
           "marker": {
            "color": "#19d3f3",
            "symbol": "circle"
           },
           "mode": "markers",
           "name": "[40-44]",
           "orientation": "v",
           "showlegend": true,
           "type": "scatter",
           "x": [
            "[40-44]",
            "[40-44]",
            "[40-44]",
            "[40-44]",
            "[40-44]",
            "[40-44]",
            "[40-44]",
            "[40-44]",
            "[40-44]",
            "[40-44]",
            "[40-44]"
           ],
           "xaxis": "x",
           "y": [
            5.6,
            5.8,
            13.9,
            20.8,
            21.7,
            28.7,
            32.1,
            37.2,
            41,
            48.5,
            117.6
           ],
           "yaxis": "y"
          },
          {
           "hovertemplate": "age=%{x}<br>year=2004<br>fertility_rate=%{y}<extra></extra>",
           "legendgroup": "[45-49]",
           "marker": {
            "color": "#FF6692",
            "symbol": "circle"
           },
           "mode": "markers",
           "name": "[45-49]",
           "orientation": "v",
           "showlegend": true,
           "type": "scatter",
           "x": [
            "[45-49]",
            "[45-49]",
            "[45-49]",
            "[45-49]",
            "[45-49]",
            "[45-49]",
            "[45-49]",
            "[45-49]",
            "[45-49]",
            "[45-49]",
            "[45-49]"
           ],
           "xaxis": "x",
           "y": [
            0.2,
            2.2,
            2.5,
            3.2,
            4,
            4.7,
            4.8,
            5,
            6.4,
            6.7,
            33.7
           ],
           "yaxis": "y"
          }
         ],
         "name": "2004"
        },
        {
         "data": [
          {
           "hovertemplate": "age=%{x}<br>year=2005<br>fertility_rate=%{y}<extra></extra>",
           "legendgroup": "[15-19]",
           "marker": {
            "color": "#636efa",
            "symbol": "circle"
           },
           "mode": "markers",
           "name": "[15-19]",
           "orientation": "v",
           "showlegend": true,
           "type": "scatter",
           "x": [
            "[15-19]",
            "[15-19]",
            "[15-19]",
            "[15-19]",
            "[15-19]",
            "[15-19]",
            "[15-19]",
            "[15-19]",
            "[15-19]",
            "[15-19]",
            "[15-19]"
           ],
           "xaxis": "x",
           "y": [
            4.6,
            14.1,
            17.1,
            23.3,
            35,
            45.3,
            45.3,
            54,
            56.5,
            56.7,
            89.5
           ],
           "yaxis": "y"
          },
          {
           "hovertemplate": "age=%{x}<br>year=2005<br>fertility_rate=%{y}<extra></extra>",
           "legendgroup": "[20-24]",
           "marker": {
            "color": "#EF553B",
            "symbol": "circle"
           },
           "mode": "markers",
           "name": "[20-24]",
           "orientation": "v",
           "showlegend": true,
           "type": "scatter",
           "x": [
            "[20-24]",
            "[20-24]",
            "[20-24]",
            "[20-24]",
            "[20-24]",
            "[20-24]",
            "[20-24]",
            "[20-24]",
            "[20-24]",
            "[20-24]",
            "[20-24]"
           ],
           "xaxis": "x",
           "y": [
            14.9,
            79.2,
            96.1,
            107.5,
            110.4,
            117.3,
            123.9,
            169.4,
            170,
            178.9,
            241
           ],
           "yaxis": "y"
          },
          {
           "hovertemplate": "age=%{x}<br>year=2005<br>fertility_rate=%{y}<extra></extra>",
           "legendgroup": "[25-29]",
           "marker": {
            "color": "#00cc96",
            "symbol": "circle"
           },
           "mode": "markers",
           "name": "[25-29]",
           "orientation": "v",
           "showlegend": true,
           "type": "scatter",
           "x": [
            "[25-29]",
            "[25-29]",
            "[25-29]",
            "[25-29]",
            "[25-29]",
            "[25-29]",
            "[25-29]",
            "[25-29]",
            "[25-29]",
            "[25-29]",
            "[25-29]"
           ],
           "xaxis": "x",
           "y": [
            49.5,
            73.9,
            123.5,
            139,
            144.4,
            146.1,
            177.2,
            178.6,
            184.5,
            195.2,
            272.1
           ],
           "yaxis": "y"
          },
          {
           "hovertemplate": "age=%{x}<br>year=2005<br>fertility_rate=%{y}<extra></extra>",
           "legendgroup": "[30-34]",
           "marker": {
            "color": "#ab63fa",
            "symbol": "circle"
           },
           "mode": "markers",
           "name": "[30-34]",
           "orientation": "v",
           "showlegend": true,
           "type": "scatter",
           "x": [
            "[30-34]",
            "[30-34]",
            "[30-34]",
            "[30-34]",
            "[30-34]",
            "[30-34]",
            "[30-34]",
            "[30-34]",
            "[30-34]",
            "[30-34]",
            "[30-34]"
           ],
           "xaxis": "x",
           "y": [
            33.6,
            62.6,
            78.4,
            104.1,
            109.1,
            124.8,
            139.9,
            143,
            154.5,
            155.8,
            260.2
           ],
           "yaxis": "y"
          },
          {
           "hovertemplate": "age=%{x}<br>year=2005<br>fertility_rate=%{y}<extra></extra>",
           "legendgroup": "[35-39]",
           "marker": {
            "color": "#FFA15A",
            "symbol": "circle"
           },
           "mode": "markers",
           "name": "[35-39]",
           "orientation": "v",
           "showlegend": true,
           "type": "scatter",
           "x": [
            "[35-39]",
            "[35-39]",
            "[35-39]",
            "[35-39]",
            "[35-39]",
            "[35-39]",
            "[35-39]",
            "[35-39]",
            "[35-39]",
            "[35-39]",
            "[35-39]"
           ],
           "xaxis": "x",
           "y": [
            17.5,
            28.3,
            29.1,
            55.7,
            57,
            70.6,
            85,
            88.6,
            89.5,
            91.8,
            199.8
           ],
           "yaxis": "y"
          },
          {
           "hovertemplate": "age=%{x}<br>year=2005<br>fertility_rate=%{y}<extra></extra>",
           "legendgroup": "[40-44]",
           "marker": {
            "color": "#19d3f3",
            "symbol": "circle"
           },
           "mode": "markers",
           "name": "[40-44]",
           "orientation": "v",
           "showlegend": true,
           "type": "scatter",
           "x": [
            "[40-44]",
            "[40-44]",
            "[40-44]",
            "[40-44]",
            "[40-44]",
            "[40-44]",
            "[40-44]",
            "[40-44]",
            "[40-44]",
            "[40-44]",
            "[40-44]"
           ],
           "xaxis": "x",
           "y": [
            5.5,
            6,
            9.5,
            19.2,
            20.5,
            28.1,
            30.8,
            32.5,
            39.7,
            48,
            110.4
           ],
           "yaxis": "y"
          },
          {
           "hovertemplate": "age=%{x}<br>year=2005<br>fertility_rate=%{y}<extra></extra>",
           "legendgroup": "[45-49]",
           "marker": {
            "color": "#FF6692",
            "symbol": "circle"
           },
           "mode": "markers",
           "name": "[45-49]",
           "orientation": "v",
           "showlegend": true,
           "type": "scatter",
           "x": [
            "[45-49]",
            "[45-49]",
            "[45-49]",
            "[45-49]",
            "[45-49]",
            "[45-49]",
            "[45-49]",
            "[45-49]",
            "[45-49]",
            "[45-49]",
            "[45-49]"
           ],
           "xaxis": "x",
           "y": [
            0,
            0.2,
            1.7,
            2.1,
            3.1,
            4.6,
            4.7,
            4.9,
            6.4,
            6.8,
            37.1
           ],
           "yaxis": "y"
          }
         ],
         "name": "2005"
        },
        {
         "data": [
          {
           "hovertemplate": "age=%{x}<br>year=2006<br>fertility_rate=%{y}<extra></extra>",
           "legendgroup": "[15-19]",
           "marker": {
            "color": "#636efa",
            "symbol": "circle"
           },
           "mode": "markers",
           "name": "[15-19]",
           "orientation": "v",
           "showlegend": true,
           "type": "scatter",
           "x": [
            "[15-19]",
            "[15-19]",
            "[15-19]",
            "[15-19]",
            "[15-19]",
            "[15-19]",
            "[15-19]",
            "[15-19]",
            "[15-19]",
            "[15-19]",
            "[15-19]"
           ],
           "xaxis": "x",
           "y": [
            4.4,
            14,
            16.5,
            22.5,
            35.5,
            43.7,
            43.8,
            54.8,
            56.8,
            57,
            85.1
           ],
           "yaxis": "y"
          },
          {
           "hovertemplate": "age=%{x}<br>year=2006<br>fertility_rate=%{y}<extra></extra>",
           "legendgroup": "[20-24]",
           "marker": {
            "color": "#EF553B",
            "symbol": "circle"
           },
           "mode": "markers",
           "name": "[20-24]",
           "orientation": "v",
           "showlegend": true,
           "type": "scatter",
           "x": [
            "[20-24]",
            "[20-24]",
            "[20-24]",
            "[20-24]",
            "[20-24]",
            "[20-24]",
            "[20-24]",
            "[20-24]",
            "[20-24]",
            "[20-24]",
            "[20-24]"
           ],
           "xaxis": "x",
           "y": [
            13.5,
            77.8,
            94,
            106.1,
            113.4,
            115,
            121,
            165,
            167.1,
            173,
            234.4
           ],
           "yaxis": "y"
          },
          {
           "hovertemplate": "age=%{x}<br>year=2006<br>fertility_rate=%{y}<extra></extra>",
           "legendgroup": "[25-29]",
           "marker": {
            "color": "#00cc96",
            "symbol": "circle"
           },
           "mode": "markers",
           "name": "[25-29]",
           "orientation": "v",
           "showlegend": true,
           "type": "scatter",
           "x": [
            "[25-29]",
            "[25-29]",
            "[25-29]",
            "[25-29]",
            "[25-29]",
            "[25-29]",
            "[25-29]",
            "[25-29]",
            "[25-29]",
            "[25-29]",
            "[25-29]"
           ],
           "xaxis": "x",
           "y": [
            47.4,
            71.1,
            123,
            138.1,
            144.3,
            145.2,
            174.5,
            174.9,
            182.3,
            192,
            273.4
           ],
           "yaxis": "y"
          },
          {
           "hovertemplate": "age=%{x}<br>year=2006<br>fertility_rate=%{y}<extra></extra>",
           "legendgroup": "[30-34]",
           "marker": {
            "color": "#ab63fa",
            "symbol": "circle"
           },
           "mode": "markers",
           "name": "[30-34]",
           "orientation": "v",
           "showlegend": true,
           "type": "scatter",
           "x": [
            "[30-34]",
            "[30-34]",
            "[30-34]",
            "[30-34]",
            "[30-34]",
            "[30-34]",
            "[30-34]",
            "[30-34]",
            "[30-34]",
            "[30-34]",
            "[30-34]"
           ],
           "xaxis": "x",
           "y": [
            29.7,
            64.5,
            78.2,
            103.8,
            107.9,
            123,
            137.9,
            141,
            152.2,
            153.8,
            258.1
           ],
           "yaxis": "y"
          },
          {
           "hovertemplate": "age=%{x}<br>year=2006<br>fertility_rate=%{y}<extra></extra>",
           "legendgroup": "[35-39]",
           "marker": {
            "color": "#FFA15A",
            "symbol": "circle"
           },
           "mode": "markers",
           "name": "[35-39]",
           "orientation": "v",
           "showlegend": true,
           "type": "scatter",
           "x": [
            "[35-39]",
            "[35-39]",
            "[35-39]",
            "[35-39]",
            "[35-39]",
            "[35-39]",
            "[35-39]",
            "[35-39]",
            "[35-39]",
            "[35-39]",
            "[35-39]"
           ],
           "xaxis": "x",
           "y": [
            16.2,
            28,
            30.3,
            54.1,
            56.2,
            68.5,
            83.5,
            86.3,
            86.9,
            91.2,
            198.8
           ],
           "yaxis": "y"
          },
          {
           "hovertemplate": "age=%{x}<br>year=2006<br>fertility_rate=%{y}<extra></extra>",
           "legendgroup": "[40-44]",
           "marker": {
            "color": "#19d3f3",
            "symbol": "circle"
           },
           "mode": "markers",
           "name": "[40-44]",
           "orientation": "v",
           "showlegend": true,
           "type": "scatter",
           "x": [
            "[40-44]",
            "[40-44]",
            "[40-44]",
            "[40-44]",
            "[40-44]",
            "[40-44]",
            "[40-44]",
            "[40-44]",
            "[40-44]",
            "[40-44]",
            "[40-44]"
           ],
           "xaxis": "x",
           "y": [
            5.5,
            5.6,
            8.7,
            18.6,
            20.1,
            27.6,
            29.6,
            31.6,
            38.5,
            47.5,
            103.3
           ],
           "yaxis": "y"
          },
          {
           "hovertemplate": "age=%{x}<br>year=2006<br>fertility_rate=%{y}<extra></extra>",
           "legendgroup": "[45-49]",
           "marker": {
            "color": "#FF6692",
            "symbol": "circle"
           },
           "mode": "markers",
           "name": "[45-49]",
           "orientation": "v",
           "showlegend": true,
           "type": "scatter",
           "x": [
            "[45-49]",
            "[45-49]",
            "[45-49]",
            "[45-49]",
            "[45-49]",
            "[45-49]",
            "[45-49]",
            "[45-49]",
            "[45-49]",
            "[45-49]",
            "[45-49]"
           ],
           "xaxis": "x",
           "y": [
            0.1,
            0.2,
            1.4,
            2.1,
            3.1,
            4.6,
            4.7,
            4.7,
            6.1,
            7.2,
            40.4
           ],
           "yaxis": "y"
          }
         ],
         "name": "2006"
        },
        {
         "data": [
          {
           "hovertemplate": "age=%{x}<br>year=2007<br>fertility_rate=%{y}<extra></extra>",
           "legendgroup": "[15-19]",
           "marker": {
            "color": "#636efa",
            "symbol": "circle"
           },
           "mode": "markers",
           "name": "[15-19]",
           "orientation": "v",
           "showlegend": true,
           "type": "scatter",
           "x": [
            "[15-19]",
            "[15-19]",
            "[15-19]",
            "[15-19]",
            "[15-19]",
            "[15-19]",
            "[15-19]",
            "[15-19]",
            "[15-19]",
            "[15-19]",
            "[15-19]"
           ],
           "xaxis": "x",
           "y": [
            4.1,
            13.8,
            15.8,
            21.8,
            36,
            42,
            42.2,
            52.9,
            53.2,
            57.5,
            80.7
           ],
           "yaxis": "y"
          },
          {
           "hovertemplate": "age=%{x}<br>year=2007<br>fertility_rate=%{y}<extra></extra>",
           "legendgroup": "[20-24]",
           "marker": {
            "color": "#EF553B",
            "symbol": "circle"
           },
           "mode": "markers",
           "name": "[20-24]",
           "orientation": "v",
           "showlegend": true,
           "type": "scatter",
           "x": [
            "[20-24]",
            "[20-24]",
            "[20-24]",
            "[20-24]",
            "[20-24]",
            "[20-24]",
            "[20-24]",
            "[20-24]",
            "[20-24]",
            "[20-24]",
            "[20-24]"
           ],
           "xaxis": "x",
           "y": [
            13.4,
            76.3,
            92.3,
            104.7,
            109.6,
            112.6,
            118,
            160,
            164.8,
            167.1,
            227.7
           ],
           "yaxis": "y"
          },
          {
           "hovertemplate": "age=%{x}<br>year=2007<br>fertility_rate=%{y}<extra></extra>",
           "legendgroup": "[25-29]",
           "marker": {
            "color": "#00cc96",
            "symbol": "circle"
           },
           "mode": "markers",
           "name": "[25-29]",
           "orientation": "v",
           "showlegend": true,
           "type": "scatter",
           "x": [
            "[25-29]",
            "[25-29]",
            "[25-29]",
            "[25-29]",
            "[25-29]",
            "[25-29]",
            "[25-29]",
            "[25-29]",
            "[25-29]",
            "[25-29]",
            "[25-29]"
           ],
           "xaxis": "x",
           "y": [
            45.8,
            74.7,
            122.5,
            137.2,
            142.9,
            146,
            171.2,
            171.7,
            180.2,
            188.8,
            274.7
           ],
           "yaxis": "y"
          },
          {
           "hovertemplate": "age=%{x}<br>year=2007<br>fertility_rate=%{y}<extra></extra>",
           "legendgroup": "[30-34]",
           "marker": {
            "color": "#ab63fa",
            "symbol": "circle"
           },
           "mode": "markers",
           "name": "[30-34]",
           "orientation": "v",
           "showlegend": true,
           "type": "scatter",
           "x": [
            "[30-34]",
            "[30-34]",
            "[30-34]",
            "[30-34]",
            "[30-34]",
            "[30-34]",
            "[30-34]",
            "[30-34]",
            "[30-34]",
            "[30-34]",
            "[30-34]"
           ],
           "xaxis": "x",
           "y": [
            34.7,
            65.3,
            78,
            103.4,
            106.7,
            121.5,
            135.8,
            139,
            149.8,
            151.9,
            256.1
           ],
           "yaxis": "y"
          },
          {
           "hovertemplate": "age=%{x}<br>year=2007<br>fertility_rate=%{y}<extra></extra>",
           "legendgroup": "[35-39]",
           "marker": {
            "color": "#FFA15A",
            "symbol": "circle"
           },
           "mode": "markers",
           "name": "[35-39]",
           "orientation": "v",
           "showlegend": true,
           "type": "scatter",
           "x": [
            "[35-39]",
            "[35-39]",
            "[35-39]",
            "[35-39]",
            "[35-39]",
            "[35-39]",
            "[35-39]",
            "[35-39]",
            "[35-39]",
            "[35-39]",
            "[35-39]"
           ],
           "xaxis": "x",
           "y": [
            17.9,
            27,
            32.9,
            52.5,
            55.4,
            66.9,
            82,
            83.9,
            84.4,
            90.6,
            197.9
           ],
           "yaxis": "y"
          },
          {
           "hovertemplate": "age=%{x}<br>year=2007<br>fertility_rate=%{y}<extra></extra>",
           "legendgroup": "[40-44]",
           "marker": {
            "color": "#19d3f3",
            "symbol": "circle"
           },
           "mode": "markers",
           "name": "[40-44]",
           "orientation": "v",
           "showlegend": true,
           "type": "scatter",
           "x": [
            "[40-44]",
            "[40-44]",
            "[40-44]",
            "[40-44]",
            "[40-44]",
            "[40-44]",
            "[40-44]",
            "[40-44]",
            "[40-44]",
            "[40-44]",
            "[40-44]"
           ],
           "xaxis": "x",
           "y": [
            5.6,
            6.1,
            8,
            18.1,
            19.8,
            27.1,
            28.7,
            30.6,
            37.2,
            47,
            96.2
           ],
           "yaxis": "y"
          },
          {
           "hovertemplate": "age=%{x}<br>year=2007<br>fertility_rate=%{y}<extra></extra>",
           "legendgroup": "[45-49]",
           "marker": {
            "color": "#FF6692",
            "symbol": "circle"
           },
           "mode": "markers",
           "name": "[45-49]",
           "orientation": "v",
           "showlegend": true,
           "type": "scatter",
           "x": [
            "[45-49]",
            "[45-49]",
            "[45-49]",
            "[45-49]",
            "[45-49]",
            "[45-49]",
            "[45-49]",
            "[45-49]",
            "[45-49]",
            "[45-49]",
            "[45-49]"
           ],
           "xaxis": "x",
           "y": [
            0.2,
            0.3,
            1,
            2.1,
            3.1,
            4.5,
            4.5,
            4.6,
            5.9,
            7.6,
            43.7
           ],
           "yaxis": "y"
          }
         ],
         "name": "2007"
        },
        {
         "data": [
          {
           "hovertemplate": "age=%{x}<br>year=2008<br>fertility_rate=%{y}<extra></extra>",
           "legendgroup": "[15-19]",
           "marker": {
            "color": "#636efa",
            "symbol": "circle"
           },
           "mode": "markers",
           "name": "[15-19]",
           "orientation": "v",
           "showlegend": true,
           "type": "scatter",
           "x": [
            "[15-19]",
            "[15-19]",
            "[15-19]",
            "[15-19]",
            "[15-19]",
            "[15-19]",
            "[15-19]",
            "[15-19]",
            "[15-19]",
            "[15-19]",
            "[15-19]"
           ],
           "xaxis": "x",
           "y": [
            4,
            13.7,
            15.2,
            21,
            32.7,
            40.4,
            40.7,
            51,
            54.8,
            58,
            76.3
           ],
           "yaxis": "y"
          },
          {
           "hovertemplate": "age=%{x}<br>year=2008<br>fertility_rate=%{y}<extra></extra>",
           "legendgroup": "[20-24]",
           "marker": {
            "color": "#EF553B",
            "symbol": "circle"
           },
           "mode": "markers",
           "name": "[20-24]",
           "orientation": "v",
           "showlegend": true,
           "type": "scatter",
           "x": [
            "[20-24]",
            "[20-24]",
            "[20-24]",
            "[20-24]",
            "[20-24]",
            "[20-24]",
            "[20-24]",
            "[20-24]",
            "[20-24]",
            "[20-24]",
            "[20-24]"
           ],
           "xaxis": "x",
           "y": [
            12.6,
            74.8,
            90.2,
            103.2,
            110.3,
            111.1,
            111.3,
            155,
            161.1,
            162.5,
            221
           ],
           "yaxis": "y"
          },
          {
           "hovertemplate": "age=%{x}<br>year=2008<br>fertility_rate=%{y}<extra></extra>",
           "legendgroup": "[25-29]",
           "marker": {
            "color": "#00cc96",
            "symbol": "circle"
           },
           "mode": "markers",
           "name": "[25-29]",
           "orientation": "v",
           "showlegend": true,
           "type": "scatter",
           "x": [
            "[25-29]",
            "[25-29]",
            "[25-29]",
            "[25-29]",
            "[25-29]",
            "[25-29]",
            "[25-29]",
            "[25-29]",
            "[25-29]",
            "[25-29]",
            "[25-29]"
           ],
           "xaxis": "x",
           "y": [
            44.2,
            73.1,
            122,
            136.3,
            141.1,
            142.5,
            167.5,
            168.9,
            178.1,
            185.6,
            276
           ],
           "yaxis": "y"
          },
          {
           "hovertemplate": "age=%{x}<br>year=2008<br>fertility_rate=%{y}<extra></extra>",
           "legendgroup": "[30-34]",
           "marker": {
            "color": "#ab63fa",
            "symbol": "circle"
           },
           "mode": "markers",
           "name": "[30-34]",
           "orientation": "v",
           "showlegend": true,
           "type": "scatter",
           "x": [
            "[30-34]",
            "[30-34]",
            "[30-34]",
            "[30-34]",
            "[30-34]",
            "[30-34]",
            "[30-34]",
            "[30-34]",
            "[30-34]",
            "[30-34]",
            "[30-34]"
           ],
           "xaxis": "x",
           "y": [
            32.5,
            65.1,
            80.3,
            103.1,
            105.5,
            119.7,
            133.8,
            137,
            147.5,
            150,
            254
           ],
           "yaxis": "y"
          },
          {
           "hovertemplate": "age=%{x}<br>year=2008<br>fertility_rate=%{y}<extra></extra>",
           "legendgroup": "[35-39]",
           "marker": {
            "color": "#FFA15A",
            "symbol": "circle"
           },
           "mode": "markers",
           "name": "[35-39]",
           "orientation": "v",
           "showlegend": true,
           "type": "scatter",
           "x": [
            "[35-39]",
            "[35-39]",
            "[35-39]",
            "[35-39]",
            "[35-39]",
            "[35-39]",
            "[35-39]",
            "[35-39]",
            "[35-39]",
            "[35-39]",
            "[35-39]"
           ],
           "xaxis": "x",
           "y": [
            17.2,
            28.4,
            33.1,
            50.9,
            54.5,
            64.8,
            80.5,
            81.5,
            81.9,
            90,
            197
           ],
           "yaxis": "y"
          },
          {
           "hovertemplate": "age=%{x}<br>year=2008<br>fertility_rate=%{y}<extra></extra>",
           "legendgroup": "[40-44]",
           "marker": {
            "color": "#19d3f3",
            "symbol": "circle"
           },
           "mode": "markers",
           "name": "[40-44]",
           "orientation": "v",
           "showlegend": true,
           "type": "scatter",
           "x": [
            "[40-44]",
            "[40-44]",
            "[40-44]",
            "[40-44]",
            "[40-44]",
            "[40-44]",
            "[40-44]",
            "[40-44]",
            "[40-44]",
            "[40-44]",
            "[40-44]"
           ],
           "xaxis": "x",
           "y": [
            5.7,
            5.8,
            8.6,
            17.5,
            19.5,
            26.6,
            27.6,
            29.6,
            36,
            46.5,
            89
           ],
           "yaxis": "y"
          },
          {
           "hovertemplate": "age=%{x}<br>year=2008<br>fertility_rate=%{y}<extra></extra>",
           "legendgroup": "[45-49]",
           "marker": {
            "color": "#FF6692",
            "symbol": "circle"
           },
           "mode": "markers",
           "name": "[45-49]",
           "orientation": "v",
           "showlegend": true,
           "type": "scatter",
           "x": [
            "[45-49]",
            "[45-49]",
            "[45-49]",
            "[45-49]",
            "[45-49]",
            "[45-49]",
            "[45-49]",
            "[45-49]",
            "[45-49]",
            "[45-49]",
            "[45-49]"
           ],
           "xaxis": "x",
           "y": [
            0.2,
            0.4,
            1.1,
            2.1,
            3,
            4.4,
            4.5,
            4.6,
            5.6,
            8,
            47
           ],
           "yaxis": "y"
          }
         ],
         "name": "2008"
        },
        {
         "data": [
          {
           "hovertemplate": "age=%{x}<br>year=2009<br>fertility_rate=%{y}<extra></extra>",
           "legendgroup": "[15-19]",
           "marker": {
            "color": "#636efa",
            "symbol": "circle"
           },
           "mode": "markers",
           "name": "[15-19]",
           "orientation": "v",
           "showlegend": true,
           "type": "scatter",
           "x": [
            "[15-19]",
            "[15-19]",
            "[15-19]",
            "[15-19]",
            "[15-19]",
            "[15-19]",
            "[15-19]",
            "[15-19]",
            "[15-19]",
            "[15-19]",
            "[15-19]"
           ],
           "xaxis": "x",
           "y": [
            2.8,
            13.6,
            14.5,
            20.4,
            29.4,
            38.2,
            39.2,
            50.1,
            57,
            58.5,
            71.9
           ],
           "yaxis": "y"
          },
          {
           "hovertemplate": "age=%{x}<br>year=2009<br>fertility_rate=%{y}<extra></extra>",
           "legendgroup": "[20-24]",
           "marker": {
            "color": "#EF553B",
            "symbol": "circle"
           },
           "mode": "markers",
           "name": "[20-24]",
           "orientation": "v",
           "showlegend": true,
           "type": "scatter",
           "x": [
            "[20-24]",
            "[20-24]",
            "[20-24]",
            "[20-24]",
            "[20-24]",
            "[20-24]",
            "[20-24]",
            "[20-24]",
            "[20-24]",
            "[20-24]",
            "[20-24]"
           ],
           "xaxis": "x",
           "y": [
            9.5,
            73.3,
            89,
            101.8,
            104.1,
            107.9,
            115.4,
            148.4,
            155.2,
            160.5,
            217.5
           ],
           "yaxis": "y"
          },
          {
           "hovertemplate": "age=%{x}<br>year=2009<br>fertility_rate=%{y}<extra></extra>",
           "legendgroup": "[25-29]",
           "marker": {
            "color": "#00cc96",
            "symbol": "circle"
           },
           "mode": "markers",
           "name": "[25-29]",
           "orientation": "v",
           "showlegend": true,
           "type": "scatter",
           "x": [
            "[25-29]",
            "[25-29]",
            "[25-29]",
            "[25-29]",
            "[25-29]",
            "[25-29]",
            "[25-29]",
            "[25-29]",
            "[25-29]",
            "[25-29]",
            "[25-29]"
           ],
           "xaxis": "x",
           "y": [
            34.1,
            69.3,
            121.5,
            135.4,
            138.9,
            140.1,
            165.3,
            166.5,
            176,
            182.4,
            272.5
           ],
           "yaxis": "y"
          },
          {
           "hovertemplate": "age=%{x}<br>year=2009<br>fertility_rate=%{y}<extra></extra>",
           "legendgroup": "[30-34]",
           "marker": {
            "color": "#ab63fa",
            "symbol": "circle"
           },
           "mode": "markers",
           "name": "[30-34]",
           "orientation": "v",
           "showlegend": true,
           "type": "scatter",
           "x": [
            "[30-34]",
            "[30-34]",
            "[30-34]",
            "[30-34]",
            "[30-34]",
            "[30-34]",
            "[30-34]",
            "[30-34]",
            "[30-34]",
            "[30-34]",
            "[30-34]"
           ],
           "xaxis": "x",
           "y": [
            27.1,
            52.6,
            82.5,
            102.7,
            104.3,
            118.6,
            131.1,
            136.2,
            145.1,
            148.1,
            250.5
           ],
           "yaxis": "y"
          },
          {
           "hovertemplate": "age=%{x}<br>year=2009<br>fertility_rate=%{y}<extra></extra>",
           "legendgroup": "[35-39]",
           "marker": {
            "color": "#FFA15A",
            "symbol": "circle"
           },
           "mode": "markers",
           "name": "[35-39]",
           "orientation": "v",
           "showlegend": true,
           "type": "scatter",
           "x": [
            "[35-39]",
            "[35-39]",
            "[35-39]",
            "[35-39]",
            "[35-39]",
            "[35-39]",
            "[35-39]",
            "[35-39]",
            "[35-39]",
            "[35-39]",
            "[35-39]"
           ],
           "xaxis": "x",
           "y": [
            15.4,
            28.1,
            29.8,
            49.3,
            53.7,
            63.6,
            78.4,
            79,
            79.3,
            88.9,
            193.5
           ],
           "yaxis": "y"
          },
          {
           "hovertemplate": "age=%{x}<br>year=2009<br>fertility_rate=%{y}<extra></extra>",
           "legendgroup": "[40-44]",
           "marker": {
            "color": "#19d3f3",
            "symbol": "circle"
           },
           "mode": "markers",
           "name": "[40-44]",
           "orientation": "v",
           "showlegend": true,
           "type": "scatter",
           "x": [
            "[40-44]",
            "[40-44]",
            "[40-44]",
            "[40-44]",
            "[40-44]",
            "[40-44]",
            "[40-44]",
            "[40-44]",
            "[40-44]",
            "[40-44]",
            "[40-44]"
           ],
           "xaxis": "x",
           "y": [
            5,
            5.2,
            9.3,
            16.9,
            19.2,
            26.2,
            26.9,
            28.6,
            34.3,
            45.8,
            87.3
           ],
           "yaxis": "y"
          },
          {
           "hovertemplate": "age=%{x}<br>year=2009<br>fertility_rate=%{y}<extra></extra>",
           "legendgroup": "[45-49]",
           "marker": {
            "color": "#FF6692",
            "symbol": "circle"
           },
           "mode": "markers",
           "name": "[45-49]",
           "orientation": "v",
           "showlegend": true,
           "type": "scatter",
           "x": [
            "[45-49]",
            "[45-49]",
            "[45-49]",
            "[45-49]",
            "[45-49]",
            "[45-49]",
            "[45-49]",
            "[45-49]",
            "[45-49]",
            "[45-49]",
            "[45-49]"
           ],
           "xaxis": "x",
           "y": [
            0.2,
            0.5,
            1.3,
            2.1,
            3,
            4.2,
            4.3,
            4.9,
            5.4,
            7.9,
            46
           ],
           "yaxis": "y"
          }
         ],
         "name": "2009"
        },
        {
         "data": [
          {
           "hovertemplate": "age=%{x}<br>year=2010<br>fertility_rate=%{y}<extra></extra>",
           "legendgroup": "[15-19]",
           "marker": {
            "color": "#636efa",
            "symbol": "circle"
           },
           "mode": "markers",
           "name": "[15-19]",
           "orientation": "v",
           "showlegend": true,
           "type": "scatter",
           "x": [
            "[15-19]",
            "[15-19]",
            "[15-19]",
            "[15-19]",
            "[15-19]",
            "[15-19]",
            "[15-19]",
            "[15-19]",
            "[15-19]",
            "[15-19]",
            "[15-19]"
           ],
           "xaxis": "x",
           "y": [
            3.1,
            13.4,
            13.9,
            19.8,
            26.2,
            36,
            37.7,
            49.2,
            56,
            58.2,
            67.5
           ],
           "yaxis": "y"
          },
          {
           "hovertemplate": "age=%{x}<br>year=2010<br>fertility_rate=%{y}<extra></extra>",
           "legendgroup": "[20-24]",
           "marker": {
            "color": "#EF553B",
            "symbol": "circle"
           },
           "mode": "markers",
           "name": "[20-24]",
           "orientation": "v",
           "showlegend": true,
           "type": "scatter",
           "x": [
            "[20-24]",
            "[20-24]",
            "[20-24]",
            "[20-24]",
            "[20-24]",
            "[20-24]",
            "[20-24]",
            "[20-24]",
            "[20-24]",
            "[20-24]",
            "[20-24]"
           ],
           "xaxis": "x",
           "y": [
            10.6,
            71.9,
            87.3,
            97.2,
            100.4,
            105.6,
            115,
            141.8,
            149.3,
            158.4,
            214.1
           ],
           "yaxis": "y"
          },
          {
           "hovertemplate": "age=%{x}<br>year=2010<br>fertility_rate=%{y}<extra></extra>",
           "legendgroup": "[25-29]",
           "marker": {
            "color": "#00cc96",
            "symbol": "circle"
           },
           "mode": "markers",
           "name": "[25-29]",
           "orientation": "v",
           "showlegend": true,
           "type": "scatter",
           "x": [
            "[25-29]",
            "[25-29]",
            "[25-29]",
            "[25-29]",
            "[25-29]",
            "[25-29]",
            "[25-29]",
            "[25-29]",
            "[25-29]",
            "[25-29]",
            "[25-29]"
           ],
           "xaxis": "x",
           "y": [
            36.5,
            69.7,
            121,
            134.5,
            135.4,
            138.6,
            161.6,
            165.5,
            173.8,
            179.3,
            269
           ],
           "yaxis": "y"
          },
          {
           "hovertemplate": "age=%{x}<br>year=2010<br>fertility_rate=%{y}<extra></extra>",
           "legendgroup": "[30-34]",
           "marker": {
            "color": "#ab63fa",
            "symbol": "circle"
           },
           "mode": "markers",
           "name": "[30-34]",
           "orientation": "v",
           "showlegend": true,
           "type": "scatter",
           "x": [
            "[30-34]",
            "[30-34]",
            "[30-34]",
            "[30-34]",
            "[30-34]",
            "[30-34]",
            "[30-34]",
            "[30-34]",
            "[30-34]",
            "[30-34]",
            "[30-34]"
           ],
           "xaxis": "x",
           "y": [
            27.7,
            61.1,
            84.8,
            102.4,
            103.1,
            117.1,
            128.4,
            135.3,
            142.8,
            146.2,
            247
           ],
           "yaxis": "y"
          },
          {
           "hovertemplate": "age=%{x}<br>year=2010<br>fertility_rate=%{y}<extra></extra>",
           "legendgroup": "[35-39]",
           "marker": {
            "color": "#FFA15A",
            "symbol": "circle"
           },
           "mode": "markers",
           "name": "[35-39]",
           "orientation": "v",
           "showlegend": true,
           "type": "scatter",
           "x": [
            "[35-39]",
            "[35-39]",
            "[35-39]",
            "[35-39]",
            "[35-39]",
            "[35-39]",
            "[35-39]",
            "[35-39]",
            "[35-39]",
            "[35-39]",
            "[35-39]"
           ],
           "xaxis": "x",
           "y": [
            15.6,
            31.2,
            33.6,
            47.7,
            52.9,
            61.9,
            75.3,
            76.8,
            77.5,
            87.9,
            190
           ],
           "yaxis": "y"
          },
          {
           "hovertemplate": "age=%{x}<br>year=2010<br>fertility_rate=%{y}<extra></extra>",
           "legendgroup": "[40-44]",
           "marker": {
            "color": "#19d3f3",
            "symbol": "circle"
           },
           "mode": "markers",
           "name": "[40-44]",
           "orientation": "v",
           "showlegend": true,
           "type": "scatter",
           "x": [
            "[40-44]",
            "[40-44]",
            "[40-44]",
            "[40-44]",
            "[40-44]",
            "[40-44]",
            "[40-44]",
            "[40-44]",
            "[40-44]",
            "[40-44]",
            "[40-44]"
           ],
           "xaxis": "x",
           "y": [
            5.3,
            5.4,
            9.9,
            16.4,
            18.9,
            25.7,
            26,
            27.7,
            32.7,
            45.1,
            85.7
           ],
           "yaxis": "y"
          },
          {
           "hovertemplate": "age=%{x}<br>year=2010<br>fertility_rate=%{y}<extra></extra>",
           "legendgroup": "[45-49]",
           "marker": {
            "color": "#FF6692",
            "symbol": "circle"
           },
           "mode": "markers",
           "name": "[45-49]",
           "orientation": "v",
           "showlegend": true,
           "type": "scatter",
           "x": [
            "[45-49]",
            "[45-49]",
            "[45-49]",
            "[45-49]",
            "[45-49]",
            "[45-49]",
            "[45-49]",
            "[45-49]",
            "[45-49]",
            "[45-49]",
            "[45-49]"
           ],
           "xaxis": "x",
           "y": [
            0.3,
            0.7,
            1.4,
            2.1,
            2.9,
            4.1,
            4.1,
            4.8,
            5.2,
            7.8,
            45
           ],
           "yaxis": "y"
          }
         ],
         "name": "2010"
        },
        {
         "data": [
          {
           "hovertemplate": "age=%{x}<br>year=2011<br>fertility_rate=%{y}<extra></extra>",
           "legendgroup": "[15-19]",
           "marker": {
            "color": "#636efa",
            "symbol": "circle"
           },
           "mode": "markers",
           "name": "[15-19]",
           "orientation": "v",
           "showlegend": true,
           "type": "scatter",
           "x": [
            "[15-19]",
            "[15-19]",
            "[15-19]",
            "[15-19]",
            "[15-19]",
            "[15-19]",
            "[15-19]",
            "[15-19]",
            "[15-19]",
            "[15-19]",
            "[15-19]"
           ],
           "xaxis": "x",
           "y": [
            3.2,
            13.3,
            13.5,
            19.4,
            24.8,
            34.7,
            36.4,
            48.3,
            54.9,
            57,
            63.9
           ],
           "yaxis": "y"
          },
          {
           "hovertemplate": "age=%{x}<br>year=2011<br>fertility_rate=%{y}<extra></extra>",
           "legendgroup": "[20-24]",
           "marker": {
            "color": "#EF553B",
            "symbol": "circle"
           },
           "mode": "markers",
           "name": "[20-24]",
           "orientation": "v",
           "showlegend": true,
           "type": "scatter",
           "x": [
            "[20-24]",
            "[20-24]",
            "[20-24]",
            "[20-24]",
            "[20-24]",
            "[20-24]",
            "[20-24]",
            "[20-24]",
            "[20-24]",
            "[20-24]",
            "[20-24]"
           ],
           "xaxis": "x",
           "y": [
            10.8,
            71.1,
            86.3,
            94.2,
            99.3,
            103.7,
            113.7,
            137.9,
            144.4,
            156.1,
            210.5
           ],
           "yaxis": "y"
          },
          {
           "hovertemplate": "age=%{x}<br>year=2011<br>fertility_rate=%{y}<extra></extra>",
           "legendgroup": "[25-29]",
           "marker": {
            "color": "#00cc96",
            "symbol": "circle"
           },
           "mode": "markers",
           "name": "[25-29]",
           "orientation": "v",
           "showlegend": true,
           "type": "scatter",
           "x": [
            "[25-29]",
            "[25-29]",
            "[25-29]",
            "[25-29]",
            "[25-29]",
            "[25-29]",
            "[25-29]",
            "[25-29]",
            "[25-29]",
            "[25-29]",
            "[25-29]"
           ],
           "xaxis": "x",
           "y": [
            37.1,
            70.9,
            120.7,
            133.8,
            133.9,
            137.8,
            159.5,
            164.3,
            172.2,
            176.6,
            265.5
           ],
           "yaxis": "y"
          },
          {
           "hovertemplate": "age=%{x}<br>year=2011<br>fertility_rate=%{y}<extra></extra>",
           "legendgroup": "[30-34]",
           "marker": {
            "color": "#ab63fa",
            "symbol": "circle"
           },
           "mode": "markers",
           "name": "[30-34]",
           "orientation": "v",
           "showlegend": true,
           "type": "scatter",
           "x": [
            "[30-34]",
            "[30-34]",
            "[30-34]",
            "[30-34]",
            "[30-34]",
            "[30-34]",
            "[30-34]",
            "[30-34]",
            "[30-34]",
            "[30-34]",
            "[30-34]"
           ],
           "xaxis": "x",
           "y": [
            29.4,
            62,
            85.8,
            102.1,
            102.5,
            116.3,
            126.8,
            134.4,
            140.8,
            144.7,
            243.5
           ],
           "yaxis": "y"
          },
          {
           "hovertemplate": "age=%{x}<br>year=2011<br>fertility_rate=%{y}<extra></extra>",
           "legendgroup": "[35-39]",
           "marker": {
            "color": "#FFA15A",
            "symbol": "circle"
           },
           "mode": "markers",
           "name": "[35-39]",
           "orientation": "v",
           "showlegend": true,
           "type": "scatter",
           "x": [
            "[35-39]",
            "[35-39]",
            "[35-39]",
            "[35-39]",
            "[35-39]",
            "[35-39]",
            "[35-39]",
            "[35-39]",
            "[35-39]",
            "[35-39]",
            "[35-39]"
           ],
           "xaxis": "x",
           "y": [
            16.1,
            31.8,
            34.1,
            46.8,
            52.2,
            60.9,
            73.4,
            74.7,
            76.3,
            86.7,
            186.4
           ],
           "yaxis": "y"
          },
          {
           "hovertemplate": "age=%{x}<br>year=2011<br>fertility_rate=%{y}<extra></extra>",
           "legendgroup": "[40-44]",
           "marker": {
            "color": "#19d3f3",
            "symbol": "circle"
           },
           "mode": "markers",
           "name": "[40-44]",
           "orientation": "v",
           "showlegend": true,
           "type": "scatter",
           "x": [
            "[40-44]",
            "[40-44]",
            "[40-44]",
            "[40-44]",
            "[40-44]",
            "[40-44]",
            "[40-44]",
            "[40-44]",
            "[40-44]",
            "[40-44]",
            "[40-44]"
           ],
           "xaxis": "x",
           "y": [
            5.5,
            5.5,
            10.2,
            16.1,
            18.6,
            25.3,
            25.5,
            26.9,
            31.7,
            44.4,
            83.9
           ],
           "yaxis": "y"
          },
          {
           "hovertemplate": "age=%{x}<br>year=2011<br>fertility_rate=%{y}<extra></extra>",
           "legendgroup": "[45-49]",
           "marker": {
            "color": "#FF6692",
            "symbol": "circle"
           },
           "mode": "markers",
           "name": "[45-49]",
           "orientation": "v",
           "showlegend": true,
           "type": "scatter",
           "x": [
            "[45-49]",
            "[45-49]",
            "[45-49]",
            "[45-49]",
            "[45-49]",
            "[45-49]",
            "[45-49]",
            "[45-49]",
            "[45-49]",
            "[45-49]",
            "[45-49]"
           ],
           "xaxis": "x",
           "y": [
            0.3,
            0.8,
            1.4,
            2.1,
            2.9,
            4,
            4,
            4.8,
            5.1,
            7.6,
            44
           ],
           "yaxis": "y"
          }
         ],
         "name": "2011"
        },
        {
         "data": [
          {
           "hovertemplate": "age=%{x}<br>year=2012<br>fertility_rate=%{y}<extra></extra>",
           "legendgroup": "[15-19]",
           "marker": {
            "color": "#636efa",
            "symbol": "circle"
           },
           "mode": "markers",
           "name": "[15-19]",
           "orientation": "v",
           "showlegend": true,
           "type": "scatter",
           "x": [
            "[15-19]",
            "[15-19]",
            "[15-19]",
            "[15-19]",
            "[15-19]",
            "[15-19]",
            "[15-19]",
            "[15-19]",
            "[15-19]",
            "[15-19]",
            "[15-19]"
           ],
           "xaxis": "x",
           "y": [
            3.2,
            13.2,
            13.2,
            19,
            23.4,
            33.4,
            35.2,
            47.3,
            53.8,
            55.8,
            60.2
           ],
           "yaxis": "y"
          },
          {
           "hovertemplate": "age=%{x}<br>year=2012<br>fertility_rate=%{y}<extra></extra>",
           "legendgroup": "[20-24]",
           "marker": {
            "color": "#EF553B",
            "symbol": "circle"
           },
           "mode": "markers",
           "name": "[20-24]",
           "orientation": "v",
           "showlegend": true,
           "type": "scatter",
           "x": [
            "[20-24]",
            "[20-24]",
            "[20-24]",
            "[20-24]",
            "[20-24]",
            "[20-24]",
            "[20-24]",
            "[20-24]",
            "[20-24]",
            "[20-24]",
            "[20-24]"
           ],
           "xaxis": "x",
           "y": [
            10.9,
            70.3,
            85.3,
            91.2,
            98.2,
            101.8,
            112.4,
            133.9,
            139.5,
            153.8,
            206.9
           ],
           "yaxis": "y"
          },
          {
           "hovertemplate": "age=%{x}<br>year=2012<br>fertility_rate=%{y}<extra></extra>",
           "legendgroup": "[25-29]",
           "marker": {
            "color": "#00cc96",
            "symbol": "circle"
           },
           "mode": "markers",
           "name": "[25-29]",
           "orientation": "v",
           "showlegend": true,
           "type": "scatter",
           "x": [
            "[25-29]",
            "[25-29]",
            "[25-29]",
            "[25-29]",
            "[25-29]",
            "[25-29]",
            "[25-29]",
            "[25-29]",
            "[25-29]",
            "[25-29]",
            "[25-29]"
           ],
           "xaxis": "x",
           "y": [
            37.6,
            72.1,
            120.5,
            132.4,
            133,
            136.9,
            157.3,
            163.2,
            170.5,
            174,
            261.9
           ],
           "yaxis": "y"
          },
          {
           "hovertemplate": "age=%{x}<br>year=2012<br>fertility_rate=%{y}<extra></extra>",
           "legendgroup": "[30-34]",
           "marker": {
            "color": "#ab63fa",
            "symbol": "circle"
           },
           "mode": "markers",
           "name": "[30-34]",
           "orientation": "v",
           "showlegend": true,
           "type": "scatter",
           "x": [
            "[30-34]",
            "[30-34]",
            "[30-34]",
            "[30-34]",
            "[30-34]",
            "[30-34]",
            "[30-34]",
            "[30-34]",
            "[30-34]",
            "[30-34]",
            "[30-34]"
           ],
           "xaxis": "x",
           "y": [
            31.1,
            62.9,
            86.8,
            101.8,
            101.9,
            115.4,
            125.1,
            133.4,
            138.9,
            143.2,
            239.9
           ],
           "yaxis": "y"
          },
          {
           "hovertemplate": "age=%{x}<br>year=2012<br>fertility_rate=%{y}<extra></extra>",
           "legendgroup": "[35-39]",
           "marker": {
            "color": "#FFA15A",
            "symbol": "circle"
           },
           "mode": "markers",
           "name": "[35-39]",
           "orientation": "v",
           "showlegend": true,
           "type": "scatter",
           "x": [
            "[35-39]",
            "[35-39]",
            "[35-39]",
            "[35-39]",
            "[35-39]",
            "[35-39]",
            "[35-39]",
            "[35-39]",
            "[35-39]",
            "[35-39]",
            "[35-39]"
           ],
           "xaxis": "x",
           "y": [
            16.7,
            32.4,
            34.6,
            46,
            51.6,
            60,
            71.6,
            72.6,
            75.1,
            85.5,
            182.8
           ],
           "yaxis": "y"
          },
          {
           "hovertemplate": "age=%{x}<br>year=2012<br>fertility_rate=%{y}<extra></extra>",
           "legendgroup": "[40-44]",
           "marker": {
            "color": "#19d3f3",
            "symbol": "circle"
           },
           "mode": "markers",
           "name": "[40-44]",
           "orientation": "v",
           "showlegend": true,
           "type": "scatter",
           "x": [
            "[40-44]",
            "[40-44]",
            "[40-44]",
            "[40-44]",
            "[40-44]",
            "[40-44]",
            "[40-44]",
            "[40-44]",
            "[40-44]",
            "[40-44]",
            "[40-44]"
           ],
           "xaxis": "x",
           "y": [
            5.6,
            5.7,
            10.4,
            15.8,
            18.3,
            24.9,
            25,
            26,
            30.7,
            43.6,
            82.2
           ],
           "yaxis": "y"
          },
          {
           "hovertemplate": "age=%{x}<br>year=2012<br>fertility_rate=%{y}<extra></extra>",
           "legendgroup": "[45-49]",
           "marker": {
            "color": "#FF6692",
            "symbol": "circle"
           },
           "mode": "markers",
           "name": "[45-49]",
           "orientation": "v",
           "showlegend": true,
           "type": "scatter",
           "x": [
            "[45-49]",
            "[45-49]",
            "[45-49]",
            "[45-49]",
            "[45-49]",
            "[45-49]",
            "[45-49]",
            "[45-49]",
            "[45-49]",
            "[45-49]",
            "[45-49]"
           ],
           "xaxis": "x",
           "y": [
            0.3,
            0.9,
            1.5,
            2.1,
            2.9,
            3.9,
            3.9,
            4.7,
            4.9,
            7.5,
            43
           ],
           "yaxis": "y"
          }
         ],
         "name": "2012"
        },
        {
         "data": [
          {
           "hovertemplate": "age=%{x}<br>year=2013<br>fertility_rate=%{y}<extra></extra>",
           "legendgroup": "[15-19]",
           "marker": {
            "color": "#636efa",
            "symbol": "circle"
           },
           "mode": "markers",
           "name": "[15-19]",
           "orientation": "v",
           "showlegend": true,
           "type": "scatter",
           "x": [
            "[15-19]",
            "[15-19]",
            "[15-19]",
            "[15-19]",
            "[15-19]",
            "[15-19]",
            "[15-19]",
            "[15-19]",
            "[15-19]",
            "[15-19]",
            "[15-19]"
           ],
           "xaxis": "x",
           "y": [
            3.3,
            12.8,
            13.1,
            18.6,
            21.9,
            32.1,
            33.9,
            46.3,
            52.7,
            54.6,
            56.5
           ],
           "yaxis": "y"
          },
          {
           "hovertemplate": "age=%{x}<br>year=2013<br>fertility_rate=%{y}<extra></extra>",
           "legendgroup": "[20-24]",
           "marker": {
            "color": "#EF553B",
            "symbol": "circle"
           },
           "mode": "markers",
           "name": "[20-24]",
           "orientation": "v",
           "showlegend": true,
           "type": "scatter",
           "x": [
            "[20-24]",
            "[20-24]",
            "[20-24]",
            "[20-24]",
            "[20-24]",
            "[20-24]",
            "[20-24]",
            "[20-24]",
            "[20-24]",
            "[20-24]",
            "[20-24]"
           ],
           "xaxis": "x",
           "y": [
            11.1,
            69.5,
            84.3,
            88.3,
            97,
            99.8,
            111.1,
            130,
            134.5,
            151.5,
            202.9
           ],
           "yaxis": "y"
          },
          {
           "hovertemplate": "age=%{x}<br>year=2013<br>fertility_rate=%{y}<extra></extra>",
           "legendgroup": "[25-29]",
           "marker": {
            "color": "#00cc96",
            "symbol": "circle"
           },
           "mode": "markers",
           "name": "[25-29]",
           "orientation": "v",
           "showlegend": true,
           "type": "scatter",
           "x": [
            "[25-29]",
            "[25-29]",
            "[25-29]",
            "[25-29]",
            "[25-29]",
            "[25-29]",
            "[25-29]",
            "[25-29]",
            "[25-29]",
            "[25-29]",
            "[25-29]"
           ],
           "xaxis": "x",
           "y": [
            38.2,
            73.3,
            120.2,
            130.9,
            132.3,
            136.1,
            155.1,
            162,
            168.8,
            171.3,
            257.9
           ],
           "yaxis": "y"
          },
          {
           "hovertemplate": "age=%{x}<br>year=2013<br>fertility_rate=%{y}<extra></extra>",
           "legendgroup": "[30-34]",
           "marker": {
            "color": "#ab63fa",
            "symbol": "circle"
           },
           "mode": "markers",
           "name": "[30-34]",
           "orientation": "v",
           "showlegend": true,
           "type": "scatter",
           "x": [
            "[30-34]",
            "[30-34]",
            "[30-34]",
            "[30-34]",
            "[30-34]",
            "[30-34]",
            "[30-34]",
            "[30-34]",
            "[30-34]",
            "[30-34]",
            "[30-34]"
           ],
           "xaxis": "x",
           "y": [
            32.8,
            63.8,
            87.7,
            101.2,
            101.5,
            114.5,
            123.5,
            132.5,
            136.9,
            141.7,
            235.9
           ],
           "yaxis": "y"
          },
          {
           "hovertemplate": "age=%{x}<br>year=2013<br>fertility_rate=%{y}<extra></extra>",
           "legendgroup": "[35-39]",
           "marker": {
            "color": "#FFA15A",
            "symbol": "circle"
           },
           "mode": "markers",
           "name": "[35-39]",
           "orientation": "v",
           "showlegend": true,
           "type": "scatter",
           "x": [
            "[35-39]",
            "[35-39]",
            "[35-39]",
            "[35-39]",
            "[35-39]",
            "[35-39]",
            "[35-39]",
            "[35-39]",
            "[35-39]",
            "[35-39]",
            "[35-39]"
           ],
           "xaxis": "x",
           "y": [
            17.2,
            32.9,
            35.1,
            45.1,
            50.9,
            59,
            69.7,
            70.5,
            73.9,
            84.3,
            178.8
           ],
           "yaxis": "y"
          },
          {
           "hovertemplate": "age=%{x}<br>year=2013<br>fertility_rate=%{y}<extra></extra>",
           "legendgroup": "[40-44]",
           "marker": {
            "color": "#19d3f3",
            "symbol": "circle"
           },
           "mode": "markers",
           "name": "[40-44]",
           "orientation": "v",
           "showlegend": true,
           "type": "scatter",
           "x": [
            "[40-44]",
            "[40-44]",
            "[40-44]",
            "[40-44]",
            "[40-44]",
            "[40-44]",
            "[40-44]",
            "[40-44]",
            "[40-44]",
            "[40-44]",
            "[40-44]"
           ],
           "xaxis": "x",
           "y": [
            5.6,
            5.9,
            10.7,
            15.5,
            18.1,
            24.4,
            24.5,
            25.2,
            29.8,
            42.8,
            80.3
           ],
           "yaxis": "y"
          },
          {
           "hovertemplate": "age=%{x}<br>year=2013<br>fertility_rate=%{y}<extra></extra>",
           "legendgroup": "[45-49]",
           "marker": {
            "color": "#FF6692",
            "symbol": "circle"
           },
           "mode": "markers",
           "name": "[45-49]",
           "orientation": "v",
           "showlegend": true,
           "type": "scatter",
           "x": [
            "[45-49]",
            "[45-49]",
            "[45-49]",
            "[45-49]",
            "[45-49]",
            "[45-49]",
            "[45-49]",
            "[45-49]",
            "[45-49]",
            "[45-49]",
            "[45-49]"
           ],
           "xaxis": "x",
           "y": [
            0.3,
            1,
            1.5,
            2,
            2.9,
            3.8,
            3.8,
            4.6,
            4.8,
            7.3,
            41.8
           ],
           "yaxis": "y"
          }
         ],
         "name": "2013"
        },
        {
         "data": [
          {
           "hovertemplate": "age=%{x}<br>year=2014<br>fertility_rate=%{y}<extra></extra>",
           "legendgroup": "[15-19]",
           "marker": {
            "color": "#636efa",
            "symbol": "circle"
           },
           "mode": "markers",
           "name": "[15-19]",
           "orientation": "v",
           "showlegend": true,
           "type": "scatter",
           "x": [
            "[15-19]",
            "[15-19]",
            "[15-19]",
            "[15-19]",
            "[15-19]",
            "[15-19]",
            "[15-19]",
            "[15-19]",
            "[15-19]",
            "[15-19]",
            "[15-19]"
           ],
           "xaxis": "x",
           "y": [
            3.3,
            12.5,
            13,
            18.2,
            20.5,
            30.8,
            32.7,
            45.2,
            51.6,
            52.9,
            53.4
           ],
           "yaxis": "y"
          },
          {
           "hovertemplate": "age=%{x}<br>year=2014<br>fertility_rate=%{y}<extra></extra>",
           "legendgroup": "[20-24]",
           "marker": {
            "color": "#EF553B",
            "symbol": "circle"
           },
           "mode": "markers",
           "name": "[20-24]",
           "orientation": "v",
           "showlegend": true,
           "type": "scatter",
           "x": [
            "[20-24]",
            "[20-24]",
            "[20-24]",
            "[20-24]",
            "[20-24]",
            "[20-24]",
            "[20-24]",
            "[20-24]",
            "[20-24]",
            "[20-24]",
            "[20-24]"
           ],
           "xaxis": "x",
           "y": [
            11.2,
            68.7,
            83.3,
            85.3,
            95.9,
            97.9,
            109.8,
            126.1,
            129.6,
            149.2,
            198.5
           ],
           "yaxis": "y"
          },
          {
           "hovertemplate": "age=%{x}<br>year=2014<br>fertility_rate=%{y}<extra></extra>",
           "legendgroup": "[25-29]",
           "marker": {
            "color": "#00cc96",
            "symbol": "circle"
           },
           "mode": "markers",
           "name": "[25-29]",
           "orientation": "v",
           "showlegend": true,
           "type": "scatter",
           "x": [
            "[25-29]",
            "[25-29]",
            "[25-29]",
            "[25-29]",
            "[25-29]",
            "[25-29]",
            "[25-29]",
            "[25-29]",
            "[25-29]",
            "[25-29]",
            "[25-29]"
           ],
           "xaxis": "x",
           "y": [
            38.7,
            74.5,
            119.9,
            129.4,
            131.5,
            135.2,
            152.9,
            160.9,
            167.1,
            168.7,
            253.6
           ],
           "yaxis": "y"
          },
          {
           "hovertemplate": "age=%{x}<br>year=2014<br>fertility_rate=%{y}<extra></extra>",
           "legendgroup": "[30-34]",
           "marker": {
            "color": "#ab63fa",
            "symbol": "circle"
           },
           "mode": "markers",
           "name": "[30-34]",
           "orientation": "v",
           "showlegend": true,
           "type": "scatter",
           "x": [
            "[30-34]",
            "[30-34]",
            "[30-34]",
            "[30-34]",
            "[30-34]",
            "[30-34]",
            "[30-34]",
            "[30-34]",
            "[30-34]",
            "[30-34]",
            "[30-34]"
           ],
           "xaxis": "x",
           "y": [
            34.5,
            64.7,
            88.7,
            100.6,
            101.2,
            113.6,
            121.9,
            131.5,
            134.9,
            140.2,
            231.5
           ],
           "yaxis": "y"
          },
          {
           "hovertemplate": "age=%{x}<br>year=2014<br>fertility_rate=%{y}<extra></extra>",
           "legendgroup": "[35-39]",
           "marker": {
            "color": "#FFA15A",
            "symbol": "circle"
           },
           "mode": "markers",
           "name": "[35-39]",
           "orientation": "v",
           "showlegend": true,
           "type": "scatter",
           "x": [
            "[35-39]",
            "[35-39]",
            "[35-39]",
            "[35-39]",
            "[35-39]",
            "[35-39]",
            "[35-39]",
            "[35-39]",
            "[35-39]",
            "[35-39]",
            "[35-39]"
           ],
           "xaxis": "x",
           "y": [
            17.8,
            33.5,
            35.6,
            44.2,
            50.2,
            58,
            67.8,
            68.4,
            72.7,
            83.1,
            174.4
           ],
           "yaxis": "y"
          },
          {
           "hovertemplate": "age=%{x}<br>year=2014<br>fertility_rate=%{y}<extra></extra>",
           "legendgroup": "[40-44]",
           "marker": {
            "color": "#19d3f3",
            "symbol": "circle"
           },
           "mode": "markers",
           "name": "[40-44]",
           "orientation": "v",
           "showlegend": true,
           "type": "scatter",
           "x": [
            "[40-44]",
            "[40-44]",
            "[40-44]",
            "[40-44]",
            "[40-44]",
            "[40-44]",
            "[40-44]",
            "[40-44]",
            "[40-44]",
            "[40-44]",
            "[40-44]"
           ],
           "xaxis": "x",
           "y": [
            5.7,
            6.1,
            11,
            15.2,
            17.8,
            23.9,
            24.2,
            24.4,
            28.8,
            42,
            78.2
           ],
           "yaxis": "y"
          },
          {
           "hovertemplate": "age=%{x}<br>year=2014<br>fertility_rate=%{y}<extra></extra>",
           "legendgroup": "[45-49]",
           "marker": {
            "color": "#FF6692",
            "symbol": "circle"
           },
           "mode": "markers",
           "name": "[45-49]",
           "orientation": "v",
           "showlegend": true,
           "type": "scatter",
           "x": [
            "[45-49]",
            "[45-49]",
            "[45-49]",
            "[45-49]",
            "[45-49]",
            "[45-49]",
            "[45-49]",
            "[45-49]",
            "[45-49]",
            "[45-49]",
            "[45-49]"
           ],
           "xaxis": "x",
           "y": [
            0.3,
            1.1,
            1.6,
            2,
            2.8,
            3.7,
            3.7,
            4.5,
            4.7,
            7.2,
            40.6
           ],
           "yaxis": "y"
          }
         ],
         "name": "2014"
        },
        {
         "data": [
          {
           "hovertemplate": "age=%{x}<br>year=2015<br>fertility_rate=%{y}<extra></extra>",
           "legendgroup": "[15-19]",
           "marker": {
            "color": "#636efa",
            "symbol": "circle"
           },
           "mode": "markers",
           "name": "[15-19]",
           "orientation": "v",
           "showlegend": true,
           "type": "scatter",
           "x": [
            "[15-19]",
            "[15-19]",
            "[15-19]",
            "[15-19]",
            "[15-19]",
            "[15-19]",
            "[15-19]",
            "[15-19]",
            "[15-19]",
            "[15-19]",
            "[15-19]"
           ],
           "xaxis": "x",
           "y": [
            3.4,
            12.2,
            12.9,
            17.8,
            19.1,
            29.5,
            31.5,
            44.1,
            49.2,
            50.5,
            52.2
           ],
           "yaxis": "y"
          },
          {
           "hovertemplate": "age=%{x}<br>year=2015<br>fertility_rate=%{y}<extra></extra>",
           "legendgroup": "[20-24]",
           "marker": {
            "color": "#EF553B",
            "symbol": "circle"
           },
           "mode": "markers",
           "name": "[20-24]",
           "orientation": "v",
           "showlegend": true,
           "type": "scatter",
           "x": [
            "[20-24]",
            "[20-24]",
            "[20-24]",
            "[20-24]",
            "[20-24]",
            "[20-24]",
            "[20-24]",
            "[20-24]",
            "[20-24]",
            "[20-24]",
            "[20-24]"
           ],
           "xaxis": "x",
           "y": [
            11.4,
            67.9,
            82.3,
            82.3,
            94.8,
            96,
            108.5,
            122.1,
            124.7,
            146.9,
            194.6
           ],
           "yaxis": "y"
          },
          {
           "hovertemplate": "age=%{x}<br>year=2015<br>fertility_rate=%{y}<extra></extra>",
           "legendgroup": "[25-29]",
           "marker": {
            "color": "#00cc96",
            "symbol": "circle"
           },
           "mode": "markers",
           "name": "[25-29]",
           "orientation": "v",
           "showlegend": true,
           "type": "scatter",
           "x": [
            "[25-29]",
            "[25-29]",
            "[25-29]",
            "[25-29]",
            "[25-29]",
            "[25-29]",
            "[25-29]",
            "[25-29]",
            "[25-29]",
            "[25-29]",
            "[25-29]"
           ],
           "xaxis": "x",
           "y": [
            39.3,
            75.7,
            119.7,
            127.8,
            130.8,
            134.4,
            150.7,
            159.8,
            165.5,
            166,
            249.6
           ],
           "yaxis": "y"
          },
          {
           "hovertemplate": "age=%{x}<br>year=2015<br>fertility_rate=%{y}<extra></extra>",
           "legendgroup": "[30-34]",
           "marker": {
            "color": "#ab63fa",
            "symbol": "circle"
           },
           "mode": "markers",
           "name": "[30-34]",
           "orientation": "v",
           "showlegend": true,
           "type": "scatter",
           "x": [
            "[30-34]",
            "[30-34]",
            "[30-34]",
            "[30-34]",
            "[30-34]",
            "[30-34]",
            "[30-34]",
            "[30-34]",
            "[30-34]",
            "[30-34]",
            "[30-34]"
           ],
           "xaxis": "x",
           "y": [
            36.2,
            65.6,
            89.7,
            100,
            101,
            112.8,
            120.3,
            130.6,
            133,
            138.7,
            227.6
           ],
           "yaxis": "y"
          },
          {
           "hovertemplate": "age=%{x}<br>year=2015<br>fertility_rate=%{y}<extra></extra>",
           "legendgroup": "[35-39]",
           "marker": {
            "color": "#FFA15A",
            "symbol": "circle"
           },
           "mode": "markers",
           "name": "[35-39]",
           "orientation": "v",
           "showlegend": true,
           "type": "scatter",
           "x": [
            "[35-39]",
            "[35-39]",
            "[35-39]",
            "[35-39]",
            "[35-39]",
            "[35-39]",
            "[35-39]",
            "[35-39]",
            "[35-39]",
            "[35-39]",
            "[35-39]"
           ],
           "xaxis": "x",
           "y": [
            18.4,
            34.1,
            36.1,
            43.4,
            49.6,
            57,
            66,
            66.3,
            71.6,
            81.9,
            170.4
           ],
           "yaxis": "y"
          },
          {
           "hovertemplate": "age=%{x}<br>year=2015<br>fertility_rate=%{y}<extra></extra>",
           "legendgroup": "[40-44]",
           "marker": {
            "color": "#19d3f3",
            "symbol": "circle"
           },
           "mode": "markers",
           "name": "[40-44]",
           "orientation": "v",
           "showlegend": true,
           "type": "scatter",
           "x": [
            "[40-44]",
            "[40-44]",
            "[40-44]",
            "[40-44]",
            "[40-44]",
            "[40-44]",
            "[40-44]",
            "[40-44]",
            "[40-44]",
            "[40-44]",
            "[40-44]"
           ],
           "xaxis": "x",
           "y": [
            5.8,
            6.3,
            11.2,
            14.9,
            17.5,
            23.3,
            23.6,
            23.8,
            27.8,
            41.3,
            76.3
           ],
           "yaxis": "y"
          },
          {
           "hovertemplate": "age=%{x}<br>year=2015<br>fertility_rate=%{y}<extra></extra>",
           "legendgroup": "[45-49]",
           "marker": {
            "color": "#FF6692",
            "symbol": "circle"
           },
           "mode": "markers",
           "name": "[45-49]",
           "orientation": "v",
           "showlegend": true,
           "type": "scatter",
           "x": [
            "[45-49]",
            "[45-49]",
            "[45-49]",
            "[45-49]",
            "[45-49]",
            "[45-49]",
            "[45-49]",
            "[45-49]",
            "[45-49]",
            "[45-49]",
            "[45-49]"
           ],
           "xaxis": "x",
           "y": [
            0.3,
            1.2,
            1.6,
            2,
            2.8,
            3.6,
            3.7,
            4.5,
            4.5,
            7.1,
            39.5
           ],
           "yaxis": "y"
          }
         ],
         "name": "2015"
        },
        {
         "data": [
          {
           "hovertemplate": "age=%{x}<br>year=2016<br>fertility_rate=%{y}<extra></extra>",
           "legendgroup": "[15-19]",
           "marker": {
            "color": "#636efa",
            "symbol": "circle"
           },
           "mode": "markers",
           "name": "[15-19]",
           "orientation": "v",
           "showlegend": true,
           "type": "scatter",
           "x": [
            "[15-19]",
            "[15-19]",
            "[15-19]",
            "[15-19]",
            "[15-19]",
            "[15-19]",
            "[15-19]",
            "[15-19]",
            "[15-19]",
            "[15-19]",
            "[15-19]"
           ],
           "xaxis": "x",
           "y": [
            3.4,
            11.9,
            12.8,
            17.5,
            18.3,
            28.6,
            30.4,
            43,
            46.6,
            49.5,
            50.9
           ],
           "yaxis": "y"
          },
          {
           "hovertemplate": "age=%{x}<br>year=2016<br>fertility_rate=%{y}<extra></extra>",
           "legendgroup": "[20-24]",
           "marker": {
            "color": "#EF553B",
            "symbol": "circle"
           },
           "mode": "markers",
           "name": "[20-24]",
           "orientation": "v",
           "showlegend": true,
           "type": "scatter",
           "x": [
            "[20-24]",
            "[20-24]",
            "[20-24]",
            "[20-24]",
            "[20-24]",
            "[20-24]",
            "[20-24]",
            "[20-24]",
            "[20-24]",
            "[20-24]",
            "[20-24]"
           ],
           "xaxis": "x",
           "y": [
            11.6,
            67.4,
            80.5,
            81.7,
            93.9,
            94.4,
            107.2,
            119.4,
            121.1,
            144.9,
            190.2
           ],
           "yaxis": "y"
          },
          {
           "hovertemplate": "age=%{x}<br>year=2016<br>fertility_rate=%{y}<extra></extra>",
           "legendgroup": "[25-29]",
           "marker": {
            "color": "#00cc96",
            "symbol": "circle"
           },
           "mode": "markers",
           "name": "[25-29]",
           "orientation": "v",
           "showlegend": true,
           "type": "scatter",
           "x": [
            "[25-29]",
            "[25-29]",
            "[25-29]",
            "[25-29]",
            "[25-29]",
            "[25-29]",
            "[25-29]",
            "[25-29]",
            "[25-29]",
            "[25-29]",
            "[25-29]"
           ],
           "xaxis": "x",
           "y": [
            39.8,
            77,
            119.5,
            126.9,
            130.2,
            133.9,
            149.2,
            158.7,
            164.1,
            164.1,
            245.2
           ],
           "yaxis": "y"
          },
          {
           "hovertemplate": "age=%{x}<br>year=2016<br>fertility_rate=%{y}<extra></extra>",
           "legendgroup": "[30-34]",
           "marker": {
            "color": "#ab63fa",
            "symbol": "circle"
           },
           "mode": "markers",
           "name": "[30-34]",
           "orientation": "v",
           "showlegend": true,
           "type": "scatter",
           "x": [
            "[30-34]",
            "[30-34]",
            "[30-34]",
            "[30-34]",
            "[30-34]",
            "[30-34]",
            "[30-34]",
            "[30-34]",
            "[30-34]",
            "[30-34]",
            "[30-34]"
           ],
           "xaxis": "x",
           "y": [
            37.9,
            66.5,
            90.3,
            99.6,
            100.7,
            112.3,
            119.1,
            129.7,
            131.6,
            137.5,
            223.2
           ],
           "yaxis": "y"
          },
          {
           "hovertemplate": "age=%{x}<br>year=2016<br>fertility_rate=%{y}<extra></extra>",
           "legendgroup": "[35-39]",
           "marker": {
            "color": "#FFA15A",
            "symbol": "circle"
           },
           "mode": "markers",
           "name": "[35-39]",
           "orientation": "v",
           "showlegend": true,
           "type": "scatter",
           "x": [
            "[35-39]",
            "[35-39]",
            "[35-39]",
            "[35-39]",
            "[35-39]",
            "[35-39]",
            "[35-39]",
            "[35-39]",
            "[35-39]",
            "[35-39]",
            "[35-39]"
           ],
           "xaxis": "x",
           "y": [
            18.9,
            34.5,
            36.6,
            42.8,
            49,
            56.4,
            64.7,
            64.8,
            70.6,
            80.8,
            166
           ],
           "yaxis": "y"
          },
          {
           "hovertemplate": "age=%{x}<br>year=2016<br>fertility_rate=%{y}<extra></extra>",
           "legendgroup": "[40-44]",
           "marker": {
            "color": "#19d3f3",
            "symbol": "circle"
           },
           "mode": "markers",
           "name": "[40-44]",
           "orientation": "v",
           "showlegend": true,
           "type": "scatter",
           "x": [
            "[40-44]",
            "[40-44]",
            "[40-44]",
            "[40-44]",
            "[40-44]",
            "[40-44]",
            "[40-44]",
            "[40-44]",
            "[40-44]",
            "[40-44]",
            "[40-44]"
           ],
           "xaxis": "x",
           "y": [
            5.9,
            6.5,
            11.4,
            14.7,
            17.3,
            23,
            23,
            23.5,
            27.1,
            40.6,
            74.2
           ],
           "yaxis": "y"
          },
          {
           "hovertemplate": "age=%{x}<br>year=2016<br>fertility_rate=%{y}<extra></extra>",
           "legendgroup": "[45-49]",
           "marker": {
            "color": "#FF6692",
            "symbol": "circle"
           },
           "mode": "markers",
           "name": "[45-49]",
           "orientation": "v",
           "showlegend": true,
           "type": "scatter",
           "x": [
            "[45-49]",
            "[45-49]",
            "[45-49]",
            "[45-49]",
            "[45-49]",
            "[45-49]",
            "[45-49]",
            "[45-49]",
            "[45-49]",
            "[45-49]",
            "[45-49]"
           ],
           "xaxis": "x",
           "y": [
            0.3,
            1.3,
            1.7,
            2,
            2.8,
            3.5,
            3.6,
            4.4,
            4.5,
            6.9,
            38.2
           ],
           "yaxis": "y"
          }
         ],
         "name": "2016"
        },
        {
         "data": [
          {
           "hovertemplate": "age=%{x}<br>year=2017<br>fertility_rate=%{y}<extra></extra>",
           "legendgroup": "[15-19]",
           "marker": {
            "color": "#636efa",
            "symbol": "circle"
           },
           "mode": "markers",
           "name": "[15-19]",
           "orientation": "v",
           "showlegend": true,
           "type": "scatter",
           "x": [
            "[15-19]",
            "[15-19]",
            "[15-19]",
            "[15-19]",
            "[15-19]",
            "[15-19]",
            "[15-19]",
            "[15-19]",
            "[15-19]",
            "[15-19]",
            "[15-19]"
           ],
           "xaxis": "x",
           "y": [
            3.4,
            11.7,
            12.8,
            17.3,
            17.4,
            27.7,
            29.4,
            41.9,
            43.9,
            48.5,
            49.7
           ],
           "yaxis": "y"
          },
          {
           "hovertemplate": "age=%{x}<br>year=2017<br>fertility_rate=%{y}<extra></extra>",
           "legendgroup": "[20-24]",
           "marker": {
            "color": "#EF553B",
            "symbol": "circle"
           },
           "mode": "markers",
           "name": "[20-24]",
           "orientation": "v",
           "showlegend": true,
           "type": "scatter",
           "x": [
            "[20-24]",
            "[20-24]",
            "[20-24]",
            "[20-24]",
            "[20-24]",
            "[20-24]",
            "[20-24]",
            "[20-24]",
            "[20-24]",
            "[20-24]",
            "[20-24]"
           ],
           "xaxis": "x",
           "y": [
            11.7,
            66.9,
            78.8,
            81.1,
            92.8,
            93,
            105.9,
            116.6,
            117.5,
            142.8,
            185.8
           ],
           "yaxis": "y"
          },
          {
           "hovertemplate": "age=%{x}<br>year=2017<br>fertility_rate=%{y}<extra></extra>",
           "legendgroup": "[25-29]",
           "marker": {
            "color": "#00cc96",
            "symbol": "circle"
           },
           "mode": "markers",
           "name": "[25-29]",
           "orientation": "v",
           "showlegend": true,
           "type": "scatter",
           "x": [
            "[25-29]",
            "[25-29]",
            "[25-29]",
            "[25-29]",
            "[25-29]",
            "[25-29]",
            "[25-29]",
            "[25-29]",
            "[25-29]",
            "[25-29]",
            "[25-29]"
           ],
           "xaxis": "x",
           "y": [
            40.3,
            78.2,
            119.3,
            126,
            129.5,
            133.4,
            147.7,
            157.7,
            162.2,
            162.8,
            240.8
           ],
           "yaxis": "y"
          },
          {
           "hovertemplate": "age=%{x}<br>year=2017<br>fertility_rate=%{y}<extra></extra>",
           "legendgroup": "[30-34]",
           "marker": {
            "color": "#ab63fa",
            "symbol": "circle"
           },
           "mode": "markers",
           "name": "[30-34]",
           "orientation": "v",
           "showlegend": true,
           "type": "scatter",
           "x": [
            "[30-34]",
            "[30-34]",
            "[30-34]",
            "[30-34]",
            "[30-34]",
            "[30-34]",
            "[30-34]",
            "[30-34]",
            "[30-34]",
            "[30-34]",
            "[30-34]"
           ],
           "xaxis": "x",
           "y": [
            39.6,
            67.4,
            90.8,
            99.2,
            100.5,
            111.7,
            118,
            128.9,
            130.2,
            136.3,
            218.8
           ],
           "yaxis": "y"
          },
          {
           "hovertemplate": "age=%{x}<br>year=2017<br>fertility_rate=%{y}<extra></extra>",
           "legendgroup": "[35-39]",
           "marker": {
            "color": "#FFA15A",
            "symbol": "circle"
           },
           "mode": "markers",
           "name": "[35-39]",
           "orientation": "v",
           "showlegend": true,
           "type": "scatter",
           "x": [
            "[35-39]",
            "[35-39]",
            "[35-39]",
            "[35-39]",
            "[35-39]",
            "[35-39]",
            "[35-39]",
            "[35-39]",
            "[35-39]",
            "[35-39]",
            "[35-39]"
           ],
           "xaxis": "x",
           "y": [
            19.5,
            34.8,
            37.1,
            42.3,
            48.4,
            55.8,
            63.2,
            63.4,
            69.7,
            79.7,
            161.6
           ],
           "yaxis": "y"
          },
          {
           "hovertemplate": "age=%{x}<br>year=2017<br>fertility_rate=%{y}<extra></extra>",
           "legendgroup": "[40-44]",
           "marker": {
            "color": "#19d3f3",
            "symbol": "circle"
           },
           "mode": "markers",
           "name": "[40-44]",
           "orientation": "v",
           "showlegend": true,
           "type": "scatter",
           "x": [
            "[40-44]",
            "[40-44]",
            "[40-44]",
            "[40-44]",
            "[40-44]",
            "[40-44]",
            "[40-44]",
            "[40-44]",
            "[40-44]",
            "[40-44]",
            "[40-44]"
           ],
           "xaxis": "x",
           "y": [
            6,
            6.6,
            11.6,
            14.5,
            17.1,
            22.4,
            22.7,
            23.2,
            26.4,
            39.9,
            72.1
           ],
           "yaxis": "y"
          },
          {
           "hovertemplate": "age=%{x}<br>year=2017<br>fertility_rate=%{y}<extra></extra>",
           "legendgroup": "[45-49]",
           "marker": {
            "color": "#FF6692",
            "symbol": "circle"
           },
           "mode": "markers",
           "name": "[45-49]",
           "orientation": "v",
           "showlegend": true,
           "type": "scatter",
           "x": [
            "[45-49]",
            "[45-49]",
            "[45-49]",
            "[45-49]",
            "[45-49]",
            "[45-49]",
            "[45-49]",
            "[45-49]",
            "[45-49]",
            "[45-49]",
            "[45-49]"
           ],
           "xaxis": "x",
           "y": [
            0.3,
            1.4,
            1.7,
            2,
            2.8,
            3.4,
            3.5,
            4.3,
            4.4,
            6.8,
            37
           ],
           "yaxis": "y"
          }
         ],
         "name": "2017"
        }
       ],
       "layout": {
        "legend": {
         "title": {
          "text": "age"
         },
         "tracegroupgap": 0
        },
        "margin": {
         "t": 60
        },
        "sliders": [
         {
          "active": 0,
          "currentvalue": {
           "prefix": "year="
          },
          "len": 0.9,
          "pad": {
           "b": 10,
           "t": 60
          },
          "steps": [
           {
            "args": [
             [
              "1997"
             ],
             {
              "frame": {
               "duration": 0,
               "redraw": false
              },
              "fromcurrent": true,
              "mode": "immediate",
              "transition": {
               "duration": 0,
               "easing": "linear"
              }
             }
            ],
            "label": "1997",
            "method": "animate"
           },
           {
            "args": [
             [
              "1998"
             ],
             {
              "frame": {
               "duration": 0,
               "redraw": false
              },
              "fromcurrent": true,
              "mode": "immediate",
              "transition": {
               "duration": 0,
               "easing": "linear"
              }
             }
            ],
            "label": "1998",
            "method": "animate"
           },
           {
            "args": [
             [
              "1999"
             ],
             {
              "frame": {
               "duration": 0,
               "redraw": false
              },
              "fromcurrent": true,
              "mode": "immediate",
              "transition": {
               "duration": 0,
               "easing": "linear"
              }
             }
            ],
            "label": "1999",
            "method": "animate"
           },
           {
            "args": [
             [
              "2000"
             ],
             {
              "frame": {
               "duration": 0,
               "redraw": false
              },
              "fromcurrent": true,
              "mode": "immediate",
              "transition": {
               "duration": 0,
               "easing": "linear"
              }
             }
            ],
            "label": "2000",
            "method": "animate"
           },
           {
            "args": [
             [
              "2001"
             ],
             {
              "frame": {
               "duration": 0,
               "redraw": false
              },
              "fromcurrent": true,
              "mode": "immediate",
              "transition": {
               "duration": 0,
               "easing": "linear"
              }
             }
            ],
            "label": "2001",
            "method": "animate"
           },
           {
            "args": [
             [
              "2002"
             ],
             {
              "frame": {
               "duration": 0,
               "redraw": false
              },
              "fromcurrent": true,
              "mode": "immediate",
              "transition": {
               "duration": 0,
               "easing": "linear"
              }
             }
            ],
            "label": "2002",
            "method": "animate"
           },
           {
            "args": [
             [
              "2003"
             ],
             {
              "frame": {
               "duration": 0,
               "redraw": false
              },
              "fromcurrent": true,
              "mode": "immediate",
              "transition": {
               "duration": 0,
               "easing": "linear"
              }
             }
            ],
            "label": "2003",
            "method": "animate"
           },
           {
            "args": [
             [
              "2004"
             ],
             {
              "frame": {
               "duration": 0,
               "redraw": false
              },
              "fromcurrent": true,
              "mode": "immediate",
              "transition": {
               "duration": 0,
               "easing": "linear"
              }
             }
            ],
            "label": "2004",
            "method": "animate"
           },
           {
            "args": [
             [
              "2005"
             ],
             {
              "frame": {
               "duration": 0,
               "redraw": false
              },
              "fromcurrent": true,
              "mode": "immediate",
              "transition": {
               "duration": 0,
               "easing": "linear"
              }
             }
            ],
            "label": "2005",
            "method": "animate"
           },
           {
            "args": [
             [
              "2006"
             ],
             {
              "frame": {
               "duration": 0,
               "redraw": false
              },
              "fromcurrent": true,
              "mode": "immediate",
              "transition": {
               "duration": 0,
               "easing": "linear"
              }
             }
            ],
            "label": "2006",
            "method": "animate"
           },
           {
            "args": [
             [
              "2007"
             ],
             {
              "frame": {
               "duration": 0,
               "redraw": false
              },
              "fromcurrent": true,
              "mode": "immediate",
              "transition": {
               "duration": 0,
               "easing": "linear"
              }
             }
            ],
            "label": "2007",
            "method": "animate"
           },
           {
            "args": [
             [
              "2008"
             ],
             {
              "frame": {
               "duration": 0,
               "redraw": false
              },
              "fromcurrent": true,
              "mode": "immediate",
              "transition": {
               "duration": 0,
               "easing": "linear"
              }
             }
            ],
            "label": "2008",
            "method": "animate"
           },
           {
            "args": [
             [
              "2009"
             ],
             {
              "frame": {
               "duration": 0,
               "redraw": false
              },
              "fromcurrent": true,
              "mode": "immediate",
              "transition": {
               "duration": 0,
               "easing": "linear"
              }
             }
            ],
            "label": "2009",
            "method": "animate"
           },
           {
            "args": [
             [
              "2010"
             ],
             {
              "frame": {
               "duration": 0,
               "redraw": false
              },
              "fromcurrent": true,
              "mode": "immediate",
              "transition": {
               "duration": 0,
               "easing": "linear"
              }
             }
            ],
            "label": "2010",
            "method": "animate"
           },
           {
            "args": [
             [
              "2011"
             ],
             {
              "frame": {
               "duration": 0,
               "redraw": false
              },
              "fromcurrent": true,
              "mode": "immediate",
              "transition": {
               "duration": 0,
               "easing": "linear"
              }
             }
            ],
            "label": "2011",
            "method": "animate"
           },
           {
            "args": [
             [
              "2012"
             ],
             {
              "frame": {
               "duration": 0,
               "redraw": false
              },
              "fromcurrent": true,
              "mode": "immediate",
              "transition": {
               "duration": 0,
               "easing": "linear"
              }
             }
            ],
            "label": "2012",
            "method": "animate"
           },
           {
            "args": [
             [
              "2013"
             ],
             {
              "frame": {
               "duration": 0,
               "redraw": false
              },
              "fromcurrent": true,
              "mode": "immediate",
              "transition": {
               "duration": 0,
               "easing": "linear"
              }
             }
            ],
            "label": "2013",
            "method": "animate"
           },
           {
            "args": [
             [
              "2014"
             ],
             {
              "frame": {
               "duration": 0,
               "redraw": false
              },
              "fromcurrent": true,
              "mode": "immediate",
              "transition": {
               "duration": 0,
               "easing": "linear"
              }
             }
            ],
            "label": "2014",
            "method": "animate"
           },
           {
            "args": [
             [
              "2015"
             ],
             {
              "frame": {
               "duration": 0,
               "redraw": false
              },
              "fromcurrent": true,
              "mode": "immediate",
              "transition": {
               "duration": 0,
               "easing": "linear"
              }
             }
            ],
            "label": "2015",
            "method": "animate"
           },
           {
            "args": [
             [
              "2016"
             ],
             {
              "frame": {
               "duration": 0,
               "redraw": false
              },
              "fromcurrent": true,
              "mode": "immediate",
              "transition": {
               "duration": 0,
               "easing": "linear"
              }
             }
            ],
            "label": "2016",
            "method": "animate"
           },
           {
            "args": [
             [
              "2017"
             ],
             {
              "frame": {
               "duration": 0,
               "redraw": false
              },
              "fromcurrent": true,
              "mode": "immediate",
              "transition": {
               "duration": 0,
               "easing": "linear"
              }
             }
            ],
            "label": "2017",
            "method": "animate"
           }
          ],
          "x": 0.1,
          "xanchor": "left",
          "y": 0,
          "yanchor": "top"
         }
        ],
        "template": {
         "data": {
          "bar": [
           {
            "error_x": {
             "color": "#2a3f5f"
            },
            "error_y": {
             "color": "#2a3f5f"
            },
            "marker": {
             "line": {
              "color": "#E5ECF6",
              "width": 0.5
             },
             "pattern": {
              "fillmode": "overlay",
              "size": 10,
              "solidity": 0.2
             }
            },
            "type": "bar"
           }
          ],
          "barpolar": [
           {
            "marker": {
             "line": {
              "color": "#E5ECF6",
              "width": 0.5
             },
             "pattern": {
              "fillmode": "overlay",
              "size": 10,
              "solidity": 0.2
             }
            },
            "type": "barpolar"
           }
          ],
          "carpet": [
           {
            "aaxis": {
             "endlinecolor": "#2a3f5f",
             "gridcolor": "white",
             "linecolor": "white",
             "minorgridcolor": "white",
             "startlinecolor": "#2a3f5f"
            },
            "baxis": {
             "endlinecolor": "#2a3f5f",
             "gridcolor": "white",
             "linecolor": "white",
             "minorgridcolor": "white",
             "startlinecolor": "#2a3f5f"
            },
            "type": "carpet"
           }
          ],
          "choropleth": [
           {
            "colorbar": {
             "outlinewidth": 0,
             "ticks": ""
            },
            "type": "choropleth"
           }
          ],
          "contour": [
           {
            "colorbar": {
             "outlinewidth": 0,
             "ticks": ""
            },
            "colorscale": [
             [
              0,
              "#0d0887"
             ],
             [
              0.1111111111111111,
              "#46039f"
             ],
             [
              0.2222222222222222,
              "#7201a8"
             ],
             [
              0.3333333333333333,
              "#9c179e"
             ],
             [
              0.4444444444444444,
              "#bd3786"
             ],
             [
              0.5555555555555556,
              "#d8576b"
             ],
             [
              0.6666666666666666,
              "#ed7953"
             ],
             [
              0.7777777777777778,
              "#fb9f3a"
             ],
             [
              0.8888888888888888,
              "#fdca26"
             ],
             [
              1,
              "#f0f921"
             ]
            ],
            "type": "contour"
           }
          ],
          "contourcarpet": [
           {
            "colorbar": {
             "outlinewidth": 0,
             "ticks": ""
            },
            "type": "contourcarpet"
           }
          ],
          "heatmap": [
           {
            "colorbar": {
             "outlinewidth": 0,
             "ticks": ""
            },
            "colorscale": [
             [
              0,
              "#0d0887"
             ],
             [
              0.1111111111111111,
              "#46039f"
             ],
             [
              0.2222222222222222,
              "#7201a8"
             ],
             [
              0.3333333333333333,
              "#9c179e"
             ],
             [
              0.4444444444444444,
              "#bd3786"
             ],
             [
              0.5555555555555556,
              "#d8576b"
             ],
             [
              0.6666666666666666,
              "#ed7953"
             ],
             [
              0.7777777777777778,
              "#fb9f3a"
             ],
             [
              0.8888888888888888,
              "#fdca26"
             ],
             [
              1,
              "#f0f921"
             ]
            ],
            "type": "heatmap"
           }
          ],
          "heatmapgl": [
           {
            "colorbar": {
             "outlinewidth": 0,
             "ticks": ""
            },
            "colorscale": [
             [
              0,
              "#0d0887"
             ],
             [
              0.1111111111111111,
              "#46039f"
             ],
             [
              0.2222222222222222,
              "#7201a8"
             ],
             [
              0.3333333333333333,
              "#9c179e"
             ],
             [
              0.4444444444444444,
              "#bd3786"
             ],
             [
              0.5555555555555556,
              "#d8576b"
             ],
             [
              0.6666666666666666,
              "#ed7953"
             ],
             [
              0.7777777777777778,
              "#fb9f3a"
             ],
             [
              0.8888888888888888,
              "#fdca26"
             ],
             [
              1,
              "#f0f921"
             ]
            ],
            "type": "heatmapgl"
           }
          ],
          "histogram": [
           {
            "marker": {
             "pattern": {
              "fillmode": "overlay",
              "size": 10,
              "solidity": 0.2
             }
            },
            "type": "histogram"
           }
          ],
          "histogram2d": [
           {
            "colorbar": {
             "outlinewidth": 0,
             "ticks": ""
            },
            "colorscale": [
             [
              0,
              "#0d0887"
             ],
             [
              0.1111111111111111,
              "#46039f"
             ],
             [
              0.2222222222222222,
              "#7201a8"
             ],
             [
              0.3333333333333333,
              "#9c179e"
             ],
             [
              0.4444444444444444,
              "#bd3786"
             ],
             [
              0.5555555555555556,
              "#d8576b"
             ],
             [
              0.6666666666666666,
              "#ed7953"
             ],
             [
              0.7777777777777778,
              "#fb9f3a"
             ],
             [
              0.8888888888888888,
              "#fdca26"
             ],
             [
              1,
              "#f0f921"
             ]
            ],
            "type": "histogram2d"
           }
          ],
          "histogram2dcontour": [
           {
            "colorbar": {
             "outlinewidth": 0,
             "ticks": ""
            },
            "colorscale": [
             [
              0,
              "#0d0887"
             ],
             [
              0.1111111111111111,
              "#46039f"
             ],
             [
              0.2222222222222222,
              "#7201a8"
             ],
             [
              0.3333333333333333,
              "#9c179e"
             ],
             [
              0.4444444444444444,
              "#bd3786"
             ],
             [
              0.5555555555555556,
              "#d8576b"
             ],
             [
              0.6666666666666666,
              "#ed7953"
             ],
             [
              0.7777777777777778,
              "#fb9f3a"
             ],
             [
              0.8888888888888888,
              "#fdca26"
             ],
             [
              1,
              "#f0f921"
             ]
            ],
            "type": "histogram2dcontour"
           }
          ],
          "mesh3d": [
           {
            "colorbar": {
             "outlinewidth": 0,
             "ticks": ""
            },
            "type": "mesh3d"
           }
          ],
          "parcoords": [
           {
            "line": {
             "colorbar": {
              "outlinewidth": 0,
              "ticks": ""
             }
            },
            "type": "parcoords"
           }
          ],
          "pie": [
           {
            "automargin": true,
            "type": "pie"
           }
          ],
          "scatter": [
           {
            "fillpattern": {
             "fillmode": "overlay",
             "size": 10,
             "solidity": 0.2
            },
            "type": "scatter"
           }
          ],
          "scatter3d": [
           {
            "line": {
             "colorbar": {
              "outlinewidth": 0,
              "ticks": ""
             }
            },
            "marker": {
             "colorbar": {
              "outlinewidth": 0,
              "ticks": ""
             }
            },
            "type": "scatter3d"
           }
          ],
          "scattercarpet": [
           {
            "marker": {
             "colorbar": {
              "outlinewidth": 0,
              "ticks": ""
             }
            },
            "type": "scattercarpet"
           }
          ],
          "scattergeo": [
           {
            "marker": {
             "colorbar": {
              "outlinewidth": 0,
              "ticks": ""
             }
            },
            "type": "scattergeo"
           }
          ],
          "scattergl": [
           {
            "marker": {
             "colorbar": {
              "outlinewidth": 0,
              "ticks": ""
             }
            },
            "type": "scattergl"
           }
          ],
          "scattermapbox": [
           {
            "marker": {
             "colorbar": {
              "outlinewidth": 0,
              "ticks": ""
             }
            },
            "type": "scattermapbox"
           }
          ],
          "scatterpolar": [
           {
            "marker": {
             "colorbar": {
              "outlinewidth": 0,
              "ticks": ""
             }
            },
            "type": "scatterpolar"
           }
          ],
          "scatterpolargl": [
           {
            "marker": {
             "colorbar": {
              "outlinewidth": 0,
              "ticks": ""
             }
            },
            "type": "scatterpolargl"
           }
          ],
          "scatterternary": [
           {
            "marker": {
             "colorbar": {
              "outlinewidth": 0,
              "ticks": ""
             }
            },
            "type": "scatterternary"
           }
          ],
          "surface": [
           {
            "colorbar": {
             "outlinewidth": 0,
             "ticks": ""
            },
            "colorscale": [
             [
              0,
              "#0d0887"
             ],
             [
              0.1111111111111111,
              "#46039f"
             ],
             [
              0.2222222222222222,
              "#7201a8"
             ],
             [
              0.3333333333333333,
              "#9c179e"
             ],
             [
              0.4444444444444444,
              "#bd3786"
             ],
             [
              0.5555555555555556,
              "#d8576b"
             ],
             [
              0.6666666666666666,
              "#ed7953"
             ],
             [
              0.7777777777777778,
              "#fb9f3a"
             ],
             [
              0.8888888888888888,
              "#fdca26"
             ],
             [
              1,
              "#f0f921"
             ]
            ],
            "type": "surface"
           }
          ],
          "table": [
           {
            "cells": {
             "fill": {
              "color": "#EBF0F8"
             },
             "line": {
              "color": "white"
             }
            },
            "header": {
             "fill": {
              "color": "#C8D4E3"
             },
             "line": {
              "color": "white"
             }
            },
            "type": "table"
           }
          ]
         },
         "layout": {
          "annotationdefaults": {
           "arrowcolor": "#2a3f5f",
           "arrowhead": 0,
           "arrowwidth": 1
          },
          "autotypenumbers": "strict",
          "coloraxis": {
           "colorbar": {
            "outlinewidth": 0,
            "ticks": ""
           }
          },
          "colorscale": {
           "diverging": [
            [
             0,
             "#8e0152"
            ],
            [
             0.1,
             "#c51b7d"
            ],
            [
             0.2,
             "#de77ae"
            ],
            [
             0.3,
             "#f1b6da"
            ],
            [
             0.4,
             "#fde0ef"
            ],
            [
             0.5,
             "#f7f7f7"
            ],
            [
             0.6,
             "#e6f5d0"
            ],
            [
             0.7,
             "#b8e186"
            ],
            [
             0.8,
             "#7fbc41"
            ],
            [
             0.9,
             "#4d9221"
            ],
            [
             1,
             "#276419"
            ]
           ],
           "sequential": [
            [
             0,
             "#0d0887"
            ],
            [
             0.1111111111111111,
             "#46039f"
            ],
            [
             0.2222222222222222,
             "#7201a8"
            ],
            [
             0.3333333333333333,
             "#9c179e"
            ],
            [
             0.4444444444444444,
             "#bd3786"
            ],
            [
             0.5555555555555556,
             "#d8576b"
            ],
            [
             0.6666666666666666,
             "#ed7953"
            ],
            [
             0.7777777777777778,
             "#fb9f3a"
            ],
            [
             0.8888888888888888,
             "#fdca26"
            ],
            [
             1,
             "#f0f921"
            ]
           ],
           "sequentialminus": [
            [
             0,
             "#0d0887"
            ],
            [
             0.1111111111111111,
             "#46039f"
            ],
            [
             0.2222222222222222,
             "#7201a8"
            ],
            [
             0.3333333333333333,
             "#9c179e"
            ],
            [
             0.4444444444444444,
             "#bd3786"
            ],
            [
             0.5555555555555556,
             "#d8576b"
            ],
            [
             0.6666666666666666,
             "#ed7953"
            ],
            [
             0.7777777777777778,
             "#fb9f3a"
            ],
            [
             0.8888888888888888,
             "#fdca26"
            ],
            [
             1,
             "#f0f921"
            ]
           ]
          },
          "colorway": [
           "#636efa",
           "#EF553B",
           "#00cc96",
           "#ab63fa",
           "#FFA15A",
           "#19d3f3",
           "#FF6692",
           "#B6E880",
           "#FF97FF",
           "#FECB52"
          ],
          "font": {
           "color": "#2a3f5f"
          },
          "geo": {
           "bgcolor": "white",
           "lakecolor": "white",
           "landcolor": "#E5ECF6",
           "showlakes": true,
           "showland": true,
           "subunitcolor": "white"
          },
          "hoverlabel": {
           "align": "left"
          },
          "hovermode": "closest",
          "mapbox": {
           "style": "light"
          },
          "paper_bgcolor": "white",
          "plot_bgcolor": "#E5ECF6",
          "polar": {
           "angularaxis": {
            "gridcolor": "white",
            "linecolor": "white",
            "ticks": ""
           },
           "bgcolor": "#E5ECF6",
           "radialaxis": {
            "gridcolor": "white",
            "linecolor": "white",
            "ticks": ""
           }
          },
          "scene": {
           "xaxis": {
            "backgroundcolor": "#E5ECF6",
            "gridcolor": "white",
            "gridwidth": 2,
            "linecolor": "white",
            "showbackground": true,
            "ticks": "",
            "zerolinecolor": "white"
           },
           "yaxis": {
            "backgroundcolor": "#E5ECF6",
            "gridcolor": "white",
            "gridwidth": 2,
            "linecolor": "white",
            "showbackground": true,
            "ticks": "",
            "zerolinecolor": "white"
           },
           "zaxis": {
            "backgroundcolor": "#E5ECF6",
            "gridcolor": "white",
            "gridwidth": 2,
            "linecolor": "white",
            "showbackground": true,
            "ticks": "",
            "zerolinecolor": "white"
           }
          },
          "shapedefaults": {
           "line": {
            "color": "#2a3f5f"
           }
          },
          "ternary": {
           "aaxis": {
            "gridcolor": "white",
            "linecolor": "white",
            "ticks": ""
           },
           "baxis": {
            "gridcolor": "white",
            "linecolor": "white",
            "ticks": ""
           },
           "bgcolor": "#E5ECF6",
           "caxis": {
            "gridcolor": "white",
            "linecolor": "white",
            "ticks": ""
           }
          },
          "title": {
           "x": 0.05
          },
          "xaxis": {
           "automargin": true,
           "gridcolor": "white",
           "linecolor": "white",
           "ticks": "",
           "title": {
            "standoff": 15
           },
           "zerolinecolor": "white",
           "zerolinewidth": 2
          },
          "yaxis": {
           "automargin": true,
           "gridcolor": "white",
           "linecolor": "white",
           "ticks": "",
           "title": {
            "standoff": 15
           },
           "zerolinecolor": "white",
           "zerolinewidth": 2
          }
         }
        },
        "title": {
         "text": "Scatter Plot of Age and Fertility Rate Year"
        },
        "updatemenus": [
         {
          "buttons": [
           {
            "args": [
             null,
             {
              "frame": {
               "duration": 500,
               "redraw": false
              },
              "fromcurrent": true,
              "mode": "immediate",
              "transition": {
               "duration": 500,
               "easing": "linear"
              }
             }
            ],
            "label": "&#9654;",
            "method": "animate"
           },
           {
            "args": [
             [
              null
             ],
             {
              "frame": {
               "duration": 0,
               "redraw": false
              },
              "fromcurrent": true,
              "mode": "immediate",
              "transition": {
               "duration": 0,
               "easing": "linear"
              }
             }
            ],
            "label": "&#9724;",
            "method": "animate"
           }
          ],
          "direction": "left",
          "pad": {
           "r": 10,
           "t": 70
          },
          "showactive": false,
          "type": "buttons",
          "x": 0.1,
          "xanchor": "right",
          "y": 0,
          "yanchor": "top"
         }
        ],
        "xaxis": {
         "anchor": "y",
         "categoryarray": [
          "[15-19]",
          "[20-24]",
          "[25-29]",
          "[30-34]",
          "[35-39]",
          "[40-44]",
          "[45-49]"
         ],
         "categoryorder": "array",
         "domain": [
          0,
          1
         ],
         "title": {
          "text": "age"
         }
        },
        "yaxis": {
         "anchor": "x",
         "domain": [
          0,
          1
         ],
         "range": [
          0,
          375
         ],
         "title": {
          "text": "fertility_rate"
         }
        }
       }
      }
     },
     "metadata": {},
     "output_type": "display_data"
    }
   ],
   "source": [
    "\n",
    "fig = px.scatter(fertility_age_df_to_calc_spearman, x='age', y='fertility_rate', animation_frame='year',color='age')\n",
    "fig.update_yaxes(range=[0, 375])\n",
    "\n",
    "fig.update_layout(title=f'Scatter Plot of Age and Fertility Rate Year')\n",
    "\n",
    "fig.show()"
   ]
  },
  {
   "attachments": {},
   "cell_type": "markdown",
   "metadata": {},
   "source": [
    "#### Nhận xét:\n",
    "- Dựa vào biểu đồ phân tán và kết quả hệ số Spearman giữa độ tuổi và tỉ lệ sinh sản ta thấy rằng: mối tương quan âm yếu, độ tuổi tăng thì tỉ lệ sinh sản giảm.\n",
    "- Năm 2006(corr_spearman=-0.464) là năm mà tương quan giữa độ tuổi với tỉ lệ sinh sản là mạnh nhất trong 20 năm.\n",
    "- Năm 2002(corr_spearman=-0.425) là năm mà tương quan giữa độ tuổi với tỉ lệ sinh sản là yếu nhất trong 20 năm."
   ]
  },
  {
   "attachments": {},
   "cell_type": "markdown",
   "metadata": {},
   "source": [
    "### 3. Dựa vào các kết quả có trước các năm chạy lại thuật toán `ARIMA` để kiểm tra và đưa ra dự đoán cho tuổi thọ trung bình ở Việt Nam."
   ]
  },
  {
   "attachments": {},
   "cell_type": "markdown",
   "metadata": {},
   "source": [
    "### **Xây dựng mô hình:**\n",
    "\n",
    "- **Thuật toán sử dụng:**\n",
    "    - `ARIMA`: là một mô hình dự báo chuỗi thời gian phổ biến được sử dụng để phân tích và dự báo các chuỗi dữ liệu không tuần hoàn.<br>\n",
    "\n",
    "- **Bước thực hiện:**\n",
    "    - Chia tập dữ liệu thành 2 phần: Test (Sau năm 2017), Train (Từ năm 2017 và trước năm 2017).\n",
    "    - Chạy mô hình với tập dữ liệu Train.\n",
    "        - Thực hiện chạy các giá trị p,d,q trong đoạn [0,2] để tìm ra các siêu tham số tốt nhất cho mô hình dự đoạn\n",
    "    - Tính RMSE để đánh giá mô hình."
   ]
  },
  {
   "attachments": {},
   "cell_type": "markdown",
   "metadata": {},
   "source": [
    "Chọn, trích dữ liệu"
   ]
  },
  {
   "cell_type": "code",
   "execution_count": 31,
   "metadata": {},
   "outputs": [],
   "source": [
    "life_expectancy_arima=df.loc[:,['country_name','year','life_expectancy']].copy()\n",
    "life_expectancy_arima=life_expectancy_arima[life_expectancy_arima.country_name==\"Vietnam\"].set_index('year').sort_index()\n",
    "life_expectancy_arima=life_expectancy_arima.drop('country_name',axis=1)"
   ]
  },
  {
   "attachments": {},
   "cell_type": "markdown",
   "metadata": {},
   "source": [
    "Chia tập thành train và test"
   ]
  },
  {
   "cell_type": "code",
   "execution_count": 32,
   "metadata": {},
   "outputs": [],
   "source": [
    "data_train=life_expectancy_arima.loc[:2018,:]\n",
    "\n",
    "data_test=life_expectancy_arima.loc[2018:,:]"
   ]
  },
  {
   "cell_type": "code",
   "execution_count": 33,
   "metadata": {},
   "outputs": [],
   "source": [
    "# Define the parameter grid for the grid search\n",
    "param_grid = [(p, d, q) for p in np.arange(0,2) for d in np.arange(0,2) for q in np.arange(0,2)]\n",
    "\n",
    "best_score, best_params, best_model = float(\"inf\"), None, None\n",
    "for param in param_grid:\n",
    "    arima_model = ARIMA(data_train, order=param)\n",
    "    arima_result = arima_model.fit()\n",
    "    score = arima_result.aic\n",
    "    if score < best_score:\n",
    "        best_score, best_params, best_model = score, param, arima_result"
   ]
  },
  {
   "cell_type": "code",
   "execution_count": 34,
   "metadata": {},
   "outputs": [
    {
     "name": "stdout",
     "output_type": "stream",
     "text": [
      "Best parameters: (1, 1, 1)\n",
      "                               SARIMAX Results                                \n",
      "==============================================================================\n",
      "Dep. Variable:        life_expectancy   No. Observations:                   30\n",
      "Model:                 ARIMA(1, 1, 1)   Log Likelihood                  80.830\n",
      "Date:                Sat, 06 May 2023   AIC                           -155.660\n",
      "Time:                        15:35:19   BIC                           -151.559\n",
      "Sample:                             0   HQIC                          -154.376\n",
      "                                 - 30                                         \n",
      "Covariance Type:                  opg                                         \n",
      "==============================================================================\n",
      "                 coef    std err          z      P>|z|      [0.025      0.975]\n",
      "------------------------------------------------------------------------------\n",
      "ar.L1          0.9960      0.011     94.500      0.000       0.975       1.017\n",
      "ma.L1          0.7340      0.178      4.122      0.000       0.385       1.083\n",
      "sigma2         0.0002   5.21e-05      3.383      0.001    7.41e-05       0.000\n",
      "===================================================================================\n",
      "Ljung-Box (L1) (Q):                   0.93   Jarque-Bera (JB):                 1.51\n",
      "Prob(Q):                              0.33   Prob(JB):                         0.47\n",
      "Heteroskedasticity (H):               0.87   Skew:                             0.55\n",
      "Prob(H) (two-sided):                  0.83   Kurtosis:                         2.78\n",
      "===================================================================================\n",
      "\n",
      "Warnings:\n",
      "[1] Covariance matrix calculated using the outer product of gradients (complex-step).\n"
     ]
    }
   ],
   "source": [
    "print(f'Best parameters: {best_params}')\n",
    "print(best_model.summary())"
   ]
  },
  {
   "attachments": {},
   "cell_type": "markdown",
   "metadata": {},
   "source": [
    "- Dựa vào kết quá phân tích ta thấy:\n",
    "    - AIC: -155.66 thấp, mô hình dự đoán trên khá tốt."
   ]
  },
  {
   "cell_type": "code",
   "execution_count": 35,
   "metadata": {},
   "outputs": [
    {
     "name": "stdout",
     "output_type": "stream",
     "text": [
      "RMSE:  0.42789853107038545\n"
     ]
    }
   ],
   "source": [
    "n_forecast = 33\n",
    "y_forecast = best_model.forecast(steps=n_forecast)\n",
    "\n",
    "mse=mean_squared_error(data_test,y_forecast)\n",
    "print(\"RMSE: \",np.sqrt(mse))"
   ]
  },
  {
   "attachments": {},
   "cell_type": "markdown",
   "metadata": {},
   "source": [
    "#### Kết luận:\n",
    "- Dựa vào giá trị RMSE = 0.428 và AIC= -1556.66, ta có thể kết luận rằng mô hình trên tốt"
   ]
  },
  {
   "cell_type": "code",
   "execution_count": 36,
   "metadata": {},
   "outputs": [
    {
     "data": {
      "text/plain": [
       "30    74.160138\n",
       "31    74.399325\n",
       "32    74.637564\n",
       "33    74.874859\n",
       "34    75.111214\n",
       "35    75.346632\n",
       "36    75.581118\n",
       "37    75.814674\n",
       "38    76.047306\n",
       "39    76.279015\n",
       "40    76.509807\n",
       "41    76.739684\n",
       "42    76.968650\n",
       "43    77.196709\n",
       "44    77.423865\n",
       "45    77.650120\n",
       "46    77.875479\n",
       "47    78.099945\n",
       "48    78.323522\n",
       "49    78.546213\n",
       "50    78.768022\n",
       "51    78.988952\n",
       "52    79.209006\n",
       "53    79.428189\n",
       "54    79.646503\n",
       "55    79.863952\n",
       "56    80.080540\n",
       "57    80.296270\n",
       "58    80.511144\n",
       "59    80.725168\n",
       "60    80.938343\n",
       "61    81.150674\n",
       "62    81.362164\n",
       "Name: predicted_mean, dtype: float64"
      ]
     },
     "execution_count": 36,
     "metadata": {},
     "output_type": "execute_result"
    }
   ],
   "source": [
    "y_forecast"
   ]
  },
  {
   "attachments": {},
   "cell_type": "markdown",
   "metadata": {},
   "source": [
    "#### Nhận xét:\n",
    "- Dựa theo kết quả dự đoán ta thấy rằng, tuổi thọ trung bình của nước ta càng ngày càng cao. Đến năm 2050 tuổi thọ trung bình dự đoán là hơn 81 tuổi, một mức cao.\n",
    "- Dự đoán trên là có cơ sở, vừa dựa theo số liệu những năm trước đây và những yếu tố tác động đến tuổi thọ như: chăm sóc sức khỏe, chế độ ăn uống, điều kiện sống, môi trường, cơ sở hạ tầng bệnh viện y tế hiện tại của nước ta đang phát triển và đã được nâng cao hơn nhiều. Nên có những tác động tích cực đến tuổi thọ trung bình.\n",
    "- Tuy nhiên vẫn có một số vấn đề khác như: ô nhiễm môi trường, thực phẩm bẩn tràn lan cũng là những yếu tố tác động đến tuổi thọ của chúng ta. Nên việc dự đoạn của mô hình trong khoảng cách thời gian lớn sẽ dễ dẫn đến sai số."
   ]
  }
 ],
 "metadata": {
  "kernelspec": {
   "display_name": "Python 3 (ipykernel)",
   "language": "python",
   "name": "python3"
  },
  "language_info": {
   "codemirror_mode": {
    "name": "ipython",
    "version": 3
   },
   "file_extension": ".py",
   "mimetype": "text/x-python",
   "name": "python",
   "nbconvert_exporter": "python",
   "pygments_lexer": "ipython3",
   "version": "3.8.8"
  }
 },
 "nbformat": 4,
 "nbformat_minor": 2
}
