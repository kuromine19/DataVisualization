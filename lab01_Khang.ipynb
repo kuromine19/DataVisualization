{
 "cells": [
  {
   "attachments": {},
   "cell_type": "markdown",
   "metadata": {},
   "source": [
    "# **ĐỒ ÁN THỰC HÀNH - NHẬP MÔN KHOA HỌC DỮ LIỆU** \n",
    "\n",
    "### Bảng thành viên nhóm 7 \n",
    "|<center><div style=\"width:150px\">MSSV</div><center>|<center><div style=\"width:290px\">Họ và tên</div><center>|\n",
    "|---------- |:-------------:|\n",
    "| <center>20120041<center>  | <center>Trần Kim Bảo<center> |\n",
    "| <center>20120053<center>  |   <center>Nguyễn Thành Đạt<center>   | \n",
    "| <center>20120071<center>  |<center>Nguyễn Thị Bích Hà<center> |\n",
    "| <center>20120084<center>  | <center>Nguyễn Văn Hiếu<center> |\n",
    "| <center>20120113<center>  | <center>Lê Nguyên Khang<center> |"
   ]
  },
  {
   "cell_type": "code",
   "execution_count": 1,
   "metadata": {},
   "outputs": [],
   "source": [
    "import re\n",
    "import pandas as pd\n",
    "import numpy as np\n",
    "import matplotlib.pyplot as plt\n",
    "import seaborn as sns\n",
    "sns.set_theme()\n",
    "import math\n",
    "import copy\n",
    "# from pandas.testing import assert_frame_equal # to compare two dataframes\n",
    "# YOUR CODE HERE (OPTION) \n",
    "# Nếu cần các thư viện khác thì bạn có thể import thêm tại đây"
   ]
  },
  {
   "attachments": {},
   "cell_type": "markdown",
   "metadata": {},
   "source": [
    "## A. Khám phá và tiền xử lý dữ liệu\n"
   ]
  },
  {
   "cell_type": "markdown",
   "metadata": {},
   "source": [
    "### Đọc dữ liệu từ file"
   ]
  },
  {
   "cell_type": "code",
   "execution_count": 2,
   "metadata": {},
   "outputs": [],
   "source": [
    "df=pd.read_csv(\"COVID-19 Survey Student Responses.csv\")"
   ]
  },
  {
   "cell_type": "markdown",
   "metadata": {},
   "source": []
  },
  {
   "attachments": {},
   "cell_type": "markdown",
   "metadata": {},
   "source": [
    "# Câu hỏi: Có phải những người mắc vấn đề sức khỏe trong quá trình đóng cửa xã hội, thường là những đối tượng có max hoặc min trong 1 thuộc tính hay tương quan với thuộc tính nào đó hay không?"
   ]
  },
  {
   "attachments": {},
   "cell_type": "markdown",
   "metadata": {},
   "source": [
    "**Ý nghĩa khi trả lời câu hỏi:**    \n",
    "- Tìm ra nguyên nhân khác gây ra các vấn đề về sức khỏe cho sinh viên ngoài trừ việc mắc covid từ đó củng cố các thói quen sinh hoạt và hạn chế mắc phải vấn đề về sức khỏe.\n",
    "\n",
    "**Nguồn cảm hứng đặt câu hỏi:**\n",
    "- Xuất từ việc muốn bảo vệ sức khỏe - thứ không thể mua được bằng tiền.\n",
    "- Để có thể hiểu thêm về các ngưỡng mà các tác nhân có thể gây hại cho sức khỏe chúng ta.\n",
    "\n",
    "**Hướng thực hiện:**\n",
    "- Trược quan làm rỏ các thuộc tính có ảnh hưởng đến 'Health issue during lockdown'.\n",
    "- Xây dựng mô hình học máy từ các hành vi hay kết quả của hành vi và dự đoán có xảy ra vấn đề về sức khỏe hay không."
   ]
  },
  {
   "attachments": {},
   "cell_type": "markdown",
   "metadata": {},
   "source": [
    "## - Tương quan 2 thuộc tính 'Health issue during lockdown' và 'Time utilized'"
   ]
  },
  {
   "attachments": {},
   "cell_type": "markdown",
   "metadata": {},
   "source": [
    "**Xem xét thuộc tính 'Health issue during lockdown' và 'Time utilized'**"
   ]
  },
  {
   "cell_type": "code",
   "execution_count": 3,
   "metadata": {},
   "outputs": [
    {
     "data": {
      "text/plain": [
       "NO     1021\n",
       "YES     161\n",
       "Name: Health issue during lockdown, dtype: int64"
      ]
     },
     "execution_count": 3,
     "metadata": {},
     "output_type": "execute_result"
    }
   ],
   "source": [
    "df['Health issue during lockdown'].value_counts()"
   ]
  },
  {
   "cell_type": "code",
   "execution_count": 4,
   "metadata": {},
   "outputs": [
    {
     "data": {
      "text/plain": [
       "NO     608\n",
       "YES    574\n",
       "Name: Time utilized, dtype: int64"
      ]
     },
     "execution_count": 4,
     "metadata": {},
     "output_type": "execute_result"
    }
   ],
   "source": [
    "df['Time utilized'].value_counts()"
   ]
  },
  {
   "attachments": {},
   "cell_type": "markdown",
   "metadata": {},
   "source": [
    "**Xem xét thuộc tính 'Health issue during lockdown' biết 'Time utilized' là YES**"
   ]
  },
  {
   "cell_type": "code",
   "execution_count": 5,
   "metadata": {},
   "outputs": [
    {
     "name": "stderr",
     "output_type": "stream",
     "text": [
      "C:\\Users\\ASUS\\AppData\\Local\\Temp\\ipykernel_7368\\2253813917.py:1: UserWarning: Boolean Series key will be reindexed to match DataFrame index.\n",
      "  TU_Y1 = df[df['Time utilized'] == 'YES'][df['Health issue during lockdown'] == 'YES'].shape[0]\n",
      "C:\\Users\\ASUS\\AppData\\Local\\Temp\\ipykernel_7368\\2253813917.py:2: UserWarning: Boolean Series key will be reindexed to match DataFrame index.\n",
      "  TU_Y2 = df[df['Time utilized'] == 'YES'][df['Health issue during lockdown'] == 'NO'].shape[0]\n"
     ]
    },
    {
     "data": {
      "text/plain": [
       "(59, 515)"
      ]
     },
     "execution_count": 5,
     "metadata": {},
     "output_type": "execute_result"
    }
   ],
   "source": [
    "TU_Y1 = df[df['Time utilized'] == 'YES'][df['Health issue during lockdown'] == 'YES'].shape[0]\n",
    "TU_Y2 = df[df['Time utilized'] == 'YES'][df['Health issue during lockdown'] == 'NO'].shape[0]\n",
    "TU_Y1, TU_Y2"
   ]
  },
  {
   "attachments": {},
   "cell_type": "markdown",
   "metadata": {},
   "source": [
    "**Xem xét thuộc tính 'Time utilized' biết 'Health issue during lockdown' là YES**"
   ]
  },
  {
   "cell_type": "code",
   "execution_count": 6,
   "metadata": {},
   "outputs": [
    {
     "name": "stderr",
     "output_type": "stream",
     "text": [
      "C:\\Users\\ASUS\\AppData\\Local\\Temp\\ipykernel_7368\\2461240161.py:1: UserWarning: Boolean Series key will be reindexed to match DataFrame index.\n",
      "  H_Y1 = df[df['Health issue during lockdown'] == 'YES'][df['Time utilized'] == 'YES'].shape[0]\n",
      "C:\\Users\\ASUS\\AppData\\Local\\Temp\\ipykernel_7368\\2461240161.py:2: UserWarning: Boolean Series key will be reindexed to match DataFrame index.\n",
      "  H_Y2 = df[df['Health issue during lockdown'] == 'YES'][df['Time utilized'] == 'NO'].shape[0]\n"
     ]
    },
    {
     "data": {
      "text/plain": [
       "(59, 102)"
      ]
     },
     "execution_count": 6,
     "metadata": {},
     "output_type": "execute_result"
    }
   ],
   "source": [
    "H_Y1 = df[df['Health issue during lockdown'] == 'YES'][df['Time utilized'] == 'YES'].shape[0]\n",
    "H_Y2 = df[df['Health issue during lockdown'] == 'YES'][df['Time utilized'] == 'NO'].shape[0]\n",
    "H_Y1, H_Y2"
   ]
  },
  {
   "attachments": {},
   "cell_type": "markdown",
   "metadata": {},
   "source": [
    "**Trực quan.**"
   ]
  },
  {
   "cell_type": "code",
   "execution_count": 7,
   "metadata": {},
   "outputs": [
    {
     "data": {
      "image/png": "[encoded data removed]",
      "text/plain": [
       "<Figure size 1300x500 with 2 Axes>"
      ]
     },
     "metadata": {},
     "output_type": "display_data"
    }
   ],
   "source": [
    "labels = ['YES', 'NO'] \n",
    "fracs1 = [H_Y1, H_Y2]\n",
    "fracs2 = [TU_Y1, TU_Y2]\n",
    "\n",
    "fig = plt.figure(figsize =(13, 5))\n",
    "ax1 = fig.add_axes([0, 0, .5, .5], aspect = 1)\n",
    "ax1.pie(fracs1, labels = labels, radius = 1.2, autopct='%1.2f%%')\n",
    "ax1.set_title('The pie chart shows \"Time utilized\" when \"Health issue during lockdown\" = YES')\n",
    "\n",
    "ax2 = fig.add_axes([.5, .0, .5, .5], aspect = 1)\n",
    "ax2.pie(fracs2, labels = labels, radius = 1.2, autopct='%1.2f%%')\n",
    "ax2.set_title('The pie chart shows \"Health issue during lockdown\" when \"Time utilized\" = YES')\n",
    "plt.show()\n"
   ]
  },
  {
   "attachments": {},
   "cell_type": "markdown",
   "metadata": {},
   "source": [
    "        Nhận xét\n",
    "- Biểu đồ thứ nhất cho thấy khi đã có vấn đề sức khỏe thì hơn 63% trong số họ đã sử dụng thời gian một cách không hợp lý.\n",
    "- Biểu đồ thứ hai cho thấy rằng khi đã sử dụng thời gian một cách hợp lý thì việc có vấn đề sức khỏe hiếm có thể xảy ra (khoảng 10%)."
   ]
  },
  {
   "attachments": {},
   "cell_type": "markdown",
   "metadata": {},
   "source": [
    "# - Xét thuộc tính 'Number of meals per day'\n",
    "- Dựa vào 'Health issue during lockdown' là No để có dữ liệu nhiều hơn, rõ ràng hơn trong việc trực quan."
   ]
  },
  {
   "attachments": {},
   "cell_type": "markdown",
   "metadata": {},
   "source": [
    "**Số lượng người ăn x buổi một ngày**"
   ]
  },
  {
   "cell_type": "code",
   "execution_count": 8,
   "metadata": {},
   "outputs": [
    {
     "data": {
      "text/plain": [
       "1     41\n",
       "2    287\n",
       "3    610\n",
       "4    229\n",
       "5      8\n",
       "6      2\n",
       "7      4\n",
       "8      1\n",
       "Name: Number of meals per day, dtype: int64"
      ]
     },
     "execution_count": 8,
     "metadata": {},
     "output_type": "execute_result"
    }
   ],
   "source": [
    "sum_pp = df['Number of meals per day'].value_counts()\n",
    "sum_pp = sum_pp.sort_index()\n",
    "sum_pp"
   ]
  },
  {
   "attachments": {},
   "cell_type": "markdown",
   "metadata": {},
   "source": [
    "**Số lượng người ăn x bữa một ngày và không có vấn đề sức khỏe**"
   ]
  },
  {
   "cell_type": "code",
   "execution_count": 9,
   "metadata": {},
   "outputs": [
    {
     "data": {
      "text/plain": [
       "1     32\n",
       "2    235\n",
       "3    534\n",
       "4    206\n",
       "5      7\n",
       "6      2\n",
       "7      4\n",
       "8      1\n",
       "Name: Number of meals per day, dtype: int64"
      ]
     },
     "execution_count": 9,
     "metadata": {},
     "output_type": "execute_result"
    }
   ],
   "source": [
    "sum_pp_N = df[df['Health issue during lockdown'] == 'NO']['Number of meals per day'].value_counts()\n",
    "sum_pp_N = sum_pp_N.sort_index()\n",
    "sum_pp_N"
   ]
  },
  {
   "attachments": {},
   "cell_type": "markdown",
   "metadata": {},
   "source": [
    "**Tính tỉ lệ giữa số người ăn x bữa một ngày mà không có vấn đề sức khỏe với số người ăn x bữa một ngày**"
   ]
  },
  {
   "cell_type": "code",
   "execution_count": 10,
   "metadata": {},
   "outputs": [
    {
     "data": {
      "text/plain": [
       "1    0.780488\n",
       "2    0.818815\n",
       "3    0.875410\n",
       "4    0.899563\n",
       "5    0.875000\n",
       "6    1.000000\n",
       "7    1.000000\n",
       "8    1.000000\n",
       "Name: Number of meals per day, dtype: float64"
      ]
     },
     "execution_count": 10,
     "metadata": {},
     "output_type": "execute_result"
    }
   ],
   "source": [
    "ratio = df[df['Health issue during lockdown'] == 'NO']['Number of meals per day'].value_counts()/ df['Number of meals per day'].value_counts()\n",
    "ratio = ratio.sort_index()\n",
    "ratio"
   ]
  },
  {
   "attachments": {},
   "cell_type": "markdown",
   "metadata": {},
   "source": [
    "**Trực quan.**"
   ]
  },
  {
   "cell_type": "code",
   "execution_count": 11,
   "metadata": {},
   "outputs": [
    {
     "data": {
      "image/png": "[encoded data removed]",
      "text/plain": [
       "<Figure size 1300x500 with 2 Axes>"
      ]
     },
     "metadata": {},
     "output_type": "display_data"
    }
   ],
   "source": [
    "fig, ax1 = plt.subplots(figsize = (13, 5))\n",
    "\n",
    "x = [1, 2, 3, 4, 5, 6, 7, 8]\n",
    "y = ratio[x]*100\n",
    "\n",
    "yy1 = sum_pp.values\n",
    "yy2 = sum_pp_N.values\n",
    "\n",
    "ax2 = ax1.twinx()\n",
    "plot = ax1.bar(x, y, width = 0.4)\n",
    "for value in plot:\n",
    "    height = value.get_height()\n",
    "    ax1.text(value.get_x() + value.get_width()/2., 1.002*height,'%d' % int(height), ha='center', va='bottom')\n",
    "    \n",
    "ax2.plot(x, yy2, label = '\"Health issue during lockdown\" = NO', marker='o', markersize=5, linestyle='-',c = 'springgreen')\n",
    "ax2.plot(x, yy1, label = 'Total', marker='o', markersize=5, linestyle='-',c = 'red')\n",
    "\n",
    "ax1.set_ylabel('Percent')\n",
    "ax1.set_xlabel(\"Number of meals per day\")\n",
    "ax2.set_ylabel('number of people')\n",
    "ax2.legend(loc=\"upper left\")\n",
    "ax2.set_title('chart showing health problems by meal')\n",
    "plt.grid(False)\n",
    "plt.show()"
   ]
  },
  {
   "attachments": {},
   "cell_type": "markdown",
   "metadata": {},
   "source": [
    "      Nhận xét:\n",
    "- Các cột tăng dần lên chứng tỏ việc chia nhiều buổi ăn nhỏ trong ngày sẽ giúp cơ thể hấp thu chất dinh dưỡng tốt hơn từ đó hạn chế việc gặp phải các vấn đề về sức khỏe. \n",
    "- Đa số học sinh đúng 3 bữa một ngày.\n",
    "- Việc ăn từ 6 bữa trở lên thường dành cho các vận động viên, khi này các vấn đề về sức khỏe có thể gặp phải gần như bằng 0.\n",
    "- Phần trăm người không gặp vấn đề sức khi ăn 1 buổi một ngày là thấp nhất - min (78%) hay khi ăn một buổi một ngày khả năng cao sẽ xảy ra các vấn đề về sức khỏe. \n",
    "\n",
    "-> Vậy vấn đề về sức khỏe xả ra nhiều nhất rơi vào min và không gặp các vấn đề sức khỏe nhất cũng rơi vào max của thuộc tính 'Number of meals per day'."
   ]
  },
  {
   "attachments": {},
   "cell_type": "markdown",
   "metadata": {},
   "source": [
    "# - Xét thuộc tính 'Time spent on sleep'\n",
    "        Chia dữ liệu thành 2 phần:\n",
    "- Dữ liệu có 'Time spent on sleep' trong khoảng (6,9), là dữ liệu có thời gian ngủ hợp lý.\n",
    "- Dữ liệu có 'Time spent on sleep'< 6 hoặc > 9, là dữ liệu có thời gian ngủ không hợp lý.\n",
    " "
   ]
  },
  {
   "attachments": {},
   "cell_type": "markdown",
   "metadata": {},
   "source": [
    "**Ta lọc dữ liệu chọn nhóm dữ liệu có thời gian ngủ <= 6 hoặc >=9**\n",
    "\n",
    "**Tính tỉ lệ số người ngủ x(h) không có vấn đề sức khỏe trên số người ngủ x(h)**\n",
    "\n",
    "**Tính trung bình cộng tập tỉ lệ trên**"
   ]
  },
  {
   "cell_type": "code",
   "execution_count": 12,
   "metadata": {},
   "outputs": [
    {
     "data": {
      "text/plain": [
       "0.877407196763318"
      ]
     },
     "execution_count": 12,
     "metadata": {},
     "output_type": "execute_result"
    }
   ],
   "source": [
    "filter1 = df['Time spent on sleep'] <= 6\n",
    "filter2 = df['Time spent on sleep'] >= 9\n",
    "\n",
    "tmp = df.where( filter2 | filter1) # Lọc các dữ liệu thỏa điều kiện\n",
    "\n",
    "#Tính tỉ lệ số người ngủ x(h) không có vấn đề sức khỏe trên số người ngủ x(h)\n",
    "z = tmp[tmp['Health issue during lockdown'] == 'NO']['Time spent on sleep'].value_counts()/ tmp['Time spent on sleep'].value_counts()\n",
    "bad = np.mean(z.values) # Trung bình cộng tập tỉ lệ trên.\n",
    "bad"
   ]
  },
  {
   "attachments": {},
   "cell_type": "markdown",
   "metadata": {},
   "source": [
    "**Ta lọc dữ liệu chọn nhóm dữ liệu có thời gian ngủ 6< và <9**\n",
    "\n",
    "**Tính tỉ lệ số người ngủ x(h) không có vấn đề sức khỏe trên số người ngủ x(h)**\n",
    "\n",
    "**Tính trung bình cộng tập tỉ lệ trên**"
   ]
  },
  {
   "cell_type": "code",
   "execution_count": 13,
   "metadata": {},
   "outputs": [
    {
     "data": {
      "text/plain": [
       "0.9641376201923078"
      ]
     },
     "execution_count": 13,
     "metadata": {},
     "output_type": "execute_result"
    }
   ],
   "source": [
    "filter1 = df['Time spent on sleep'] > 6\n",
    "filter2 = df['Time spent on sleep'] < 9\n",
    "\n",
    "tmp = df.where( filter2 & filter1)\n",
    "z = tmp[tmp['Health issue during lockdown'] == 'NO']['Time spent on sleep'].value_counts()/ tmp['Time spent on sleep'].value_counts()\n",
    "good = np.mean(z.values)\n",
    "good"
   ]
  },
  {
   "attachments": {},
   "cell_type": "markdown",
   "metadata": {},
   "source": [
    "**Trực quan.**"
   ]
  },
  {
   "cell_type": "code",
   "execution_count": 14,
   "metadata": {},
   "outputs": [
    {
     "data": {
      "image/png": "[encoded data removed]",
      "text/plain": [
       "<Figure size 1000x500 with 1 Axes>"
      ]
     },
     "metadata": {},
     "output_type": "display_data"
    }
   ],
   "source": [
    "fig = plt.figure(figsize = (10, 5))\n",
    "x = ['(6, 9) h', 'remaining time']\n",
    "y = [good*100, bad*100]\n",
    "plot = plt.bar(x, y, width = 0.4)\n",
    "\n",
    "for value in plot:\n",
    "    height = value.get_height()\n",
    "    plt.text(value.get_x() + value.get_width()/2.,1.002*height,'%d' % int(height), ha='center', va='bottom')\n",
    "    \n",
    "plt.xlabel(\"Time spent on sleep\")\n",
    "# plt.set_xticks(y)\n",
    "plt.ylabel(\"Percent\")\n",
    "plt.title(\"Percentage of sleep time without health problems\")\n",
    "plt.show()"
   ]
  },
  {
   "attachments": {},
   "cell_type": "markdown",
   "metadata": {},
   "source": [
    "        Nhận xét:\n",
    "- Nhìn chung các sinh viên bên trong dữ liệu đều có thời gian ngủ từ 4 tiếng trở lên nên cũng không quá nhiều vấn đề sức khỏe được xảy ra hay phần trăm không có vấn đề về sức khỏe cao.\n",
    "- Khoảng thời gian ngủ được cho là tốt( khoảng (6, 9)) thì có phần trăm không xảy ra các vấn đề về sức khỏe cao (96%) hơn là khi ngủ ngoài khoảng thời gian này. "
   ]
  },
  {
   "attachments": {},
   "cell_type": "markdown",
   "metadata": {},
   "source": [
    "# - Xét thuộc tính 'Time spent on fitness'\n",
    "        chia dữ liệu thành 2 phần\n",
    "\n",
    "- Dữ liệu có 'Time spent on fitness' = 0, là dữ liệu không tập thể dục.\n",
    "- Dữ liệu có 'Time spent on fitness' > 0 là dữ liệu có tập thể dục."
   ]
  },
  {
   "attachments": {},
   "cell_type": "markdown",
   "metadata": {},
   "source": [
    "**Ta lọc dữ liệu chọn nhóm dữ liệu có thời gian tập thể dục = 0**\n",
    "\n",
    "**Tính tỉ lệ số người không tập thể dục không có vấn đề sức khỏe trên số người không tập thể dục**\n",
    "\n",
    "**Tính trung bình cộng tập tỉ lệ trên**"
   ]
  },
  {
   "cell_type": "code",
   "execution_count": 15,
   "metadata": {},
   "outputs": [
    {
     "data": {
      "text/plain": [
       "0.8281622911694511"
      ]
     },
     "execution_count": 15,
     "metadata": {},
     "output_type": "execute_result"
    }
   ],
   "source": [
    "filter = df['Time spent on fitness'] == 0\n",
    "tmp = df.where( filter)\n",
    "# Tính tỉ lệ số người không tập thể dục không có vấn đề sức khỏe trên số người không tập thể dục\n",
    "z = tmp[tmp['Health issue during lockdown'] == 'NO']['Time spent on fitness'].value_counts()/ tmp['Time spent on fitness'].value_counts()\n",
    "bad = np.mean(z.values) # Trung bình của tập tỉ lệ.\n",
    "bad"
   ]
  },
  {
   "attachments": {},
   "cell_type": "markdown",
   "metadata": {},
   "source": [
    "**Ta lọc dữ liệu chọn nhóm dữ liệu có thời gian tập thể dục > 0**\n",
    "\n",
    "**Tính tỉ lệ số người có tập thể dục không có vấn đề sức khỏe trên số người có tập thể dục**\n",
    "\n",
    "**Tính trung bình cộng tập tỉ lệ trên**"
   ]
  },
  {
   "cell_type": "code",
   "execution_count": 16,
   "metadata": {},
   "outputs": [
    {
     "data": {
      "text/plain": [
       "0.9147125704484195"
      ]
     },
     "execution_count": 16,
     "metadata": {},
     "output_type": "execute_result"
    }
   ],
   "source": [
    "filter = df['Time spent on fitness'] > 0\n",
    "tmp = df.where( filter)\n",
    "z = tmp[tmp['Health issue during lockdown'] == 'NO']['Time spent on fitness'].value_counts()/ tmp['Time spent on fitness'].value_counts()\n",
    "good = np.mean(z.values)\n",
    "good"
   ]
  },
  {
   "attachments": {},
   "cell_type": "markdown",
   "metadata": {},
   "source": [
    "**Trực quan.**"
   ]
  },
  {
   "cell_type": "code",
   "execution_count": 17,
   "metadata": {},
   "outputs": [
    {
     "data": {
      "image/png": "[encoded data removed]",
      "text/plain": [
       "<Figure size 1000x500 with 1 Axes>"
      ]
     },
     "metadata": {},
     "output_type": "display_data"
    }
   ],
   "source": [
    "fig = plt.figure(figsize = (10, 5))\n",
    "x = ['> 0 h', '0 h']\n",
    "y = [good*100, bad*100]\n",
    "plot = plt.bar(x, y, width = 0.4)\n",
    "\n",
    "for value in plot:\n",
    "    height = value.get_height()\n",
    "    plt.text(value.get_x() + value.get_width()/2.,1.002*height,'%d' % int(height), ha='center', va='bottom')\n",
    "    \n",
    "plt.xlabel(\"Time spent on fitness\")\n",
    "# plt.set_xticks(y)\n",
    "plt.ylabel(\"Percent\")\n",
    "plt.title(\"Percentage of time exercise does not cause health problems\")\n",
    "plt.show()"
   ]
  },
  {
   "attachments": {},
   "cell_type": "markdown",
   "metadata": {},
   "source": [
    "        Nhận xét:\n",
    "- Dữ liệu cho thấy việc có tập thể dục cho tỉ lệ phần trăm không có vấn đề sức khỏe cap hơn 10% so với những người không tập thể dục."
   ]
  },
  {
   "attachments": {},
   "cell_type": "markdown",
   "metadata": {},
   "source": [
    "# - Xét thuộc tính 'Change in your weight'."
   ]
  },
  {
   "attachments": {},
   "cell_type": "markdown",
   "metadata": {},
   "source": [
    "**Xem xét thuộc tính 'Change in your weight'**"
   ]
  },
  {
   "cell_type": "code",
   "execution_count": 18,
   "metadata": {},
   "outputs": [
    {
     "data": {
      "text/plain": [
       "Remain Constant    535\n",
       "Increased          438\n",
       "Decreased          209\n",
       "Name: Change in your weight, dtype: int64"
      ]
     },
     "execution_count": 18,
     "metadata": {},
     "output_type": "execute_result"
    }
   ],
   "source": [
    "df['Change in your weight'].value_counts()"
   ]
  },
  {
   "cell_type": "code",
   "execution_count": 19,
   "metadata": {},
   "outputs": [
    {
     "data": {
      "text/plain": [
       "Increased          59\n",
       "Remain Constant    52\n",
       "Decreased          50\n",
       "Name: Change in your weight, dtype: int64"
      ]
     },
     "execution_count": 19,
     "metadata": {},
     "output_type": "execute_result"
    }
   ],
   "source": [
    "df[df['Health issue during lockdown'] == 'YES']['Change in your weight'].value_counts()"
   ]
  },
  {
   "attachments": {},
   "cell_type": "markdown",
   "metadata": {},
   "source": [
    "**Tính tỉ lệ khi 'Health issue during lockdown' = 'NO'**"
   ]
  },
  {
   "cell_type": "code",
   "execution_count": 20,
   "metadata": {},
   "outputs": [
    {
     "data": {
      "text/plain": [
       "Decreased          0.760766\n",
       "Increased          0.865297\n",
       "Remain Constant    0.902804\n",
       "Name: Change in your weight, dtype: float64"
      ]
     },
     "execution_count": 20,
     "metadata": {},
     "output_type": "execute_result"
    }
   ],
   "source": [
    "percent1 = df[df['Health issue during lockdown'] == 'NO']['Change in your weight'].value_counts()/df['Change in your weight'].value_counts()\n",
    "percent1 = percent1.sort_index()\n",
    "percent1"
   ]
  },
  {
   "attachments": {},
   "cell_type": "markdown",
   "metadata": {},
   "source": [
    "**Tính tỉ lệ khi 'Health issue during lockdown' = 'YES'**"
   ]
  },
  {
   "cell_type": "code",
   "execution_count": 21,
   "metadata": {},
   "outputs": [
    {
     "data": {
      "text/plain": [
       "Decreased          0.239234\n",
       "Increased          0.134703\n",
       "Remain Constant    0.097196\n",
       "Name: Change in your weight, dtype: float64"
      ]
     },
     "execution_count": 21,
     "metadata": {},
     "output_type": "execute_result"
    }
   ],
   "source": [
    "percent2 = df[df['Health issue during lockdown'] == 'YES']['Change in your weight'].value_counts()/df['Change in your weight'].value_counts()\n",
    "percent2 = percent2.sort_index()\n",
    "percent2"
   ]
  },
  {
   "cell_type": "code",
   "execution_count": 22,
   "metadata": {},
   "outputs": [
    {
     "data": {
      "image/png": "[encoded data removed]",
      "text/plain": [
       "<Figure size 1000x500 with 1 Axes>"
      ]
     },
     "metadata": {},
     "output_type": "display_data"
    }
   ],
   "source": [
    "x = percent1.keys()\n",
    "y1 = percent1.values*100\n",
    "y2 = percent2.values*100\n",
    "index = np.arange(1, len(x) + 1)\n",
    "width = 0.4\n",
    "plt.figure(figsize=(10, 5))\n",
    "plot = plt.bar(index, y1, width)\n",
    "for value in plot:\n",
    "    height = value.get_height()\n",
    "    plt.text(value.get_x() + value.get_width()/2.,1.002*height,'%d' % int(height), ha='center', va='bottom')\n",
    "\n",
    "plot1 = plt.bar(index + width, y2, width)\n",
    "for value in plot1:\n",
    "    height = value.get_height()\n",
    "    plt.text(value.get_x() + value.get_width()/2.,1.002*height,'%d' % int(height), ha='center', va='bottom')\n",
    "    \n",
    "plt.xticks(index + width/2, x, fontsize = 8)\n",
    "plt.legend([\"'Health issue during lockdown = NO'\", \"Health issue during lockdown = YES\"], fontsize = 8)\n",
    "plt.plot(index, y1, marker='o', markersize=7, linestyle='-', linewidth=1)\n",
    "plt.plot(index + width, y2, marker='o', markersize=7, linestyle='-', linewidth=1)\n",
    "plt.xlabel(\"Change in your weight\", fontsize = 8)\n",
    "plt.ylabel(\"Percent\", fontsize = 8)\n",
    "plt.title(\"Chart showing health problems according to weight change\", fontsize = 8)\n",
    "# plt.legend(loc=\"upper left\")\n",
    "\n",
    "plt.grid(True)"
   ]
  },
  {
   "attachments": {},
   "cell_type": "markdown",
   "metadata": {},
   "source": [
    "        Nhận xét:\n",
    "- Cột xanh cho ta thấy phần trăm không có vấn đề sức khỏe cao nhất ở nhóm người không thay đổi cân nặng. Việc có biến đổi cân nặng tăng khả năng gây ra các vấn đề về sức khỏe cụ thể là việc giảm cần sẽ dễ gây ra các vấn đề về sức khỏe hơn (cột xanh của Decreased thấp nhất).\n",
    "- Cột cam thể hiện hoàn toàn ngược lại. Khi gặp các vấn đề về sức khỏe, cột không đổi cân nặng thấp nhất , cột giảm cân là cao nhất.\n",
    "\n",
    "        Có vẻ như việc tăng cân chưa chắc đã đáng lo, đáng lo ngại là việc giảm cân !!!"
   ]
  },
  {
   "attachments": {},
   "cell_type": "markdown",
   "metadata": {},
   "source": [
    "# Mô hình"
   ]
  },
  {
   "attachments": {},
   "cell_type": "markdown",
   "metadata": {},
   "source": [
    "**Chọn dữ liệu đặc trưng (features)**"
   ]
  },
  {
   "cell_type": "code",
   "execution_count": 23,
   "metadata": {},
   "outputs": [],
   "source": [
    "feature_cols = ['Time spent on sleep', 'Number of meals per day', 'Change in your weight', 'Time utilized']\n",
    "X = df[feature_cols] # Features\n",
    "X = X.copy()\n",
    "y = df['Health issue during lockdown'] # Target variable"
   ]
  },
  {
   "cell_type": "code",
   "execution_count": 24,
   "metadata": {},
   "outputs": [
    {
     "data": {
      "text/html": [
       "<div>\n",
       "<style scoped>\n",
       "    .dataframe tbody tr th:only-of-type {\n",
       "        vertical-align: middle;\n",
       "    }\n",
       "\n",
       "    .dataframe tbody tr th {\n",
       "        vertical-align: top;\n",
       "    }\n",
       "\n",
       "    .dataframe thead th {\n",
       "        text-align: right;\n",
       "    }\n",
       "</style>\n",
       "<table border=\"1\" class=\"dataframe\">\n",
       "  <thead>\n",
       "    <tr style=\"text-align: right;\">\n",
       "      <th></th>\n",
       "      <th>Time spent on sleep</th>\n",
       "      <th>Number of meals per day</th>\n",
       "      <th>Change in your weight</th>\n",
       "      <th>Time utilized</th>\n",
       "    </tr>\n",
       "  </thead>\n",
       "  <tbody>\n",
       "    <tr>\n",
       "      <th>0</th>\n",
       "      <td>7.0</td>\n",
       "      <td>4</td>\n",
       "      <td>Increased</td>\n",
       "      <td>YES</td>\n",
       "    </tr>\n",
       "    <tr>\n",
       "      <th>1</th>\n",
       "      <td>10.0</td>\n",
       "      <td>3</td>\n",
       "      <td>Decreased</td>\n",
       "      <td>YES</td>\n",
       "    </tr>\n",
       "    <tr>\n",
       "      <th>2</th>\n",
       "      <td>6.0</td>\n",
       "      <td>3</td>\n",
       "      <td>Remain Constant</td>\n",
       "      <td>NO</td>\n",
       "    </tr>\n",
       "    <tr>\n",
       "      <th>3</th>\n",
       "      <td>6.0</td>\n",
       "      <td>3</td>\n",
       "      <td>Decreased</td>\n",
       "      <td>NO</td>\n",
       "    </tr>\n",
       "    <tr>\n",
       "      <th>4</th>\n",
       "      <td>8.0</td>\n",
       "      <td>4</td>\n",
       "      <td>Remain Constant</td>\n",
       "      <td>NO</td>\n",
       "    </tr>\n",
       "    <tr>\n",
       "      <th>...</th>\n",
       "      <td>...</td>\n",
       "      <td>...</td>\n",
       "      <td>...</td>\n",
       "      <td>...</td>\n",
       "    </tr>\n",
       "    <tr>\n",
       "      <th>1177</th>\n",
       "      <td>8.0</td>\n",
       "      <td>3</td>\n",
       "      <td>Decreased</td>\n",
       "      <td>YES</td>\n",
       "    </tr>\n",
       "    <tr>\n",
       "      <th>1178</th>\n",
       "      <td>9.0</td>\n",
       "      <td>4</td>\n",
       "      <td>Remain Constant</td>\n",
       "      <td>YES</td>\n",
       "    </tr>\n",
       "    <tr>\n",
       "      <th>1179</th>\n",
       "      <td>8.0</td>\n",
       "      <td>4</td>\n",
       "      <td>Decreased</td>\n",
       "      <td>NO</td>\n",
       "    </tr>\n",
       "    <tr>\n",
       "      <th>1180</th>\n",
       "      <td>8.0</td>\n",
       "      <td>4</td>\n",
       "      <td>Remain Constant</td>\n",
       "      <td>YES</td>\n",
       "    </tr>\n",
       "    <tr>\n",
       "      <th>1181</th>\n",
       "      <td>7.0</td>\n",
       "      <td>3</td>\n",
       "      <td>Remain Constant</td>\n",
       "      <td>YES</td>\n",
       "    </tr>\n",
       "  </tbody>\n",
       "</table>\n",
       "<p>1182 rows × 4 columns</p>\n",
       "</div>"
      ],
      "text/plain": [
       "      Time spent on sleep  Number of meals per day Change in your weight  \\\n",
       "0                     7.0                        4             Increased   \n",
       "1                    10.0                        3             Decreased   \n",
       "2                     6.0                        3       Remain Constant   \n",
       "3                     6.0                        3             Decreased   \n",
       "4                     8.0                        4       Remain Constant   \n",
       "...                   ...                      ...                   ...   \n",
       "1177                  8.0                        3             Decreased   \n",
       "1178                  9.0                        4       Remain Constant   \n",
       "1179                  8.0                        4             Decreased   \n",
       "1180                  8.0                        4       Remain Constant   \n",
       "1181                  7.0                        3       Remain Constant   \n",
       "\n",
       "     Time utilized  \n",
       "0              YES  \n",
       "1              YES  \n",
       "2               NO  \n",
       "3               NO  \n",
       "4               NO  \n",
       "...            ...  \n",
       "1177           YES  \n",
       "1178           YES  \n",
       "1179            NO  \n",
       "1180           YES  \n",
       "1181           YES  \n",
       "\n",
       "[1182 rows x 4 columns]"
      ]
     },
     "execution_count": 24,
     "metadata": {},
     "output_type": "execute_result"
    }
   ],
   "source": [
    "X"
   ]
  },
  {
   "attachments": {},
   "cell_type": "markdown",
   "metadata": {},
   "source": [
    "**Chuẩn hóa dữ liệu dạng numeric.**"
   ]
  },
  {
   "cell_type": "code",
   "execution_count": 25,
   "metadata": {},
   "outputs": [
    {
     "data": {
      "text/html": [
       "<div>\n",
       "<style scoped>\n",
       "    .dataframe tbody tr th:only-of-type {\n",
       "        vertical-align: middle;\n",
       "    }\n",
       "\n",
       "    .dataframe tbody tr th {\n",
       "        vertical-align: top;\n",
       "    }\n",
       "\n",
       "    .dataframe thead th {\n",
       "        text-align: right;\n",
       "    }\n",
       "</style>\n",
       "<table border=\"1\" class=\"dataframe\">\n",
       "  <thead>\n",
       "    <tr style=\"text-align: right;\">\n",
       "      <th></th>\n",
       "      <th>Time spent on sleep</th>\n",
       "      <th>Number of meals per day</th>\n",
       "      <th>Change in your weight</th>\n",
       "      <th>Time utilized</th>\n",
       "    </tr>\n",
       "  </thead>\n",
       "  <tbody>\n",
       "    <tr>\n",
       "      <th>0</th>\n",
       "      <td>7.0</td>\n",
       "      <td>4</td>\n",
       "      <td>1</td>\n",
       "      <td>1</td>\n",
       "    </tr>\n",
       "    <tr>\n",
       "      <th>1</th>\n",
       "      <td>10.0</td>\n",
       "      <td>3</td>\n",
       "      <td>2</td>\n",
       "      <td>1</td>\n",
       "    </tr>\n",
       "    <tr>\n",
       "      <th>2</th>\n",
       "      <td>6.0</td>\n",
       "      <td>3</td>\n",
       "      <td>3</td>\n",
       "      <td>0</td>\n",
       "    </tr>\n",
       "    <tr>\n",
       "      <th>3</th>\n",
       "      <td>6.0</td>\n",
       "      <td>3</td>\n",
       "      <td>2</td>\n",
       "      <td>0</td>\n",
       "    </tr>\n",
       "    <tr>\n",
       "      <th>4</th>\n",
       "      <td>8.0</td>\n",
       "      <td>4</td>\n",
       "      <td>3</td>\n",
       "      <td>0</td>\n",
       "    </tr>\n",
       "    <tr>\n",
       "      <th>...</th>\n",
       "      <td>...</td>\n",
       "      <td>...</td>\n",
       "      <td>...</td>\n",
       "      <td>...</td>\n",
       "    </tr>\n",
       "    <tr>\n",
       "      <th>1177</th>\n",
       "      <td>8.0</td>\n",
       "      <td>3</td>\n",
       "      <td>2</td>\n",
       "      <td>1</td>\n",
       "    </tr>\n",
       "    <tr>\n",
       "      <th>1178</th>\n",
       "      <td>9.0</td>\n",
       "      <td>4</td>\n",
       "      <td>3</td>\n",
       "      <td>1</td>\n",
       "    </tr>\n",
       "    <tr>\n",
       "      <th>1179</th>\n",
       "      <td>8.0</td>\n",
       "      <td>4</td>\n",
       "      <td>2</td>\n",
       "      <td>0</td>\n",
       "    </tr>\n",
       "    <tr>\n",
       "      <th>1180</th>\n",
       "      <td>8.0</td>\n",
       "      <td>4</td>\n",
       "      <td>3</td>\n",
       "      <td>1</td>\n",
       "    </tr>\n",
       "    <tr>\n",
       "      <th>1181</th>\n",
       "      <td>7.0</td>\n",
       "      <td>3</td>\n",
       "      <td>3</td>\n",
       "      <td>1</td>\n",
       "    </tr>\n",
       "  </tbody>\n",
       "</table>\n",
       "<p>1182 rows × 4 columns</p>\n",
       "</div>"
      ],
      "text/plain": [
       "      Time spent on sleep  Number of meals per day  Change in your weight  \\\n",
       "0                     7.0                        4                      1   \n",
       "1                    10.0                        3                      2   \n",
       "2                     6.0                        3                      3   \n",
       "3                     6.0                        3                      2   \n",
       "4                     8.0                        4                      3   \n",
       "...                   ...                      ...                    ...   \n",
       "1177                  8.0                        3                      2   \n",
       "1178                  9.0                        4                      3   \n",
       "1179                  8.0                        4                      2   \n",
       "1180                  8.0                        4                      3   \n",
       "1181                  7.0                        3                      3   \n",
       "\n",
       "      Time utilized  \n",
       "0                 1  \n",
       "1                 1  \n",
       "2                 0  \n",
       "3                 0  \n",
       "4                 0  \n",
       "...             ...  \n",
       "1177              1  \n",
       "1178              1  \n",
       "1179              0  \n",
       "1180              1  \n",
       "1181              1  \n",
       "\n",
       "[1182 rows x 4 columns]"
      ]
     },
     "execution_count": 25,
     "metadata": {},
     "output_type": "execute_result"
    }
   ],
   "source": [
    "X['Time utilized'] = pd.get_dummies(X[ 'Time utilized'],drop_first=True)\n",
    "tmp_weight = {'Increased': 1, 'Decreased': 2, 'Remain Constant': 3 } \n",
    "X['Change in your weight'] = X['Change in your weight'].map(tmp_weight)\n",
    "X"
   ]
  },
  {
   "attachments": {},
   "cell_type": "markdown",
   "metadata": {},
   "source": [
    "**Spliting the dataset**\n",
    "- Để tránh việc overfitting trong quá trình học ta chia tập dữ liệu thành 2 phần 70% dùng để train và 30% dùng để test (XX, YY -> X_train, X_test, y_train, y_test) "
   ]
  },
  {
   "cell_type": "code",
   "execution_count": 26,
   "metadata": {},
   "outputs": [],
   "source": [
    "from sklearn.model_selection import train_test_split \n",
    "from sklearn import metrics \n",
    "\n",
    "X_train, X_test, y_train, y_test = train_test_split(X, y, test_size=0.3, random_state=1) # 70% training and 30% test"
   ]
  },
  {
   "attachments": {},
   "cell_type": "markdown",
   "metadata": {},
   "source": [
    "**Training machine learning model**"
   ]
  },
  {
   "cell_type": "code",
   "execution_count": 27,
   "metadata": {},
   "outputs": [],
   "source": [
    "from sklearn.tree import DecisionTreeClassifier\n",
    "\n",
    "Dtree = DecisionTreeClassifier()\n",
    "Dtree = Dtree.fit(X_train,y_train)\n",
    "\n",
    "#Predict \n",
    "y_pred = Dtree.predict(X_test)\n"
   ]
  },
  {
   "attachments": {},
   "cell_type": "markdown",
   "metadata": {},
   "source": [
    "**Đánh giá hiệu suất model với tập test**"
   ]
  },
  {
   "cell_type": "code",
   "execution_count": 28,
   "metadata": {},
   "outputs": [
    {
     "name": "stdout",
     "output_type": "stream",
     "text": [
      "Accuracy: 0.8507042253521127\n"
     ]
    }
   ],
   "source": [
    "# Model Accuracy, how often is the classifier correct?\n",
    "print(\"Accuracy:\",metrics.accuracy_score(y_test, y_pred))"
   ]
  }
 ],
 "metadata": {
  "kernelspec": {
   "display_name": "Python 3",
   "language": "python",
   "name": "python3"
  },
  "language_info": {
   "codemirror_mode": {
    "name": "ipython",
    "version": 3
   },
   "file_extension": ".py",
   "mimetype": "text/x-python",
   "name": "python",
   "nbconvert_exporter": "python",
   "pygments_lexer": "ipython3",
   "version": "3.10.7"
  },
  "orig_nbformat": 4,
  "vscode": {
   "interpreter": {
    "hash": "27f6fea6f47ae512550f0b8facdbd035a93e1dd89633f7bf2dd00a2502c71d0d"
   }
  }
 },
 "nbformat": 4,
 "nbformat_minor": 2
}
